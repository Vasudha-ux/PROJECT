{
  "nbformat": 4,
  "nbformat_minor": 0,
  "metadata": {
    "colab": {
      "provenance": []
    },
    "kernelspec": {
      "name": "python3",
      "display_name": "Python 3"
    },
    "language_info": {
      "name": "python"
    }
  },
  "cells": [
    {
      "cell_type": "markdown",
      "source": [
        "# Project"
      ],
      "metadata": {
        "id": "Wd41Ucyb-pbM"
      }
    },
    {
      "cell_type": "code",
      "execution_count": 6,
      "metadata": {
        "id": "KZjOmf_ll44i"
      },
      "outputs": [],
      "source": [
        "import pandas as pd\n"
      ]
    },
    {
      "cell_type": "code",
      "source": [
        "import numpy as np"
      ],
      "metadata": {
        "id": "6GpHDmmFtPVb"
      },
      "execution_count": 7,
      "outputs": []
    },
    {
      "cell_type": "code",
      "source": [
        "df = pd.read_csv(\"https://github.com/YBI-Foundation/Dataset/raw/main/Movies%20Recommendation.csv\")"
      ],
      "metadata": {
        "id": "MaWZohQJtSVD"
      },
      "execution_count": 8,
      "outputs": []
    },
    {
      "cell_type": "code",
      "source": [
        "df.head()"
      ],
      "metadata": {
        "colab": {
          "base_uri": "https://localhost:8080/",
          "height": 672
        },
        "id": "OcO6GGyytrGu",
        "outputId": "2f5b3817-e9a4-43cc-c12a-a30e17f3d981"
      },
      "execution_count": 9,
      "outputs": [
        {
          "output_type": "execute_result",
          "data": {
            "text/plain": [
              "   Movie_ID      Movie_Title                       Movie_Genre Movie_Language  \\\n",
              "0         1       Four Rooms                      Crime Comedy             en   \n",
              "1         2        Star Wars  Adventure Action Science Fiction             en   \n",
              "2         3     Finding Nemo                  Animation Family             en   \n",
              "3         4     Forrest Gump              Comedy Drama Romance             en   \n",
              "4         5  American Beauty                             Drama             en   \n",
              "\n",
              "   Movie_Budget  Movie_Popularity Movie_Release_Date  Movie_Revenue  \\\n",
              "0       4000000         22.876230         09-12-1995        4300000   \n",
              "1      11000000        126.393695         25-05-1977      775398007   \n",
              "2      94000000         85.688789         30-05-2003      940335536   \n",
              "3      55000000        138.133331         06-07-1994      677945399   \n",
              "4      15000000         80.878605         15-09-1999      356296601   \n",
              "\n",
              "   Movie_Runtime  Movie_Vote  ...  \\\n",
              "0           98.0         6.5  ...   \n",
              "1          121.0         8.1  ...   \n",
              "2          100.0         7.6  ...   \n",
              "3          142.0         8.2  ...   \n",
              "4          122.0         7.9  ...   \n",
              "\n",
              "                                      Movie_Homepage  \\\n",
              "0                                                NaN   \n",
              "1  http://www.starwars.com/films/star-wars-episod...   \n",
              "2              http://movies.disney.com/finding-nemo   \n",
              "3                                                NaN   \n",
              "4                      http://www.dreamworks.com/ab/   \n",
              "\n",
              "                                      Movie_Keywords  \\\n",
              "0          hotel new year's eve witch bet hotel room   \n",
              "1        android galaxy hermit death star lightsaber   \n",
              "2  father son relationship harbor underwater fish...   \n",
              "3  vietnam veteran hippie mentally disabled runni...   \n",
              "4  male nudity female nudity adultery midlife cri...   \n",
              "\n",
              "                                      Movie_Overview  \\\n",
              "0  It's Ted the Bellhop's first night on the job....   \n",
              "1  Princess Leia is captured and held hostage by ...   \n",
              "2  Nemo, an adventurous young clownfish, is unexp...   \n",
              "3  A man with a low IQ has accomplished great thi...   \n",
              "4  Lester Burnham, a depressed suburban father in...   \n",
              "\n",
              "                              Movie_Production_House  \\\n",
              "0  [{\"name\": \"Miramax Films\", \"id\": 14}, {\"name\":...   \n",
              "1  [{\"name\": \"Lucasfilm\", \"id\": 1}, {\"name\": \"Twe...   \n",
              "2     [{\"name\": \"Pixar Animation Studios\", \"id\": 3}]   \n",
              "3          [{\"name\": \"Paramount Pictures\", \"id\": 4}]   \n",
              "4  [{\"name\": \"DreamWorks SKG\", \"id\": 27}, {\"name\"...   \n",
              "\n",
              "                            Movie_Production_Country  \\\n",
              "0  [{\"iso_3166_1\": \"US\", \"name\": \"United States o...   \n",
              "1  [{\"iso_3166_1\": \"US\", \"name\": \"United States o...   \n",
              "2  [{\"iso_3166_1\": \"US\", \"name\": \"United States o...   \n",
              "3  [{\"iso_3166_1\": \"US\", \"name\": \"United States o...   \n",
              "4  [{\"iso_3166_1\": \"US\", \"name\": \"United States o...   \n",
              "\n",
              "                      Movie_Spoken_Language  \\\n",
              "0  [{\"iso_639_1\": \"en\", \"name\": \"English\"}]   \n",
              "1  [{\"iso_639_1\": \"en\", \"name\": \"English\"}]   \n",
              "2  [{\"iso_639_1\": \"en\", \"name\": \"English\"}]   \n",
              "3  [{\"iso_639_1\": \"en\", \"name\": \"English\"}]   \n",
              "4  [{\"iso_639_1\": \"en\", \"name\": \"English\"}]   \n",
              "\n",
              "                                       Movie_Tagline  \\\n",
              "0  Twelve outrageous guests. Four scandalous requ...   \n",
              "1       A long time ago in a galaxy far, far away...   \n",
              "2  There are 3.7 trillion fish in the ocean, they...   \n",
              "3  The world will never be the same, once you've ...   \n",
              "4                                       Look closer.   \n",
              "\n",
              "                                          Movie_Cast  \\\n",
              "0  Tim Roth Antonio Banderas Jennifer Beals Madon...   \n",
              "1  Mark Hamill Harrison Ford Carrie Fisher Peter ...   \n",
              "2  Albert Brooks Ellen DeGeneres Alexander Gould ...   \n",
              "3  Tom Hanks Robin Wright Gary Sinise Mykelti Wil...   \n",
              "4  Kevin Spacey Annette Bening Thora Birch Wes Be...   \n",
              "\n",
              "                                          Movie_Crew   Movie_Director  \n",
              "0  [{'name': 'Allison Anders', 'gender': 1, 'depa...   Allison Anders  \n",
              "1  [{'name': 'George Lucas', 'gender': 2, 'depart...     George Lucas  \n",
              "2  [{'name': 'Andrew Stanton', 'gender': 2, 'depa...   Andrew Stanton  \n",
              "3  [{'name': 'Alan Silvestri', 'gender': 2, 'depa...  Robert Zemeckis  \n",
              "4  [{'name': 'Thomas Newman', 'gender': 2, 'depar...       Sam Mendes  \n",
              "\n",
              "[5 rows x 21 columns]"
            ],
            "text/html": [
              "\n",
              "  <div id=\"df-9fab1ed9-1947-429c-b38e-47e23989d15e\" class=\"colab-df-container\">\n",
              "    <div>\n",
              "<style scoped>\n",
              "    .dataframe tbody tr th:only-of-type {\n",
              "        vertical-align: middle;\n",
              "    }\n",
              "\n",
              "    .dataframe tbody tr th {\n",
              "        vertical-align: top;\n",
              "    }\n",
              "\n",
              "    .dataframe thead th {\n",
              "        text-align: right;\n",
              "    }\n",
              "</style>\n",
              "<table border=\"1\" class=\"dataframe\">\n",
              "  <thead>\n",
              "    <tr style=\"text-align: right;\">\n",
              "      <th></th>\n",
              "      <th>Movie_ID</th>\n",
              "      <th>Movie_Title</th>\n",
              "      <th>Movie_Genre</th>\n",
              "      <th>Movie_Language</th>\n",
              "      <th>Movie_Budget</th>\n",
              "      <th>Movie_Popularity</th>\n",
              "      <th>Movie_Release_Date</th>\n",
              "      <th>Movie_Revenue</th>\n",
              "      <th>Movie_Runtime</th>\n",
              "      <th>Movie_Vote</th>\n",
              "      <th>...</th>\n",
              "      <th>Movie_Homepage</th>\n",
              "      <th>Movie_Keywords</th>\n",
              "      <th>Movie_Overview</th>\n",
              "      <th>Movie_Production_House</th>\n",
              "      <th>Movie_Production_Country</th>\n",
              "      <th>Movie_Spoken_Language</th>\n",
              "      <th>Movie_Tagline</th>\n",
              "      <th>Movie_Cast</th>\n",
              "      <th>Movie_Crew</th>\n",
              "      <th>Movie_Director</th>\n",
              "    </tr>\n",
              "  </thead>\n",
              "  <tbody>\n",
              "    <tr>\n",
              "      <th>0</th>\n",
              "      <td>1</td>\n",
              "      <td>Four Rooms</td>\n",
              "      <td>Crime Comedy</td>\n",
              "      <td>en</td>\n",
              "      <td>4000000</td>\n",
              "      <td>22.876230</td>\n",
              "      <td>09-12-1995</td>\n",
              "      <td>4300000</td>\n",
              "      <td>98.0</td>\n",
              "      <td>6.5</td>\n",
              "      <td>...</td>\n",
              "      <td>NaN</td>\n",
              "      <td>hotel new year's eve witch bet hotel room</td>\n",
              "      <td>It's Ted the Bellhop's first night on the job....</td>\n",
              "      <td>[{\"name\": \"Miramax Films\", \"id\": 14}, {\"name\":...</td>\n",
              "      <td>[{\"iso_3166_1\": \"US\", \"name\": \"United States o...</td>\n",
              "      <td>[{\"iso_639_1\": \"en\", \"name\": \"English\"}]</td>\n",
              "      <td>Twelve outrageous guests. Four scandalous requ...</td>\n",
              "      <td>Tim Roth Antonio Banderas Jennifer Beals Madon...</td>\n",
              "      <td>[{'name': 'Allison Anders', 'gender': 1, 'depa...</td>\n",
              "      <td>Allison Anders</td>\n",
              "    </tr>\n",
              "    <tr>\n",
              "      <th>1</th>\n",
              "      <td>2</td>\n",
              "      <td>Star Wars</td>\n",
              "      <td>Adventure Action Science Fiction</td>\n",
              "      <td>en</td>\n",
              "      <td>11000000</td>\n",
              "      <td>126.393695</td>\n",
              "      <td>25-05-1977</td>\n",
              "      <td>775398007</td>\n",
              "      <td>121.0</td>\n",
              "      <td>8.1</td>\n",
              "      <td>...</td>\n",
              "      <td>http://www.starwars.com/films/star-wars-episod...</td>\n",
              "      <td>android galaxy hermit death star lightsaber</td>\n",
              "      <td>Princess Leia is captured and held hostage by ...</td>\n",
              "      <td>[{\"name\": \"Lucasfilm\", \"id\": 1}, {\"name\": \"Twe...</td>\n",
              "      <td>[{\"iso_3166_1\": \"US\", \"name\": \"United States o...</td>\n",
              "      <td>[{\"iso_639_1\": \"en\", \"name\": \"English\"}]</td>\n",
              "      <td>A long time ago in a galaxy far, far away...</td>\n",
              "      <td>Mark Hamill Harrison Ford Carrie Fisher Peter ...</td>\n",
              "      <td>[{'name': 'George Lucas', 'gender': 2, 'depart...</td>\n",
              "      <td>George Lucas</td>\n",
              "    </tr>\n",
              "    <tr>\n",
              "      <th>2</th>\n",
              "      <td>3</td>\n",
              "      <td>Finding Nemo</td>\n",
              "      <td>Animation Family</td>\n",
              "      <td>en</td>\n",
              "      <td>94000000</td>\n",
              "      <td>85.688789</td>\n",
              "      <td>30-05-2003</td>\n",
              "      <td>940335536</td>\n",
              "      <td>100.0</td>\n",
              "      <td>7.6</td>\n",
              "      <td>...</td>\n",
              "      <td>http://movies.disney.com/finding-nemo</td>\n",
              "      <td>father son relationship harbor underwater fish...</td>\n",
              "      <td>Nemo, an adventurous young clownfish, is unexp...</td>\n",
              "      <td>[{\"name\": \"Pixar Animation Studios\", \"id\": 3}]</td>\n",
              "      <td>[{\"iso_3166_1\": \"US\", \"name\": \"United States o...</td>\n",
              "      <td>[{\"iso_639_1\": \"en\", \"name\": \"English\"}]</td>\n",
              "      <td>There are 3.7 trillion fish in the ocean, they...</td>\n",
              "      <td>Albert Brooks Ellen DeGeneres Alexander Gould ...</td>\n",
              "      <td>[{'name': 'Andrew Stanton', 'gender': 2, 'depa...</td>\n",
              "      <td>Andrew Stanton</td>\n",
              "    </tr>\n",
              "    <tr>\n",
              "      <th>3</th>\n",
              "      <td>4</td>\n",
              "      <td>Forrest Gump</td>\n",
              "      <td>Comedy Drama Romance</td>\n",
              "      <td>en</td>\n",
              "      <td>55000000</td>\n",
              "      <td>138.133331</td>\n",
              "      <td>06-07-1994</td>\n",
              "      <td>677945399</td>\n",
              "      <td>142.0</td>\n",
              "      <td>8.2</td>\n",
              "      <td>...</td>\n",
              "      <td>NaN</td>\n",
              "      <td>vietnam veteran hippie mentally disabled runni...</td>\n",
              "      <td>A man with a low IQ has accomplished great thi...</td>\n",
              "      <td>[{\"name\": \"Paramount Pictures\", \"id\": 4}]</td>\n",
              "      <td>[{\"iso_3166_1\": \"US\", \"name\": \"United States o...</td>\n",
              "      <td>[{\"iso_639_1\": \"en\", \"name\": \"English\"}]</td>\n",
              "      <td>The world will never be the same, once you've ...</td>\n",
              "      <td>Tom Hanks Robin Wright Gary Sinise Mykelti Wil...</td>\n",
              "      <td>[{'name': 'Alan Silvestri', 'gender': 2, 'depa...</td>\n",
              "      <td>Robert Zemeckis</td>\n",
              "    </tr>\n",
              "    <tr>\n",
              "      <th>4</th>\n",
              "      <td>5</td>\n",
              "      <td>American Beauty</td>\n",
              "      <td>Drama</td>\n",
              "      <td>en</td>\n",
              "      <td>15000000</td>\n",
              "      <td>80.878605</td>\n",
              "      <td>15-09-1999</td>\n",
              "      <td>356296601</td>\n",
              "      <td>122.0</td>\n",
              "      <td>7.9</td>\n",
              "      <td>...</td>\n",
              "      <td>http://www.dreamworks.com/ab/</td>\n",
              "      <td>male nudity female nudity adultery midlife cri...</td>\n",
              "      <td>Lester Burnham, a depressed suburban father in...</td>\n",
              "      <td>[{\"name\": \"DreamWorks SKG\", \"id\": 27}, {\"name\"...</td>\n",
              "      <td>[{\"iso_3166_1\": \"US\", \"name\": \"United States o...</td>\n",
              "      <td>[{\"iso_639_1\": \"en\", \"name\": \"English\"}]</td>\n",
              "      <td>Look closer.</td>\n",
              "      <td>Kevin Spacey Annette Bening Thora Birch Wes Be...</td>\n",
              "      <td>[{'name': 'Thomas Newman', 'gender': 2, 'depar...</td>\n",
              "      <td>Sam Mendes</td>\n",
              "    </tr>\n",
              "  </tbody>\n",
              "</table>\n",
              "<p>5 rows × 21 columns</p>\n",
              "</div>\n",
              "    <div class=\"colab-df-buttons\">\n",
              "\n",
              "  <div class=\"colab-df-container\">\n",
              "    <button class=\"colab-df-convert\" onclick=\"convertToInteractive('df-9fab1ed9-1947-429c-b38e-47e23989d15e')\"\n",
              "            title=\"Convert this dataframe to an interactive table.\"\n",
              "            style=\"display:none;\">\n",
              "\n",
              "  <svg xmlns=\"http://www.w3.org/2000/svg\" height=\"24px\" viewBox=\"0 -960 960 960\">\n",
              "    <path d=\"M120-120v-720h720v720H120Zm60-500h600v-160H180v160Zm220 220h160v-160H400v160Zm0 220h160v-160H400v160ZM180-400h160v-160H180v160Zm440 0h160v-160H620v160ZM180-180h160v-160H180v160Zm440 0h160v-160H620v160Z\"/>\n",
              "  </svg>\n",
              "    </button>\n",
              "\n",
              "  <style>\n",
              "    .colab-df-container {\n",
              "      display:flex;\n",
              "      gap: 12px;\n",
              "    }\n",
              "\n",
              "    .colab-df-convert {\n",
              "      background-color: #E8F0FE;\n",
              "      border: none;\n",
              "      border-radius: 50%;\n",
              "      cursor: pointer;\n",
              "      display: none;\n",
              "      fill: #1967D2;\n",
              "      height: 32px;\n",
              "      padding: 0 0 0 0;\n",
              "      width: 32px;\n",
              "    }\n",
              "\n",
              "    .colab-df-convert:hover {\n",
              "      background-color: #E2EBFA;\n",
              "      box-shadow: 0px 1px 2px rgba(60, 64, 67, 0.3), 0px 1px 3px 1px rgba(60, 64, 67, 0.15);\n",
              "      fill: #174EA6;\n",
              "    }\n",
              "\n",
              "    .colab-df-buttons div {\n",
              "      margin-bottom: 4px;\n",
              "    }\n",
              "\n",
              "    [theme=dark] .colab-df-convert {\n",
              "      background-color: #3B4455;\n",
              "      fill: #D2E3FC;\n",
              "    }\n",
              "\n",
              "    [theme=dark] .colab-df-convert:hover {\n",
              "      background-color: #434B5C;\n",
              "      box-shadow: 0px 1px 3px 1px rgba(0, 0, 0, 0.15);\n",
              "      filter: drop-shadow(0px 1px 2px rgba(0, 0, 0, 0.3));\n",
              "      fill: #FFFFFF;\n",
              "    }\n",
              "  </style>\n",
              "\n",
              "    <script>\n",
              "      const buttonEl =\n",
              "        document.querySelector('#df-9fab1ed9-1947-429c-b38e-47e23989d15e button.colab-df-convert');\n",
              "      buttonEl.style.display =\n",
              "        google.colab.kernel.accessAllowed ? 'block' : 'none';\n",
              "\n",
              "      async function convertToInteractive(key) {\n",
              "        const element = document.querySelector('#df-9fab1ed9-1947-429c-b38e-47e23989d15e');\n",
              "        const dataTable =\n",
              "          await google.colab.kernel.invokeFunction('convertToInteractive',\n",
              "                                                    [key], {});\n",
              "        if (!dataTable) return;\n",
              "\n",
              "        const docLinkHtml = 'Like what you see? Visit the ' +\n",
              "          '<a target=\"_blank\" href=https://colab.research.google.com/notebooks/data_table.ipynb>data table notebook</a>'\n",
              "          + ' to learn more about interactive tables.';\n",
              "        element.innerHTML = '';\n",
              "        dataTable['output_type'] = 'display_data';\n",
              "        await google.colab.output.renderOutput(dataTable, element);\n",
              "        const docLink = document.createElement('div');\n",
              "        docLink.innerHTML = docLinkHtml;\n",
              "        element.appendChild(docLink);\n",
              "      }\n",
              "    </script>\n",
              "  </div>\n",
              "\n",
              "\n",
              "<div id=\"df-851dc58c-d6bc-450e-acff-f1bf30375629\">\n",
              "  <button class=\"colab-df-quickchart\" onclick=\"quickchart('df-851dc58c-d6bc-450e-acff-f1bf30375629')\"\n",
              "            title=\"Suggest charts\"\n",
              "            style=\"display:none;\">\n",
              "\n",
              "<svg xmlns=\"http://www.w3.org/2000/svg\" height=\"24px\"viewBox=\"0 0 24 24\"\n",
              "     width=\"24px\">\n",
              "    <g>\n",
              "        <path d=\"M19 3H5c-1.1 0-2 .9-2 2v14c0 1.1.9 2 2 2h14c1.1 0 2-.9 2-2V5c0-1.1-.9-2-2-2zM9 17H7v-7h2v7zm4 0h-2V7h2v10zm4 0h-2v-4h2v4z\"/>\n",
              "    </g>\n",
              "</svg>\n",
              "  </button>\n",
              "\n",
              "<style>\n",
              "  .colab-df-quickchart {\n",
              "      --bg-color: #E8F0FE;\n",
              "      --fill-color: #1967D2;\n",
              "      --hover-bg-color: #E2EBFA;\n",
              "      --hover-fill-color: #174EA6;\n",
              "      --disabled-fill-color: #AAA;\n",
              "      --disabled-bg-color: #DDD;\n",
              "  }\n",
              "\n",
              "  [theme=dark] .colab-df-quickchart {\n",
              "      --bg-color: #3B4455;\n",
              "      --fill-color: #D2E3FC;\n",
              "      --hover-bg-color: #434B5C;\n",
              "      --hover-fill-color: #FFFFFF;\n",
              "      --disabled-bg-color: #3B4455;\n",
              "      --disabled-fill-color: #666;\n",
              "  }\n",
              "\n",
              "  .colab-df-quickchart {\n",
              "    background-color: var(--bg-color);\n",
              "    border: none;\n",
              "    border-radius: 50%;\n",
              "    cursor: pointer;\n",
              "    display: none;\n",
              "    fill: var(--fill-color);\n",
              "    height: 32px;\n",
              "    padding: 0;\n",
              "    width: 32px;\n",
              "  }\n",
              "\n",
              "  .colab-df-quickchart:hover {\n",
              "    background-color: var(--hover-bg-color);\n",
              "    box-shadow: 0 1px 2px rgba(60, 64, 67, 0.3), 0 1px 3px 1px rgba(60, 64, 67, 0.15);\n",
              "    fill: var(--button-hover-fill-color);\n",
              "  }\n",
              "\n",
              "  .colab-df-quickchart-complete:disabled,\n",
              "  .colab-df-quickchart-complete:disabled:hover {\n",
              "    background-color: var(--disabled-bg-color);\n",
              "    fill: var(--disabled-fill-color);\n",
              "    box-shadow: none;\n",
              "  }\n",
              "\n",
              "  .colab-df-spinner {\n",
              "    border: 2px solid var(--fill-color);\n",
              "    border-color: transparent;\n",
              "    border-bottom-color: var(--fill-color);\n",
              "    animation:\n",
              "      spin 1s steps(1) infinite;\n",
              "  }\n",
              "\n",
              "  @keyframes spin {\n",
              "    0% {\n",
              "      border-color: transparent;\n",
              "      border-bottom-color: var(--fill-color);\n",
              "      border-left-color: var(--fill-color);\n",
              "    }\n",
              "    20% {\n",
              "      border-color: transparent;\n",
              "      border-left-color: var(--fill-color);\n",
              "      border-top-color: var(--fill-color);\n",
              "    }\n",
              "    30% {\n",
              "      border-color: transparent;\n",
              "      border-left-color: var(--fill-color);\n",
              "      border-top-color: var(--fill-color);\n",
              "      border-right-color: var(--fill-color);\n",
              "    }\n",
              "    40% {\n",
              "      border-color: transparent;\n",
              "      border-right-color: var(--fill-color);\n",
              "      border-top-color: var(--fill-color);\n",
              "    }\n",
              "    60% {\n",
              "      border-color: transparent;\n",
              "      border-right-color: var(--fill-color);\n",
              "    }\n",
              "    80% {\n",
              "      border-color: transparent;\n",
              "      border-right-color: var(--fill-color);\n",
              "      border-bottom-color: var(--fill-color);\n",
              "    }\n",
              "    90% {\n",
              "      border-color: transparent;\n",
              "      border-bottom-color: var(--fill-color);\n",
              "    }\n",
              "  }\n",
              "</style>\n",
              "\n",
              "  <script>\n",
              "    async function quickchart(key) {\n",
              "      const quickchartButtonEl =\n",
              "        document.querySelector('#' + key + ' button');\n",
              "      quickchartButtonEl.disabled = true;  // To prevent multiple clicks.\n",
              "      quickchartButtonEl.classList.add('colab-df-spinner');\n",
              "      try {\n",
              "        const charts = await google.colab.kernel.invokeFunction(\n",
              "            'suggestCharts', [key], {});\n",
              "      } catch (error) {\n",
              "        console.error('Error during call to suggestCharts:', error);\n",
              "      }\n",
              "      quickchartButtonEl.classList.remove('colab-df-spinner');\n",
              "      quickchartButtonEl.classList.add('colab-df-quickchart-complete');\n",
              "    }\n",
              "    (() => {\n",
              "      let quickchartButtonEl =\n",
              "        document.querySelector('#df-851dc58c-d6bc-450e-acff-f1bf30375629 button');\n",
              "      quickchartButtonEl.style.display =\n",
              "        google.colab.kernel.accessAllowed ? 'block' : 'none';\n",
              "    })();\n",
              "  </script>\n",
              "</div>\n",
              "\n",
              "    </div>\n",
              "  </div>\n"
            ],
            "application/vnd.google.colaboratory.intrinsic+json": {
              "type": "dataframe",
              "variable_name": "df"
            }
          },
          "metadata": {},
          "execution_count": 9
        }
      ]
    },
    {
      "cell_type": "code",
      "source": [
        "df.info()"
      ],
      "metadata": {
        "colab": {
          "base_uri": "https://localhost:8080/"
        },
        "id": "FOKms__6uPc1",
        "outputId": "25d6616e-f5ff-4e3f-f422-c8112cff553e"
      },
      "execution_count": 10,
      "outputs": [
        {
          "output_type": "stream",
          "name": "stdout",
          "text": [
            "<class 'pandas.core.frame.DataFrame'>\n",
            "RangeIndex: 4760 entries, 0 to 4759\n",
            "Data columns (total 21 columns):\n",
            " #   Column                    Non-Null Count  Dtype  \n",
            "---  ------                    --------------  -----  \n",
            " 0   Movie_ID                  4760 non-null   int64  \n",
            " 1   Movie_Title               4760 non-null   object \n",
            " 2   Movie_Genre               4760 non-null   object \n",
            " 3   Movie_Language            4760 non-null   object \n",
            " 4   Movie_Budget              4760 non-null   int64  \n",
            " 5   Movie_Popularity          4760 non-null   float64\n",
            " 6   Movie_Release_Date        4760 non-null   object \n",
            " 7   Movie_Revenue             4760 non-null   int64  \n",
            " 8   Movie_Runtime             4758 non-null   float64\n",
            " 9   Movie_Vote                4760 non-null   float64\n",
            " 10  Movie_Vote_Count          4760 non-null   int64  \n",
            " 11  Movie_Homepage            1699 non-null   object \n",
            " 12  Movie_Keywords            4373 non-null   object \n",
            " 13  Movie_Overview            4757 non-null   object \n",
            " 14  Movie_Production_House    4760 non-null   object \n",
            " 15  Movie_Production_Country  4760 non-null   object \n",
            " 16  Movie_Spoken_Language     4760 non-null   object \n",
            " 17  Movie_Tagline             3942 non-null   object \n",
            " 18  Movie_Cast                4733 non-null   object \n",
            " 19  Movie_Crew                4760 non-null   object \n",
            " 20  Movie_Director            4738 non-null   object \n",
            "dtypes: float64(3), int64(4), object(14)\n",
            "memory usage: 781.1+ KB\n"
          ]
        }
      ]
    },
    {
      "cell_type": "code",
      "source": [
        "df.shape"
      ],
      "metadata": {
        "colab": {
          "base_uri": "https://localhost:8080/"
        },
        "id": "FFJTxi2kuS6x",
        "outputId": "c1944d2f-8742-435f-b69f-da6d72385a26"
      },
      "execution_count": 11,
      "outputs": [
        {
          "output_type": "execute_result",
          "data": {
            "text/plain": [
              "(4760, 21)"
            ]
          },
          "metadata": {},
          "execution_count": 11
        }
      ]
    },
    {
      "cell_type": "code",
      "source": [
        "df.columns"
      ],
      "metadata": {
        "colab": {
          "base_uri": "https://localhost:8080/"
        },
        "id": "6-q1486Buf0g",
        "outputId": "7c5af001-d70e-4328-a540-f3c60aa3bf69"
      },
      "execution_count": 12,
      "outputs": [
        {
          "output_type": "execute_result",
          "data": {
            "text/plain": [
              "Index(['Movie_ID', 'Movie_Title', 'Movie_Genre', 'Movie_Language',\n",
              "       'Movie_Budget', 'Movie_Popularity', 'Movie_Release_Date',\n",
              "       'Movie_Revenue', 'Movie_Runtime', 'Movie_Vote', 'Movie_Vote_Count',\n",
              "       'Movie_Homepage', 'Movie_Keywords', 'Movie_Overview',\n",
              "       'Movie_Production_House', 'Movie_Production_Country',\n",
              "       'Movie_Spoken_Language', 'Movie_Tagline', 'Movie_Cast', 'Movie_Crew',\n",
              "       'Movie_Director'],\n",
              "      dtype='object')"
            ]
          },
          "metadata": {},
          "execution_count": 12
        }
      ]
    },
    {
      "cell_type": "code",
      "source": [
        "df_features = df[['Movie_Genre', 'Movie_Keywords', 'Movie_Tagline', 'Movie_Cast', 'Movie_Director']].fillna('')"
      ],
      "metadata": {
        "id": "z1bMCBT7ui3i"
      },
      "execution_count": 13,
      "outputs": []
    },
    {
      "cell_type": "code",
      "source": [
        "df_features.shape"
      ],
      "metadata": {
        "colab": {
          "base_uri": "https://localhost:8080/"
        },
        "id": "UBpty6bous4Y",
        "outputId": "74e48c04-2feb-47d9-d2a6-dfbc74026160"
      },
      "execution_count": 14,
      "outputs": [
        {
          "output_type": "execute_result",
          "data": {
            "text/plain": [
              "(4760, 5)"
            ]
          },
          "metadata": {},
          "execution_count": 14
        }
      ]
    },
    {
      "cell_type": "code",
      "source": [
        "df_features"
      ],
      "metadata": {
        "colab": {
          "base_uri": "https://localhost:8080/",
          "height": 493
        },
        "id": "j9o0CbqFuy0Z",
        "outputId": "5aa46b27-0172-491c-de51-dff2164032c0"
      },
      "execution_count": 15,
      "outputs": [
        {
          "output_type": "execute_result",
          "data": {
            "text/plain": [
              "                           Movie_Genre  \\\n",
              "0                         Crime Comedy   \n",
              "1     Adventure Action Science Fiction   \n",
              "2                     Animation Family   \n",
              "3                 Comedy Drama Romance   \n",
              "4                                Drama   \n",
              "...                                ...   \n",
              "4755                            Horror   \n",
              "4756               Comedy Family Drama   \n",
              "4757                    Thriller Drama   \n",
              "4758                            Family   \n",
              "4759                       Documentary   \n",
              "\n",
              "                                         Movie_Keywords  \\\n",
              "0             hotel new year's eve witch bet hotel room   \n",
              "1           android galaxy hermit death star lightsaber   \n",
              "2     father son relationship harbor underwater fish...   \n",
              "3     vietnam veteran hippie mentally disabled runni...   \n",
              "4     male nudity female nudity adultery midlife cri...   \n",
              "...                                                 ...   \n",
              "4755                                                      \n",
              "4756                                                      \n",
              "4757                     christian film sex trafficking   \n",
              "4758                                                      \n",
              "4759  music actors legendary perfomer classic hollyw...   \n",
              "\n",
              "                                          Movie_Tagline  \\\n",
              "0     Twelve outrageous guests. Four scandalous requ...   \n",
              "1          A long time ago in a galaxy far, far away...   \n",
              "2     There are 3.7 trillion fish in the ocean, they...   \n",
              "3     The world will never be the same, once you've ...   \n",
              "4                                          Look closer.   \n",
              "...                                                 ...   \n",
              "4755                The hot spot where Satan's waitin'.   \n",
              "4756           It’s better to stand out than to fit in.   \n",
              "4757           She never knew it could happen to her...   \n",
              "4758                                                      \n",
              "4759                                                      \n",
              "\n",
              "                                             Movie_Cast     Movie_Director  \n",
              "0     Tim Roth Antonio Banderas Jennifer Beals Madon...     Allison Anders  \n",
              "1     Mark Hamill Harrison Ford Carrie Fisher Peter ...       George Lucas  \n",
              "2     Albert Brooks Ellen DeGeneres Alexander Gould ...     Andrew Stanton  \n",
              "3     Tom Hanks Robin Wright Gary Sinise Mykelti Wil...    Robert Zemeckis  \n",
              "4     Kevin Spacey Annette Bening Thora Birch Wes Be...         Sam Mendes  \n",
              "...                                                 ...                ...  \n",
              "4755  Lisa Hart Carroll Michael Des Barres Paul Drak...         Pece Dingo  \n",
              "4756  Roni Akurati Brighton Sharbino Jason Lee Anjul...       Frank Lotito  \n",
              "4757  Nicole Smolen Kim Baldwin Ariana Stephens Brys...       Jaco Booyens  \n",
              "4758                                                                        \n",
              "4759                                    Tony Oppedisano  Simon Napier-Bell  \n",
              "\n",
              "[4760 rows x 5 columns]"
            ],
            "text/html": [
              "\n",
              "  <div id=\"df-89bd95d7-3c90-4bec-aab1-861e3247d306\" class=\"colab-df-container\">\n",
              "    <div>\n",
              "<style scoped>\n",
              "    .dataframe tbody tr th:only-of-type {\n",
              "        vertical-align: middle;\n",
              "    }\n",
              "\n",
              "    .dataframe tbody tr th {\n",
              "        vertical-align: top;\n",
              "    }\n",
              "\n",
              "    .dataframe thead th {\n",
              "        text-align: right;\n",
              "    }\n",
              "</style>\n",
              "<table border=\"1\" class=\"dataframe\">\n",
              "  <thead>\n",
              "    <tr style=\"text-align: right;\">\n",
              "      <th></th>\n",
              "      <th>Movie_Genre</th>\n",
              "      <th>Movie_Keywords</th>\n",
              "      <th>Movie_Tagline</th>\n",
              "      <th>Movie_Cast</th>\n",
              "      <th>Movie_Director</th>\n",
              "    </tr>\n",
              "  </thead>\n",
              "  <tbody>\n",
              "    <tr>\n",
              "      <th>0</th>\n",
              "      <td>Crime Comedy</td>\n",
              "      <td>hotel new year's eve witch bet hotel room</td>\n",
              "      <td>Twelve outrageous guests. Four scandalous requ...</td>\n",
              "      <td>Tim Roth Antonio Banderas Jennifer Beals Madon...</td>\n",
              "      <td>Allison Anders</td>\n",
              "    </tr>\n",
              "    <tr>\n",
              "      <th>1</th>\n",
              "      <td>Adventure Action Science Fiction</td>\n",
              "      <td>android galaxy hermit death star lightsaber</td>\n",
              "      <td>A long time ago in a galaxy far, far away...</td>\n",
              "      <td>Mark Hamill Harrison Ford Carrie Fisher Peter ...</td>\n",
              "      <td>George Lucas</td>\n",
              "    </tr>\n",
              "    <tr>\n",
              "      <th>2</th>\n",
              "      <td>Animation Family</td>\n",
              "      <td>father son relationship harbor underwater fish...</td>\n",
              "      <td>There are 3.7 trillion fish in the ocean, they...</td>\n",
              "      <td>Albert Brooks Ellen DeGeneres Alexander Gould ...</td>\n",
              "      <td>Andrew Stanton</td>\n",
              "    </tr>\n",
              "    <tr>\n",
              "      <th>3</th>\n",
              "      <td>Comedy Drama Romance</td>\n",
              "      <td>vietnam veteran hippie mentally disabled runni...</td>\n",
              "      <td>The world will never be the same, once you've ...</td>\n",
              "      <td>Tom Hanks Robin Wright Gary Sinise Mykelti Wil...</td>\n",
              "      <td>Robert Zemeckis</td>\n",
              "    </tr>\n",
              "    <tr>\n",
              "      <th>4</th>\n",
              "      <td>Drama</td>\n",
              "      <td>male nudity female nudity adultery midlife cri...</td>\n",
              "      <td>Look closer.</td>\n",
              "      <td>Kevin Spacey Annette Bening Thora Birch Wes Be...</td>\n",
              "      <td>Sam Mendes</td>\n",
              "    </tr>\n",
              "    <tr>\n",
              "      <th>...</th>\n",
              "      <td>...</td>\n",
              "      <td>...</td>\n",
              "      <td>...</td>\n",
              "      <td>...</td>\n",
              "      <td>...</td>\n",
              "    </tr>\n",
              "    <tr>\n",
              "      <th>4755</th>\n",
              "      <td>Horror</td>\n",
              "      <td></td>\n",
              "      <td>The hot spot where Satan's waitin'.</td>\n",
              "      <td>Lisa Hart Carroll Michael Des Barres Paul Drak...</td>\n",
              "      <td>Pece Dingo</td>\n",
              "    </tr>\n",
              "    <tr>\n",
              "      <th>4756</th>\n",
              "      <td>Comedy Family Drama</td>\n",
              "      <td></td>\n",
              "      <td>It’s better to stand out than to fit in.</td>\n",
              "      <td>Roni Akurati Brighton Sharbino Jason Lee Anjul...</td>\n",
              "      <td>Frank Lotito</td>\n",
              "    </tr>\n",
              "    <tr>\n",
              "      <th>4757</th>\n",
              "      <td>Thriller Drama</td>\n",
              "      <td>christian film sex trafficking</td>\n",
              "      <td>She never knew it could happen to her...</td>\n",
              "      <td>Nicole Smolen Kim Baldwin Ariana Stephens Brys...</td>\n",
              "      <td>Jaco Booyens</td>\n",
              "    </tr>\n",
              "    <tr>\n",
              "      <th>4758</th>\n",
              "      <td>Family</td>\n",
              "      <td></td>\n",
              "      <td></td>\n",
              "      <td></td>\n",
              "      <td></td>\n",
              "    </tr>\n",
              "    <tr>\n",
              "      <th>4759</th>\n",
              "      <td>Documentary</td>\n",
              "      <td>music actors legendary perfomer classic hollyw...</td>\n",
              "      <td></td>\n",
              "      <td>Tony Oppedisano</td>\n",
              "      <td>Simon Napier-Bell</td>\n",
              "    </tr>\n",
              "  </tbody>\n",
              "</table>\n",
              "<p>4760 rows × 5 columns</p>\n",
              "</div>\n",
              "    <div class=\"colab-df-buttons\">\n",
              "\n",
              "  <div class=\"colab-df-container\">\n",
              "    <button class=\"colab-df-convert\" onclick=\"convertToInteractive('df-89bd95d7-3c90-4bec-aab1-861e3247d306')\"\n",
              "            title=\"Convert this dataframe to an interactive table.\"\n",
              "            style=\"display:none;\">\n",
              "\n",
              "  <svg xmlns=\"http://www.w3.org/2000/svg\" height=\"24px\" viewBox=\"0 -960 960 960\">\n",
              "    <path d=\"M120-120v-720h720v720H120Zm60-500h600v-160H180v160Zm220 220h160v-160H400v160Zm0 220h160v-160H400v160ZM180-400h160v-160H180v160Zm440 0h160v-160H620v160ZM180-180h160v-160H180v160Zm440 0h160v-160H620v160Z\"/>\n",
              "  </svg>\n",
              "    </button>\n",
              "\n",
              "  <style>\n",
              "    .colab-df-container {\n",
              "      display:flex;\n",
              "      gap: 12px;\n",
              "    }\n",
              "\n",
              "    .colab-df-convert {\n",
              "      background-color: #E8F0FE;\n",
              "      border: none;\n",
              "      border-radius: 50%;\n",
              "      cursor: pointer;\n",
              "      display: none;\n",
              "      fill: #1967D2;\n",
              "      height: 32px;\n",
              "      padding: 0 0 0 0;\n",
              "      width: 32px;\n",
              "    }\n",
              "\n",
              "    .colab-df-convert:hover {\n",
              "      background-color: #E2EBFA;\n",
              "      box-shadow: 0px 1px 2px rgba(60, 64, 67, 0.3), 0px 1px 3px 1px rgba(60, 64, 67, 0.15);\n",
              "      fill: #174EA6;\n",
              "    }\n",
              "\n",
              "    .colab-df-buttons div {\n",
              "      margin-bottom: 4px;\n",
              "    }\n",
              "\n",
              "    [theme=dark] .colab-df-convert {\n",
              "      background-color: #3B4455;\n",
              "      fill: #D2E3FC;\n",
              "    }\n",
              "\n",
              "    [theme=dark] .colab-df-convert:hover {\n",
              "      background-color: #434B5C;\n",
              "      box-shadow: 0px 1px 3px 1px rgba(0, 0, 0, 0.15);\n",
              "      filter: drop-shadow(0px 1px 2px rgba(0, 0, 0, 0.3));\n",
              "      fill: #FFFFFF;\n",
              "    }\n",
              "  </style>\n",
              "\n",
              "    <script>\n",
              "      const buttonEl =\n",
              "        document.querySelector('#df-89bd95d7-3c90-4bec-aab1-861e3247d306 button.colab-df-convert');\n",
              "      buttonEl.style.display =\n",
              "        google.colab.kernel.accessAllowed ? 'block' : 'none';\n",
              "\n",
              "      async function convertToInteractive(key) {\n",
              "        const element = document.querySelector('#df-89bd95d7-3c90-4bec-aab1-861e3247d306');\n",
              "        const dataTable =\n",
              "          await google.colab.kernel.invokeFunction('convertToInteractive',\n",
              "                                                    [key], {});\n",
              "        if (!dataTable) return;\n",
              "\n",
              "        const docLinkHtml = 'Like what you see? Visit the ' +\n",
              "          '<a target=\"_blank\" href=https://colab.research.google.com/notebooks/data_table.ipynb>data table notebook</a>'\n",
              "          + ' to learn more about interactive tables.';\n",
              "        element.innerHTML = '';\n",
              "        dataTable['output_type'] = 'display_data';\n",
              "        await google.colab.output.renderOutput(dataTable, element);\n",
              "        const docLink = document.createElement('div');\n",
              "        docLink.innerHTML = docLinkHtml;\n",
              "        element.appendChild(docLink);\n",
              "      }\n",
              "    </script>\n",
              "  </div>\n",
              "\n",
              "\n",
              "<div id=\"df-4865ad8d-ae38-4369-97cf-772815eb04de\">\n",
              "  <button class=\"colab-df-quickchart\" onclick=\"quickchart('df-4865ad8d-ae38-4369-97cf-772815eb04de')\"\n",
              "            title=\"Suggest charts\"\n",
              "            style=\"display:none;\">\n",
              "\n",
              "<svg xmlns=\"http://www.w3.org/2000/svg\" height=\"24px\"viewBox=\"0 0 24 24\"\n",
              "     width=\"24px\">\n",
              "    <g>\n",
              "        <path d=\"M19 3H5c-1.1 0-2 .9-2 2v14c0 1.1.9 2 2 2h14c1.1 0 2-.9 2-2V5c0-1.1-.9-2-2-2zM9 17H7v-7h2v7zm4 0h-2V7h2v10zm4 0h-2v-4h2v4z\"/>\n",
              "    </g>\n",
              "</svg>\n",
              "  </button>\n",
              "\n",
              "<style>\n",
              "  .colab-df-quickchart {\n",
              "      --bg-color: #E8F0FE;\n",
              "      --fill-color: #1967D2;\n",
              "      --hover-bg-color: #E2EBFA;\n",
              "      --hover-fill-color: #174EA6;\n",
              "      --disabled-fill-color: #AAA;\n",
              "      --disabled-bg-color: #DDD;\n",
              "  }\n",
              "\n",
              "  [theme=dark] .colab-df-quickchart {\n",
              "      --bg-color: #3B4455;\n",
              "      --fill-color: #D2E3FC;\n",
              "      --hover-bg-color: #434B5C;\n",
              "      --hover-fill-color: #FFFFFF;\n",
              "      --disabled-bg-color: #3B4455;\n",
              "      --disabled-fill-color: #666;\n",
              "  }\n",
              "\n",
              "  .colab-df-quickchart {\n",
              "    background-color: var(--bg-color);\n",
              "    border: none;\n",
              "    border-radius: 50%;\n",
              "    cursor: pointer;\n",
              "    display: none;\n",
              "    fill: var(--fill-color);\n",
              "    height: 32px;\n",
              "    padding: 0;\n",
              "    width: 32px;\n",
              "  }\n",
              "\n",
              "  .colab-df-quickchart:hover {\n",
              "    background-color: var(--hover-bg-color);\n",
              "    box-shadow: 0 1px 2px rgba(60, 64, 67, 0.3), 0 1px 3px 1px rgba(60, 64, 67, 0.15);\n",
              "    fill: var(--button-hover-fill-color);\n",
              "  }\n",
              "\n",
              "  .colab-df-quickchart-complete:disabled,\n",
              "  .colab-df-quickchart-complete:disabled:hover {\n",
              "    background-color: var(--disabled-bg-color);\n",
              "    fill: var(--disabled-fill-color);\n",
              "    box-shadow: none;\n",
              "  }\n",
              "\n",
              "  .colab-df-spinner {\n",
              "    border: 2px solid var(--fill-color);\n",
              "    border-color: transparent;\n",
              "    border-bottom-color: var(--fill-color);\n",
              "    animation:\n",
              "      spin 1s steps(1) infinite;\n",
              "  }\n",
              "\n",
              "  @keyframes spin {\n",
              "    0% {\n",
              "      border-color: transparent;\n",
              "      border-bottom-color: var(--fill-color);\n",
              "      border-left-color: var(--fill-color);\n",
              "    }\n",
              "    20% {\n",
              "      border-color: transparent;\n",
              "      border-left-color: var(--fill-color);\n",
              "      border-top-color: var(--fill-color);\n",
              "    }\n",
              "    30% {\n",
              "      border-color: transparent;\n",
              "      border-left-color: var(--fill-color);\n",
              "      border-top-color: var(--fill-color);\n",
              "      border-right-color: var(--fill-color);\n",
              "    }\n",
              "    40% {\n",
              "      border-color: transparent;\n",
              "      border-right-color: var(--fill-color);\n",
              "      border-top-color: var(--fill-color);\n",
              "    }\n",
              "    60% {\n",
              "      border-color: transparent;\n",
              "      border-right-color: var(--fill-color);\n",
              "    }\n",
              "    80% {\n",
              "      border-color: transparent;\n",
              "      border-right-color: var(--fill-color);\n",
              "      border-bottom-color: var(--fill-color);\n",
              "    }\n",
              "    90% {\n",
              "      border-color: transparent;\n",
              "      border-bottom-color: var(--fill-color);\n",
              "    }\n",
              "  }\n",
              "</style>\n",
              "\n",
              "  <script>\n",
              "    async function quickchart(key) {\n",
              "      const quickchartButtonEl =\n",
              "        document.querySelector('#' + key + ' button');\n",
              "      quickchartButtonEl.disabled = true;  // To prevent multiple clicks.\n",
              "      quickchartButtonEl.classList.add('colab-df-spinner');\n",
              "      try {\n",
              "        const charts = await google.colab.kernel.invokeFunction(\n",
              "            'suggestCharts', [key], {});\n",
              "      } catch (error) {\n",
              "        console.error('Error during call to suggestCharts:', error);\n",
              "      }\n",
              "      quickchartButtonEl.classList.remove('colab-df-spinner');\n",
              "      quickchartButtonEl.classList.add('colab-df-quickchart-complete');\n",
              "    }\n",
              "    (() => {\n",
              "      let quickchartButtonEl =\n",
              "        document.querySelector('#df-4865ad8d-ae38-4369-97cf-772815eb04de button');\n",
              "      quickchartButtonEl.style.display =\n",
              "        google.colab.kernel.accessAllowed ? 'block' : 'none';\n",
              "    })();\n",
              "  </script>\n",
              "</div>\n",
              "\n",
              "  <div id=\"id_6eb93e2b-e48d-435b-99d5-4e91835fb77e\">\n",
              "    <style>\n",
              "      .colab-df-generate {\n",
              "        background-color: #E8F0FE;\n",
              "        border: none;\n",
              "        border-radius: 50%;\n",
              "        cursor: pointer;\n",
              "        display: none;\n",
              "        fill: #1967D2;\n",
              "        height: 32px;\n",
              "        padding: 0 0 0 0;\n",
              "        width: 32px;\n",
              "      }\n",
              "\n",
              "      .colab-df-generate:hover {\n",
              "        background-color: #E2EBFA;\n",
              "        box-shadow: 0px 1px 2px rgba(60, 64, 67, 0.3), 0px 1px 3px 1px rgba(60, 64, 67, 0.15);\n",
              "        fill: #174EA6;\n",
              "      }\n",
              "\n",
              "      [theme=dark] .colab-df-generate {\n",
              "        background-color: #3B4455;\n",
              "        fill: #D2E3FC;\n",
              "      }\n",
              "\n",
              "      [theme=dark] .colab-df-generate:hover {\n",
              "        background-color: #434B5C;\n",
              "        box-shadow: 0px 1px 3px 1px rgba(0, 0, 0, 0.15);\n",
              "        filter: drop-shadow(0px 1px 2px rgba(0, 0, 0, 0.3));\n",
              "        fill: #FFFFFF;\n",
              "      }\n",
              "    </style>\n",
              "    <button class=\"colab-df-generate\" onclick=\"generateWithVariable('df_features')\"\n",
              "            title=\"Generate code using this dataframe.\"\n",
              "            style=\"display:none;\">\n",
              "\n",
              "  <svg xmlns=\"http://www.w3.org/2000/svg\" height=\"24px\"viewBox=\"0 0 24 24\"\n",
              "       width=\"24px\">\n",
              "    <path d=\"M7,19H8.4L18.45,9,17,7.55,7,17.6ZM5,21V16.75L18.45,3.32a2,2,0,0,1,2.83,0l1.4,1.43a1.91,1.91,0,0,1,.58,1.4,1.91,1.91,0,0,1-.58,1.4L9.25,21ZM18.45,9,17,7.55Zm-12,3A5.31,5.31,0,0,0,4.9,8.1,5.31,5.31,0,0,0,1,6.5,5.31,5.31,0,0,0,4.9,4.9,5.31,5.31,0,0,0,6.5,1,5.31,5.31,0,0,0,8.1,4.9,5.31,5.31,0,0,0,12,6.5,5.46,5.46,0,0,0,6.5,12Z\"/>\n",
              "  </svg>\n",
              "    </button>\n",
              "    <script>\n",
              "      (() => {\n",
              "      const buttonEl =\n",
              "        document.querySelector('#id_6eb93e2b-e48d-435b-99d5-4e91835fb77e button.colab-df-generate');\n",
              "      buttonEl.style.display =\n",
              "        google.colab.kernel.accessAllowed ? 'block' : 'none';\n",
              "\n",
              "      buttonEl.onclick = () => {\n",
              "        google.colab.notebook.generateWithVariable('df_features');\n",
              "      }\n",
              "      })();\n",
              "    </script>\n",
              "  </div>\n",
              "\n",
              "    </div>\n",
              "  </div>\n"
            ],
            "application/vnd.google.colaboratory.intrinsic+json": {
              "type": "dataframe",
              "variable_name": "df_features",
              "summary": "{\n  \"name\": \"df_features\",\n  \"rows\": 4760,\n  \"fields\": [\n    {\n      \"column\": \"Movie_Genre\",\n      \"properties\": {\n        \"dtype\": \"category\",\n        \"num_unique_values\": 1164,\n        \"samples\": [\n          \"Family Animation Adventure\",\n          \"Adventure Science Fiction Action\",\n          \"Action Crime Drama Romance Thriller\"\n        ],\n        \"semantic_type\": \"\",\n        \"description\": \"\"\n      }\n    },\n    {\n      \"column\": \"Movie_Keywords\",\n      \"properties\": {\n        \"dtype\": \"string\",\n        \"num_unique_values\": 4203,\n        \"samples\": [\n          \"canada nazis sequel spin off ancient evil\",\n          \"sex professor wedding woman director columbia university\",\n          \"prophecy sea beach gold small town\"\n        ],\n        \"semantic_type\": \"\",\n        \"description\": \"\"\n      }\n    },\n    {\n      \"column\": \"Movie_Tagline\",\n      \"properties\": {\n        \"dtype\": \"string\",\n        \"num_unique_values\": 3928,\n        \"samples\": [\n          \"The messenger must be silenced.\",\n          \"It's not the house that's haunted.\",\n          \"The final hunt begins.\"\n        ],\n        \"semantic_type\": \"\",\n        \"description\": \"\"\n      }\n    },\n    {\n      \"column\": \"Movie_Cast\",\n      \"properties\": {\n        \"dtype\": \"string\",\n        \"num_unique_values\": 4715,\n        \"samples\": [\n          \"Robin Tunney Fairuza Balk Neve Campbell Rachel True Skeet Ulrich\",\n          \"Peter Sellers Christopher Plummer Herbert Lom Catherine Schell Peter Arne\",\n          \"John Wayne Laraine Day Cedric Hardwicke Judith Anderson Anthony Quinn\"\n        ],\n        \"semantic_type\": \"\",\n        \"description\": \"\"\n      }\n    },\n    {\n      \"column\": \"Movie_Director\",\n      \"properties\": {\n        \"dtype\": \"category\",\n        \"num_unique_values\": 2332,\n        \"samples\": [\n          \"Rob McKittrick\",\n          \"Terron R. Parsons\",\n          \"Cyrus Nowrasteh\"\n        ],\n        \"semantic_type\": \"\",\n        \"description\": \"\"\n      }\n    }\n  ]\n}"
            }
          },
          "metadata": {},
          "execution_count": 15
        }
      ]
    },
    {
      "cell_type": "code",
      "source": [
        "x = df_features['Movie_Genre'] + ' ' + df_features['Movie_Keywords'] + ' ' + df_features['Movie_Tagline'] + ' ' + df_features['Movie_Cast'] + ' ' + df_features['Movie_Director']"
      ],
      "metadata": {
        "id": "lkwaCWtqu5kH"
      },
      "execution_count": 16,
      "outputs": []
    },
    {
      "cell_type": "code",
      "source": [
        "x"
      ],
      "metadata": {
        "colab": {
          "base_uri": "https://localhost:8080/"
        },
        "id": "0Evp-3-tvBoM",
        "outputId": "2899eaed-6a66-4476-fcfd-a9a2151fd482"
      },
      "execution_count": 17,
      "outputs": [
        {
          "output_type": "execute_result",
          "data": {
            "text/plain": [
              "0       Crime Comedy hotel new year's eve witch bet ho...\n",
              "1       Adventure Action Science Fiction android galax...\n",
              "2       Animation Family father son relationship harbo...\n",
              "3       Comedy Drama Romance vietnam veteran hippie me...\n",
              "4       Drama male nudity female nudity adultery midli...\n",
              "                              ...                        \n",
              "4755    Horror  The hot spot where Satan's waitin'. Li...\n",
              "4756    Comedy Family Drama  It’s better to stand out ...\n",
              "4757    Thriller Drama christian film sex trafficking ...\n",
              "4758                                           Family    \n",
              "4759    Documentary music actors legendary perfomer cl...\n",
              "Length: 4760, dtype: object"
            ]
          },
          "metadata": {},
          "execution_count": 17
        }
      ]
    },
    {
      "cell_type": "code",
      "source": [
        "x.shape"
      ],
      "metadata": {
        "colab": {
          "base_uri": "https://localhost:8080/"
        },
        "id": "ZO8rsV54vCbj",
        "outputId": "a3516529-1175-4200-8187-70627139f0bc"
      },
      "execution_count": 18,
      "outputs": [
        {
          "output_type": "execute_result",
          "data": {
            "text/plain": [
              "(4760,)"
            ]
          },
          "metadata": {},
          "execution_count": 18
        }
      ]
    },
    {
      "cell_type": "code",
      "source": [
        "from sklearn.feature_extraction.text import TfidfVectorizer"
      ],
      "metadata": {
        "id": "MP9x9pIMvGLt"
      },
      "execution_count": 19,
      "outputs": []
    },
    {
      "cell_type": "code",
      "source": [
        "tfidf = TfidfVectorizer()"
      ],
      "metadata": {
        "id": "WXfGcVFHyNIl"
      },
      "execution_count": 20,
      "outputs": []
    },
    {
      "cell_type": "code",
      "source": [
        "x =  tfidf.fit_transform(x)"
      ],
      "metadata": {
        "id": "gR_20fU1ySwS"
      },
      "execution_count": 21,
      "outputs": []
    },
    {
      "cell_type": "code",
      "source": [
        "x.shape"
      ],
      "metadata": {
        "colab": {
          "base_uri": "https://localhost:8080/"
        },
        "id": "opl_7E6OyaFQ",
        "outputId": "5178f934-0704-435a-beaa-f9dd5b7c45d3"
      },
      "execution_count": 22,
      "outputs": [
        {
          "output_type": "execute_result",
          "data": {
            "text/plain": [
              "(4760, 17258)"
            ]
          },
          "metadata": {},
          "execution_count": 22
        }
      ]
    },
    {
      "cell_type": "code",
      "source": [
        "print(x)\n"
      ],
      "metadata": {
        "colab": {
          "base_uri": "https://localhost:8080/"
        },
        "id": "kmHUM6KJydmz",
        "outputId": "fe7afe7e-4de9-4267-88be-a391019d4dfa"
      },
      "execution_count": 23,
      "outputs": [
        {
          "output_type": "stream",
          "name": "stdout",
          "text": [
            "  (0, 617)\t0.1633382144407513\n",
            "  (0, 492)\t0.1432591540388685\n",
            "  (0, 15413)\t0.1465525095337543\n",
            "  (0, 9675)\t0.14226057295252661\n",
            "  (0, 9465)\t0.1659841367820977\n",
            "  (0, 1390)\t0.16898383612799558\n",
            "  (0, 7825)\t0.09799561597509843\n",
            "  (0, 1214)\t0.13865857545144072\n",
            "  (0, 729)\t0.13415063359531618\n",
            "  (0, 13093)\t0.1432591540388685\n",
            "  (0, 15355)\t0.10477815972666779\n",
            "  (0, 9048)\t0.0866842116160778\n",
            "  (0, 11161)\t0.06250380151644369\n",
            "  (0, 16773)\t0.17654247479915475\n",
            "  (0, 5612)\t0.08603537588547631\n",
            "  (0, 16735)\t0.10690083751525419\n",
            "  (0, 7904)\t0.13348000542112332\n",
            "  (0, 15219)\t0.09800472886453934\n",
            "  (0, 11242)\t0.07277788238484746\n",
            "  (0, 3878)\t0.11998399582562203\n",
            "  (0, 5499)\t0.11454057510303811\n",
            "  (0, 7071)\t0.19822417598406614\n",
            "  (0, 7454)\t0.14745635785412262\n",
            "  (0, 1495)\t0.19712637387361423\n",
            "  (0, 9206)\t0.15186283580984414\n",
            "  :\t:\n",
            "  (4757, 5455)\t0.12491480594769522\n",
            "  (4757, 2967)\t0.16273475835631626\n",
            "  (4757, 8464)\t0.23522565554066333\n",
            "  (4757, 6938)\t0.17088173678136628\n",
            "  (4757, 8379)\t0.17480603856721913\n",
            "  (4757, 15303)\t0.07654356007668191\n",
            "  (4757, 15384)\t0.09754322497537371\n",
            "  (4757, 7649)\t0.11479421494340192\n",
            "  (4757, 10896)\t0.14546473055066447\n",
            "  (4757, 4494)\t0.05675298448720501\n",
            "  (4758, 5238)\t1.0\n",
            "  (4759, 11264)\t0.33947721804318337\n",
            "  (4759, 11708)\t0.33947721804318337\n",
            "  (4759, 205)\t0.3237911628497312\n",
            "  (4759, 8902)\t0.3040290704566037\n",
            "  (4759, 14062)\t0.3237911628497312\n",
            "  (4759, 3058)\t0.2812896191863103\n",
            "  (4759, 7130)\t0.26419662449963793\n",
            "  (4759, 10761)\t0.3126617295732147\n",
            "  (4759, 4358)\t0.18306542312175342\n",
            "  (4759, 14051)\t0.20084315377640435\n",
            "  (4759, 5690)\t0.19534291014627303\n",
            "  (4759, 15431)\t0.19628653185946862\n",
            "  (4759, 1490)\t0.21197258705292082\n",
            "  (4759, 10666)\t0.15888268987343043\n"
          ]
        }
      ]
    },
    {
      "cell_type": "code",
      "source": [
        "from sklearn.metrics.pairwise import cosine_similarity"
      ],
      "metadata": {
        "id": "M_0N9AJwy_og"
      },
      "execution_count": 24,
      "outputs": []
    },
    {
      "cell_type": "code",
      "source": [
        "Similarity_score = cosine_similarity(x)\n"
      ],
      "metadata": {
        "id": "0nVWBYJkzJaG"
      },
      "execution_count": 25,
      "outputs": []
    },
    {
      "cell_type": "code",
      "source": [
        "Similarity_score"
      ],
      "metadata": {
        "colab": {
          "base_uri": "https://localhost:8080/"
        },
        "id": "LbVkRH4EzTbK",
        "outputId": "932c1e3c-3a64-426d-fdf5-55dd5c78efc0"
      },
      "execution_count": 26,
      "outputs": [
        {
          "output_type": "execute_result",
          "data": {
            "text/plain": [
              "array([[1.        , 0.01351235, 0.03570468, ..., 0.        , 0.        ,\n",
              "        0.        ],\n",
              "       [0.01351235, 1.        , 0.00806674, ..., 0.        , 0.        ,\n",
              "        0.        ],\n",
              "       [0.03570468, 0.00806674, 1.        , ..., 0.        , 0.08014876,\n",
              "        0.        ],\n",
              "       ...,\n",
              "       [0.        , 0.        , 0.        , ..., 1.        , 0.        ,\n",
              "        0.        ],\n",
              "       [0.        , 0.        , 0.08014876, ..., 0.        , 1.        ,\n",
              "        0.        ],\n",
              "       [0.        , 0.        , 0.        , ..., 0.        , 0.        ,\n",
              "        1.        ]])"
            ]
          },
          "metadata": {},
          "execution_count": 26
        }
      ]
    },
    {
      "cell_type": "code",
      "source": [
        "Similarity_score.shape"
      ],
      "metadata": {
        "colab": {
          "base_uri": "https://localhost:8080/"
        },
        "id": "R6iXc7gfzZJM",
        "outputId": "851183ac-d156-4750-fd94-6f5b30bd6bc1"
      },
      "execution_count": 27,
      "outputs": [
        {
          "output_type": "execute_result",
          "data": {
            "text/plain": [
              "(4760, 4760)"
            ]
          },
          "metadata": {},
          "execution_count": 27
        }
      ]
    },
    {
      "cell_type": "code",
      "source": [
        "favourite_movie_name = input('Enter your favourite movie name : ')"
      ],
      "metadata": {
        "id": "g3G3kG8Uzk3V",
        "colab": {
          "base_uri": "https://localhost:8080/"
        },
        "outputId": "f06e6edc-2f3f-408d-991c-a8aa656e5e32"
      },
      "execution_count": 28,
      "outputs": [
        {
          "name": "stdout",
          "output_type": "stream",
          "text": [
            "Enter your favourite movie name : Girl interrupted\n"
          ]
        }
      ]
    },
    {
      "cell_type": "code",
      "source": [
        "All_Movies_Title_List = df['Movie_Title'].tolist()"
      ],
      "metadata": {
        "id": "pDCQCLXvz94d"
      },
      "execution_count": 30,
      "outputs": []
    },
    {
      "cell_type": "code",
      "source": [
        "import difflib"
      ],
      "metadata": {
        "id": "x3W4ayII3BPS"
      },
      "execution_count": 31,
      "outputs": []
    },
    {
      "cell_type": "code",
      "source": [
        "Movie_Recommendation = difflib.get_close_matches(favourite_movie_name, All_Movies_Title_List)\n",
        "print(Movie_Recommendation)"
      ],
      "metadata": {
        "colab": {
          "base_uri": "https://localhost:8080/"
        },
        "id": "IGT7VByK3GtI",
        "outputId": "b509902e-e9c2-4190-b1f0-3aa8b5213ebb"
      },
      "execution_count": 32,
      "outputs": [
        {
          "output_type": "stream",
          "name": "stdout",
          "text": [
            "['Girl, Interrupted']\n"
          ]
        }
      ]
    },
    {
      "cell_type": "code",
      "source": [
        "Close_Match = Movie_Recommendation[0]\n",
        "print(Close_Match)"
      ],
      "metadata": {
        "colab": {
          "base_uri": "https://localhost:8080/"
        },
        "id": "YmMgtmww3Wtn",
        "outputId": "c06fa321-2b7a-4a35-9e7d-151d141be803"
      },
      "execution_count": 33,
      "outputs": [
        {
          "output_type": "stream",
          "name": "stdout",
          "text": [
            "Girl, Interrupted\n"
          ]
        }
      ]
    },
    {
      "cell_type": "code",
      "source": [
        "Index_of_Close_MAtch_Movie = df[df.Movie_Title == Close_Match]['Movie_ID'].values[0]\n",
        "print(Index_of_Close_MAtch_Movie)"
      ],
      "metadata": {
        "colab": {
          "base_uri": "https://localhost:8080/"
        },
        "id": "s4CY_EIB3ieB",
        "outputId": "279fa85f-0164-48a4-fa67-3241fb87a45e"
      },
      "execution_count": 34,
      "outputs": [
        {
          "output_type": "stream",
          "name": "stdout",
          "text": [
            "806\n"
          ]
        }
      ]
    },
    {
      "cell_type": "code",
      "source": [
        "# getting a list of similar movies\n",
        "Recommendation_Score = list(enumerate(Similarity_score[Index_of_Close_MAtch_Movie]))\n",
        "print(Recommendation_Score)"
      ],
      "metadata": {
        "colab": {
          "base_uri": "https://localhost:8080/"
        },
        "id": "be0SrFVS3snD",
        "outputId": "2986b442-48b1-47cf-9132-985b7d6659f1"
      },
      "execution_count": 36,
      "outputs": [
        {
          "output_type": "stream",
          "name": "stdout",
          "text": [
            "[(0, 0.015846973644133032), (1, 0.0), (2, 0.03297029571514736), (3, 0.0026496589741944894), (4, 0.053923431298705804), (5, 0.020386167917230132), (6, 0.019986906282455467), (7, 0.015509801711947532), (8, 0.0032732847940421424), (9, 0.00823940668789712), (10, 0.008960304041829176), (11, 0.012341154643985934), (12, 0.0032186259033837477), (13, 0.1250595124440019), (14, 0.022676649546621533), (15, 0.0027800393640018957), (16, 0.0025121563985841546), (17, 0.0), (18, 0.01095253029700208), (19, 0.015392107053114081), (20, 0.0031525700529863063), (21, 0.20303262557657867), (22, 0.0), (23, 0.003140876222462176), (24, 0.11697283070874118), (25, 0.02114381718997025), (26, 0.002949069666662148), (27, 0.0), (28, 0.0), (29, 0.015862399313721635), (30, 0.01303865036742716), (31, 0.002834608037449271), (32, 0.014607335635886842), (33, 0.03216857378369329), (34, 0.026545659737448813), (35, 0.009113537469003426), (36, 0.0), (37, 0.009016326272762543), (38, 0.020896045490049822), (39, 0.0), (40, 0.02051106072845566), (41, 0.003353773253775069), (42, 0.017707484672811562), (43, 0.010484083392140775), (44, 0.0025089634152404314), (45, 0.008450142145668789), (46, 0.00917990905674981), (47, 0.007463085307893198), (48, 0.045287811396664615), (49, 0.00863014211652213), (50, 0.018057239746255525), (51, 0.012017408314731762), (52, 0.03831158936548889), (53, 0.023482880028101796), (54, 0.022897229344428408), (55, 0.0318493196917829), (56, 0.0), (57, 0.0112518909462422), (58, 0.007465536469967707), (59, 0.020351873266905112), (60, 0.0025782831607673146), (61, 0.015750366260134124), (62, 0.0033276551483189735), (63, 0.0023987659481825734), (64, 0.007457099670528508), (65, 0.012831305770948924), (66, 0.011894356917187248), (67, 0.0), (68, 0.021030950356754785), (69, 0.0), (70, 0.009196391959360752), (71, 0.003087772969300819), (72, 0.008154421647465486), (73, 0.0), (74, 0.003205530627114161), (75, 0.00747822741566917), (76, 0.007264834982157475), (77, 0.0), (78, 0.0), (79, 0.0030046316557248505), (80, 0.0), (81, 0.021150857132116715), (82, 0.00228720663860734), (83, 0.027344904702845035), (84, 0.01266907732006838), (85, 0.08410590516258865), (86, 0.018964222197278897), (87, 0.023517172704019984), (88, 0.03338748642199682), (89, 0.030425599380759807), (90, 0.0), (91, 0.0), (92, 0.00265246356484527), (93, 0.0), (94, 0.0), (95, 0.0), (96, 0.0354609629145691), (97, 0.002645016777944889), (98, 0.002951315092359895), (99, 0.028068091830247926), (100, 0.0), (101, 0.0), (102, 0.0), (103, 0.002610582385313128), (104, 0.016053978993594238), (105, 0.0201583276478607), (106, 0.015646410588553206), (107, 0.04007714958048308), (108, 0.008126499041420363), (109, 0.019770123150588945), (110, 0.0), (111, 0.028056390096285154), (112, 0.040341486203375604), (113, 0.01060045598607868), (114, 0.03032911800321334), (115, 0.021290104277642347), (116, 0.04306837131228307), (117, 0.0), (118, 0.0), (119, 0.002957036531539276), (120, 0.011779940332650514), (121, 0.07807664619762908), (122, 0.007745364656738748), (123, 0.02169576673532444), (124, 0.041706980035726454), (125, 0.015618815929334229), (126, 0.03877964575239427), (127, 0.0029347359720509427), (128, 0.0), (129, 0.0021046961118041997), (130, 0.012385759983290383), (131, 0.009020565772968775), (132, 0.028985108936961518), (133, 0.0), (134, 0.0), (135, 0.0), (136, 0.044580362854968095), (137, 0.05219625998734714), (138, 0.03116184525425854), (139, 0.020515168735469273), (140, 0.02603704810057581), (141, 0.0), (142, 0.06618095587248317), (143, 0.0374847880081492), (144, 0.03154073875788737), (145, 0.07641964469512559), (146, 0.02673124353054522), (147, 0.0854261928559276), (148, 0.007630038372919336), (149, 0.00943222738287225), (150, 0.0), (151, 0.0), (152, 0.0), (153, 0.0), (154, 0.01210004698014893), (155, 0.13203555767182046), (156, 0.022491373311608498), (157, 0.02577204280418667), (158, 0.0143101608813811), (159, 0.002358930886727415), (160, 0.0385853165891997), (161, 0.07032240332813858), (162, 0.04183300620559961), (163, 0.02859356488838731), (164, 0.0028679706884804793), (165, 0.002605512520016025), (166, 0.017513146485608873), (167, 0.012453248527159169), (168, 0.05845638288849789), (169, 0.027201893068404658), (170, 0.029972984960802716), (171, 0.0), (172, 0.011458335292723776), (173, 0.03794344965600516), (174, 0.02734739483893371), (175, 0.002545060012181944), (176, 0.0030970405609646637), (177, 0.0), (178, 0.02271237697148129), (179, 0.0), (180, 0.008984903522911626), (181, 0.016704237063379417), (182, 0.02790733760205858), (183, 0.0027642125329114366), (184, 0.01466802559159566), (185, 0.009337476153349653), (186, 0.062200370281042555), (187, 0.011349620312444582), (188, 0.0), (189, 0.0), (190, 0.018175630396073478), (191, 0.016756254504778172), (192, 0.0032598823627226813), (193, 0.02702513244558416), (194, 0.010342582980270663), (195, 0.017500872227835113), (196, 0.05950443857410111), (197, 0.026141935356027806), (198, 0.0282020427828613), (199, 0.010414861614527728), (200, 0.03051069117526081), (201, 0.0837655047624895), (202, 0.007820003632119526), (203, 0.0028518613881772146), (204, 0.1280001174840063), (205, 0.034890382569431784), (206, 0.012116385704724364), (207, 0.00949706884415378), (208, 0.003199883925861656), (209, 0.03578970788137575), (210, 0.012310173793642654), (211, 0.053419193238711915), (212, 0.0028206688386337273), (213, 0.021180589790376306), (214, 0.011667752765135013), (215, 0.04346239852682446), (216, 0.045244958474483885), (217, 0.027448679851586603), (218, 0.07351527186715767), (219, 0.0), (220, 0.0), (221, 0.002865692467655927), (222, 0.011345950151630374), (223, 0.0), (224, 0.00873904962259477), (225, 0.0), (226, 0.00301361668938909), (227, 0.012736517907087635), (228, 0.026762074261841035), (229, 0.0028099599605157263), (230, 0.029683812767384823), (231, 0.014306540191938902), (232, 0.014689225575626234), (233, 0.023213301404726102), (234, 0.0), (235, 0.0034019544899101238), (236, 0.02288300109808536), (237, 0.02547435615232327), (238, 0.02892921480710093), (239, 0.0), (240, 0.03815871828040196), (241, 0.0), (242, 0.010318307114356969), (243, 0.029285620345641125), (244, 0.01788747529877719), (245, 0.010130970540479702), (246, 0.003205343263536754), (247, 0.027483011572131674), (248, 0.034795079499656136), (249, 0.02606845664618116), (250, 0.014478897392862499), (251, 0.02934554084010543), (252, 0.014131143929072661), (253, 0.0032953041295996446), (254, 0.012589516110411078), (255, 0.003156189351692767), (256, 0.026497956358325254), (257, 0.0), (258, 0.0), (259, 0.008852593324220068), (260, 0.0), (261, 0.0), (262, 0.003166330518993562), (263, 0.0), (264, 0.0), (265, 0.0), (266, 0.01751009127199369), (267, 0.0025542167766922233), (268, 0.0026882184598137253), (269, 0.014292973788958323), (270, 0.045119236026728564), (271, 0.023251268856701847), (272, 0.019747589154271203), (273, 0.012556349696670067), (274, 0.013114895768640531), (275, 0.0), (276, 0.041149292681019814), (277, 0.007826399657104702), (278, 0.002595873800440331), (279, 0.023882080404600187), (280, 0.011392252895875981), (281, 0.012894408282378807), (282, 0.01125257360933252), (283, 0.02026109009707158), (284, 0.0), (285, 0.03611417970567066), (286, 0.002586396091626457), (287, 0.01071758463625759), (288, 0.007561263515547693), (289, 0.0), (290, 0.0), (291, 0.007664039417846824), (292, 0.0029242583544177463), (293, 0.02016752504156665), (294, 0.007089221565186408), (295, 0.0), (296, 0.011956631512472345), (297, 0.0), (298, 0.0), (299, 0.0), (300, 0.0), (301, 0.013687262653963961), (302, 0.016184695509961128), (303, 0.0), (304, 0.016857639256033424), (305, 0.009867161672679994), (306, 0.008203366548804622), (307, 0.024228418214694306), (308, 0.0033703850964223667), (309, 0.1277965534298204), (310, 0.0), (311, 0.017162330138548183), (312, 0.0), (313, 0.0), (314, 0.007463621918771636), (315, 0.05115678253668142), (316, 0.009153722977924375), (317, 0.010435329950559883), (318, 0.0032938298960921066), (319, 0.008092690835818586), (320, 0.010354331964482825), (321, 0.027814767441753548), (322, 0.04771899488260343), (323, 0.04985025997568965), (324, 0.023558911074198212), (325, 0.020594938188537238), (326, 0.0339063991453869), (327, 0.012238674337599937), (328, 0.0), (329, 0.015475906047279752), (330, 0.015059014439149115), (331, 0.0), (332, 0.0073953793454316205), (333, 0.03296873618779866), (334, 0.0278538508763847), (335, 0.0), (336, 0.016868155928172326), (337, 0.0), (338, 0.008123175201241997), (339, 0.0), (340, 0.0), (341, 0.013932116428355222), (342, 0.012442802789526862), (343, 0.0030368866655525314), (344, 0.010387823694104634), (345, 0.017721479046883926), (346, 0.002994936160787091), (347, 0.031622420943824524), (348, 0.012760778772247279), (349, 0.0029232278152814587), (350, 0.08455128566091957), (351, 0.07966118452969882), (352, 0.017953565343862696), (353, 0.013092210828319026), (354, 0.028840959628466667), (355, 0.08285363325001896), (356, 0.037347139103384205), (357, 0.017967376314366592), (358, 0.07877597371906495), (359, 0.023704350359676364), (360, 0.038076057289293336), (361, 0.010484329656560439), (362, 0.0), (363, 0.0), (364, 0.002592985605973223), (365, 0.0), (366, 0.023361554597438994), (367, 0.00805475288524058), (368, 0.010092558654131176), (369, 0.006434918248668689), (370, 0.011403615471776866), (371, 0.003316607688635824), (372, 0.0028083053610452437), (373, 0.06035740951312013), (374, 0.0029737210156994295), (375, 0.019511720748415385), (376, 0.011239880906430239), (377, 0.003105481748510691), (378, 0.003026938377113391), (379, 0.0), (380, 0.026211103710727393), (381, 0.018635064957078108), (382, 0.0), (383, 0.0), (384, 0.009448147662310289), (385, 0.01916412241443461), (386, 0.019343331087706615), (387, 0.0028425854358754784), (388, 0.050345314218028854), (389, 0.019665727908307333), (390, 0.0), (391, 0.012649535045617305), (392, 0.010491461348171735), (393, 0.020828353467691005), (394, 0.0076090133826483735), (395, 0.0032337482848550252), (396, 0.034083936167398965), (397, 0.0), (398, 0.019880415717983976), (399, 0.0027928142696767733), (400, 0.0029863567258290383), (401, 0.020009945046534392), (402, 0.003674284535947821), (403, 0.0025546634164329146), (404, 0.033528373004013914), (405, 0.009545053268326279), (406, 0.0030751131460769643), (407, 0.0024183566577159524), (408, 0.02013708437960241), (409, 0.009093147694967853), (410, 0.02378021565904185), (411, 0.0), (412, 0.002462384047413547), (413, 0.0), (414, 0.0), (415, 0.010432142288394515), (416, 0.002761975938413639), (417, 0.007810023687499931), (418, 0.008893682958523481), (419, 0.0033945909754980316), (420, 0.06233457456225433), (421, 0.007638558080204704), (422, 0.007944265398826655), (423, 0.0), (424, 0.0), (425, 0.011204661509162), (426, 0.0), (427, 0.009473604046236941), (428, 0.002721170371757864), (429, 0.07020115877988667), (430, 0.0032440831672861077), (431, 0.003554519495556461), (432, 0.002564087430022317), (433, 0.020332742781482914), (434, 0.0951101016639638), (435, 0.03694417034961171), (436, 0.017848965486596195), (437, 0.02627074613763899), (438, 0.010577925977207496), (439, 0.031532882619268975), (440, 0.008001724236387299), (441, 0.0024906880380974345), (442, 0.0024991520657779444), (443, 0.018452103537490033), (444, 0.01855971234304256), (445, 0.03132370466239298), (446, 0.02700845585464673), (447, 0.0734489304653586), (448, 0.003478934336289233), (449, 0.015064928890953233), (450, 0.012533356403913985), (451, 0.0338307607381194), (452, 0.058289807858899256), (453, 0.0023047299046061987), (454, 0.06932376494571557), (455, 0.052811668748243404), (456, 0.01262653643831693), (457, 0.0027663070906306054), (458, 0.033472599002686274), (459, 0.0), (460, 0.0), (461, 0.009956988340267914), (462, 0.0), (463, 0.018837262019228675), (464, 0.025265538610837183), (465, 0.002751668295031295), (466, 0.03503512160582253), (467, 0.0), (468, 0.018474899628224337), (469, 0.0073580338931675746), (470, 0.0031788491983260783), (471, 0.05911293945641665), (472, 0.02631485679065553), (473, 0.011662391070368247), (474, 0.008834794461002302), (475, 0.019729256456667565), (476, 0.0033085205255464485), (477, 0.014817972831102796), (478, 0.003411111552926706), (479, 0.011408630094797447), (480, 0.01996935723912466), (481, 0.012421638092720011), (482, 0.016651552186529722), (483, 0.0374487482996739), (484, 0.03956554939465262), (485, 0.021782041084163026), (486, 0.02165208776290868), (487, 0.002885265744938763), (488, 0.02688544264564609), (489, 0.03312006166491383), (490, 0.002984584966272105), (491, 0.0), (492, 0.04771138903631873), (493, 0.02416220373389248), (494, 0.008446684129028105), (495, 0.0026657953418797236), (496, 0.018432885692714493), (497, 0.007482267520905774), (498, 0.0), (499, 0.0032800699694023497), (500, 0.00819838352977646), (501, 0.03222662177681758), (502, 0.011957685608793426), (503, 0.008179097194984762), (504, 0.003032244844306098), (505, 0.0028632701411795847), (506, 0.00721527084019804), (507, 0.002830089729533107), (508, 0.04830096176006897), (509, 0.0030909472545867407), (510, 0.009526200063530523), (511, 0.030579036715889407), (512, 0.0), (513, 0.010736608570897213), (514, 0.0), (515, 0.010295752328011384), (516, 0.023449714186337314), (517, 0.009252631288701225), (518, 0.0035334362778212214), (519, 0.03110943621124143), (520, 0.0077794951302937185), (521, 0.0), (522, 0.002925718846563181), (523, 0.02398416847462639), (524, 0.03218684589298623), (525, 0.0), (526, 0.0037900926666124394), (527, 0.013186891791781872), (528, 0.009065823031867953), (529, 0.0), (530, 0.008276735943073632), (531, 0.0), (532, 0.04338688016434984), (533, 0.03815012762091899), (534, 0.011281206342254265), (535, 0.01853063209103654), (536, 0.0), (537, 0.015529805433065067), (538, 0.032165133298366004), (539, 0.008227737741032292), (540, 0.0), (541, 0.020883455080166983), (542, 0.13153336983247943), (543, 0.01189628719846118), (544, 0.011591061272589345), (545, 0.007821469933182917), (546, 0.0), (547, 0.021132748662006255), (548, 0.02323888291959272), (549, 0.0), (550, 0.03575802843033104), (551, 0.003130200671985913), (552, 0.01982441490946877), (553, 0.029573956806948135), (554, 0.0), (555, 0.0), (556, 0.00860665931287314), (557, 0.018102308600534297), (558, 0.010532539330442472), (559, 0.0), (560, 0.06880907661148493), (561, 0.02112418841503392), (562, 0.022987321378332714), (563, 0.07302279398977711), (564, 0.0238523744307175), (565, 0.0), (566, 0.02102876827933802), (567, 0.0), (568, 0.0), (569, 0.039914478364092065), (570, 0.013490241218839672), (571, 0.002323863919894407), (572, 0.0), (573, 0.01830698142544333), (574, 0.0), (575, 0.0), (576, 0.014531579544559532), (577, 0.02019325882755679), (578, 0.011247775903762289), (579, 0.003055322648328384), (580, 0.07557338673064537), (581, 0.06967762792937279), (582, 0.0160727223757418), (583, 0.00807157779020374), (584, 0.011818716483245893), (585, 0.009501316652815757), (586, 0.0), (587, 0.023744843124636098), (588, 0.016577464430784103), (589, 0.0027933159039985936), (590, 0.04923814820557387), (591, 0.0), (592, 0.055914901855953235), (593, 0.0030742145476301817), (594, 0.0026939914919218186), (595, 0.010862361389816815), (596, 0.0033770735711724726), (597, 0.023851914708822045), (598, 0.002808239287258107), (599, 0.0), (600, 0.0), (601, 0.0), (602, 0.0), (603, 0.0), (604, 0.04013690143560051), (605, 0.0026520991666360923), (606, 0.016473716024890343), (607, 0.00232250307558655), (608, 0.0027321335223217556), (609, 0.009455842526920314), (610, 0.009819995401772339), (611, 0.004842473958137925), (612, 0.03956790090993989), (613, 0.00828764269267409), (614, 0.0034581594637875706), (615, 0.0), (616, 0.002511723622681112), (617, 0.03487186861185678), (618, 0.02296126688874779), (619, 0.0), (620, 0.026696805331171185), (621, 0.06928894701094651), (622, 0.0593046068334717), (623, 0.0032011388279580724), (624, 0.0027568542197302934), (625, 0.023142417648092516), (626, 0.019294445914722985), (627, 0.021602044968642792), (628, 0.0030388125827505983), (629, 0.018433717618780376), (630, 0.0), (631, 0.07985473547238982), (632, 0.007599137673918708), (633, 0.036233362713510874), (634, 0.01939489011077896), (635, 0.0), (636, 0.01611152819535544), (637, 0.16530886696593178), (638, 0.010983996215987824), (639, 0.06303699350977815), (640, 0.06994842381296115), (641, 0.0021583411912289344), (642, 0.03389641036220145), (643, 0.0350824523076884), (644, 0.0028631994028500475), (645, 0.025858639036208546), (646, 0.002898449415123361), (647, 0.0026445129548286223), (648, 0.051037412134988844), (649, 0.009360498619642917), (650, 0.0), (651, 0.026835407085929342), (652, 0.024917923963554158), (653, 0.009937852384034785), (654, 0.022499390398046958), (655, 0.023212019447631578), (656, 0.009353968215857062), (657, 0.014791905153834824), (658, 0.05580957488504214), (659, 0.011101147592216812), (660, 0.09464382300795149), (661, 0.012138170867144636), (662, 0.008632605718800783), (663, 0.0), (664, 0.007536931893299862), (665, 0.008923448419290918), (666, 0.058712895443822216), (667, 0.034121080559308604), (668, 0.006651961079903195), (669, 0.010509633883020437), (670, 0.020528065005004273), (671, 0.0), (672, 0.0026876136176947657), (673, 0.03273631076525298), (674, 0.0), (675, 0.023227179355516717), (676, 0.07153183386967778), (677, 0.0), (678, 0.009166224773366908), (679, 0.010261163977971503), (680, 0.013709120839315237), (681, 0.0), (682, 0.0347577260428985), (683, 0.0827742623882678), (684, 0.008381391367859767), (685, 0.010145963123639617), (686, 0.0), (687, 0.0), (688, 0.01320196662435684), (689, 0.011852238554619511), (690, 0.008283942185030872), (691, 0.05900295752074139), (692, 0.007267067084565822), (693, 0.0029335330261136797), (694, 0.0028343097586289753), (695, 0.08678415153136229), (696, 0.07180798341617445), (697, 0.016726796838460872), (698, 0.002851649318613404), (699, 0.0), (700, 0.0), (701, 0.03821919077802186), (702, 0.02109454697614879), (703, 0.011450575921748658), (704, 0.0), (705, 0.02460756260222388), (706, 0.1200867326764081), (707, 0.002535105171966523), (708, 0.0), (709, 0.014911191490964405), (710, 0.00827143899153487), (711, 0.07944401253841987), (712, 0.010529124110374571), (713, 0.008476693299896303), (714, 0.1264464074666598), (715, 0.014224867818068688), (716, 0.013517743915498218), (717, 0.017370641574984802), (718, 0.029320967098714918), (719, 0.019969453932597855), (720, 0.0), (721, 0.0034534384385578316), (722, 0.02726092581945297), (723, 0.02512508080736206), (724, 0.0), (725, 0.0), (726, 0.014889533883725572), (727, 0.015673779113224866), (728, 0.0032508290079942556), (729, 0.050885662525914324), (730, 0.02540463502356964), (731, 0.012330965901028342), (732, 0.02913228106837805), (733, 0.017586339497859142), (734, 0.0028227270730550465), (735, 0.0041156626737180605), (736, 0.042229810916112526), (737, 0.01878750952708012), (738, 0.014669507016606959), (739, 0.04073281152026943), (740, 0.007994814671701697), (741, 0.0), (742, 0.033554520392772985), (743, 0.01224642762743227), (744, 0.027370327050303674), (745, 0.007773939344475343), (746, 0.0), (747, 0.014425952118491745), (748, 0.013730125044551234), (749, 0.05113733838231751), (750, 0.016252793601478955), (751, 0.011918388786640042), (752, 0.04660419640072756), (753, 0.04794224832547659), (754, 0.0), (755, 0.0029291183474117275), (756, 0.0), (757, 0.08950839488824737), (758, 0.0), (759, 0.002744184901045877), (760, 0.02448922614939078), (761, 0.00301447751373508), (762, 0.017112926845611026), (763, 0.028775994127447652), (764, 0.04717249089818489), (765, 0.03455168775878156), (766, 0.002788805869944424), (767, 0.011305082724436194), (768, 0.0), (769, 0.01643910550721438), (770, 0.0), (771, 0.0), (772, 0.009475159799585086), (773, 0.009554548735573497), (774, 0.059748551340276346), (775, 0.014211646832993525), (776, 0.0), (777, 0.0036225271698895898), (778, 0.0), (779, 0.0), (780, 0.025291122502905238), (781, 0.018753266418396437), (782, 0.00289220805165815), (783, 0.013579370180551182), (784, 0.0), (785, 0.008908849749172571), (786, 0.007457223079925198), (787, 0.026997447623155917), (788, 0.03278537480225814), (789, 0.007970637858966173), (790, 0.04399695135764764), (791, 0.02445851852481297), (792, 0.012150021777681298), (793, 0.014168883606976879), (794, 0.018001370055485178), (795, 0.019875683554252923), (796, 0.021179545156617147), (797, 0.009292146409791743), (798, 0.0028762903330783363), (799, 0.011134822706687406), (800, 0.01158665164743286), (801, 0.05234440152809502), (802, 0.009742168683832339), (803, 0.049204205127727364), (804, 0.0027108846995021144), (805, 0.0718192500706236), (806, 1.0), (807, 0.017901452850412197), (808, 0.014064113504899334), (809, 0.009140692989606725), (810, 0.04142594993147328), (811, 0.01311813381631486), (812, 0.012900075929110851), (813, 0.017917785791620972), (814, 0.034490756537233755), (815, 0.10688836306555893), (816, 0.019827962162673914), (817, 0.0029167291096839428), (818, 0.012178000709750334), (819, 0.0), (820, 0.034789841541880716), (821, 0.0), (822, 0.06422648185539487), (823, 0.029404963095098224), (824, 0.008299029401112143), (825, 0.017733850442488396), (826, 0.003214436503105624), (827, 0.016423091629260488), (828, 0.010789873917331359), (829, 0.01867176421280945), (830, 0.0031683294018768865), (831, 0.0021277769161468073), (832, 0.016221017010069626), (833, 0.03274671437743085), (834, 0.026365943684628794), (835, 0.02513360037057317), (836, 0.0), (837, 0.04283956791485927), (838, 0.015488827905355359), (839, 0.0), (840, 0.0), (841, 0.0), (842, 0.022357780872891142), (843, 0.0024786451553817685), (844, 0.0064973666724521045), (845, 0.012476629144104634), (846, 0.05964406486792037), (847, 0.0034562860979981957), (848, 0.0030396558011348456), (849, 0.0), (850, 0.003068390808413607), (851, 0.02627985216975673), (852, 0.0028831474658852505), (853, 0.02259939597627488), (854, 0.011373604761341378), (855, 0.0), (856, 0.0026903698694751813), (857, 0.003328337334114322), (858, 0.002035065992028769), (859, 0.03383646845548394), (860, 0.01323411250858136), (861, 0.024424902490332606), (862, 0.01592937826062911), (863, 0.011783242248038226), (864, 0.024616346650884476), (865, 0.012236978415869518), (866, 0.010618485951053282), (867, 0.03963454442351096), (868, 0.015465529294161319), (869, 0.00862076535644484), (870, 0.04613087052373489), (871, 0.0030968596635644894), (872, 0.003226692371520683), (873, 0.0292608269140692), (874, 0.021615665439498864), (875, 0.02961682177250182), (876, 0.01303735937847454), (877, 0.025848221659438047), (878, 0.05170711163553318), (879, 0.01191651342666969), (880, 0.015724179631094144), (881, 0.0586730081872717), (882, 0.0), (883, 0.012313924526797167), (884, 0.05548571354445003), (885, 0.0027034438948293294), (886, 0.03140172158402689), (887, 0.003277255726838088), (888, 0.01265915190422938), (889, 0.003878957623540545), (890, 0.017372331941274886), (891, 0.009378752507568021), (892, 0.007713346586595548), (893, 0.008906114860054173), (894, 0.020134753519760358), (895, 0.02030490309863938), (896, 0.03633950211934866), (897, 0.0030369521087544194), (898, 0.008020694523528273), (899, 0.02562250163237135), (900, 0.04444808988735408), (901, 0.037241400048359394), (902, 0.08985074599896574), (903, 0.002825255266672607), (904, 0.009897587061677565), (905, 0.009726348542347682), (906, 0.013586135581557834), (907, 0.0027717355086370283), (908, 0.04412260707592673), (909, 0.0), (910, 0.014603577332907697), (911, 0.03323973483175106), (912, 0.046885459559103074), (913, 0.010476577357842562), (914, 0.0), (915, 0.033669760200047104), (916, 0.007790909767106028), (917, 0.002697835716705329), (918, 0.03835769859082123), (919, 0.15117215437346304), (920, 0.00817362571029538), (921, 0.032886914544239615), (922, 0.00338154723767833), (923, 0.012414105563328446), (924, 0.05104831219980209), (925, 0.0034656291896763137), (926, 0.006944377039136793), (927, 0.012692020493580165), (928, 0.05595095121616325), (929, 0.01572167514107628), (930, 0.03724052011582532), (931, 0.026965930030825966), (932, 0.03371972803183379), (933, 0.0030781579834749466), (934, 0.002746924193301661), (935, 0.025169519517990582), (936, 0.011598719410057065), (937, 0.02846199321783824), (938, 0.018824842061487816), (939, 0.032039846200286465), (940, 0.056562331018321255), (941, 0.0028229385439655567), (942, 0.02533629980905662), (943, 0.0), (944, 0.01551914760882308), (945, 0.0), (946, 0.008860186997227805), (947, 0.015407642451505214), (948, 0.010586807807811353), (949, 0.015333071786235174), (950, 0.0), (951, 0.002544407877873946), (952, 0.017245293232945703), (953, 0.0175478476308985), (954, 0.0), (955, 0.011645406026166465), (956, 0.009754954348401308), (957, 0.0027521668806085274), (958, 0.0), (959, 0.05325557534023086), (960, 0.0), (961, 0.0), (962, 0.012223242867102092), (963, 0.002817383200053228), (964, 0.0), (965, 0.0), (966, 0.028645483765511775), (967, 0.003327657485686437), (968, 0.0027302640497840983), (969, 0.030524893569056834), (970, 0.0), (971, 0.0682691555373497), (972, 0.00756523204019301), (973, 0.025133531842607283), (974, 0.0), (975, 0.00282159403413077), (976, 0.02250006473355364), (977, 0.0), (978, 0.00823537030882989), (979, 0.028899656640035694), (980, 0.03568737800903502), (981, 0.010729144372007025), (982, 0.0), (983, 0.026412448395826092), (984, 0.011336094472786934), (985, 0.0034478268306583296), (986, 0.011413398378897318), (987, 0.01236110765210375), (988, 0.04881168653942945), (989, 0.02950586936648307), (990, 0.025063781354007296), (991, 0.0032353397251288257), (992, 0.0), (993, 0.0030361968917388426), (994, 0.04052296743781847), (995, 0.0), (996, 0.0), (997, 0.0), (998, 0.0034168011447194683), (999, 0.003414004731120408), (1000, 0.010273504896578266), (1001, 0.012285901189698177), (1002, 0.0028717545815637835), (1003, 0.1012242972821285), (1004, 0.002701530157990498), (1005, 0.008730465452449581), (1006, 0.036655727468291543), (1007, 0.016794819684133686), (1008, 0.015917948897877125), (1009, 0.010572419162889195), (1010, 0.0), (1011, 0.011154267789641611), (1012, 0.0), (1013, 0.053166436279650155), (1014, 0.0), (1015, 0.012346990756475123), (1016, 0.024509662801191295), (1017, 0.05252662653454385), (1018, 0.05120964359400247), (1019, 0.005720236328576262), (1020, 0.012367268853915982), (1021, 0.03900049816911528), (1022, 0.0), (1023, 0.018723797112369895), (1024, 0.03218831503895887), (1025, 0.012157829060411544), (1026, 0.10116033169845119), (1027, 0.05099663733237713), (1028, 0.0), (1029, 0.03997173168161647), (1030, 0.0029175537565652113), (1031, 0.0), (1032, 0.04534331269732221), (1033, 0.015291614247116146), (1034, 0.042126698363847435), (1035, 0.019745905447679797), (1036, 0.020555307081089554), (1037, 0.002451803419122523), (1038, 0.02263305234322061), (1039, 0.0), (1040, 0.0023540867422497383), (1041, 0.03444869516059404), (1042, 0.00995339104302672), (1043, 0.0032937120618987065), (1044, 0.021112650314857366), (1045, 0.013989699129187077), (1046, 0.011587966585816154), (1047, 0.019050694421654947), (1048, 0.00313207249272319), (1049, 0.0035739473175584674), (1050, 0.020754040281626265), (1051, 0.01582458478395223), (1052, 0.014769185983873171), (1053, 0.013434630433295736), (1054, 0.007939468101524625), (1055, 0.03396915584640143), (1056, 0.0), (1057, 0.0), (1058, 0.010305731964382399), (1059, 0.002983512484750892), (1060, 0.0029080279970310203), (1061, 0.04907673834126043), (1062, 0.01488931344845904), (1063, 0.017666818046050664), (1064, 0.1751605959602271), (1065, 0.0027548096312707666), (1066, 0.0), (1067, 0.047063477248687174), (1068, 0.01974199572428388), (1069, 0.0), (1070, 0.0), (1071, 0.017024590390988227), (1072, 0.027530355137844673), (1073, 0.0), (1074, 0.008433914026786008), (1075, 0.01357952720973085), (1076, 0.07633072161594305), (1077, 0.0030791726102445977), (1078, 0.009512142865020251), (1079, 0.019147020732180445), (1080, 0.002713327970883353), (1081, 0.037008480747215154), (1082, 0.02909040022816014), (1083, 0.016598708352185434), (1084, 0.048130638441101985), (1085, 0.01006889939961705), (1086, 0.017541035372510484), (1087, 0.003064219774073236), (1088, 0.0703846995525248), (1089, 0.014999688031237666), (1090, 0.019780400296533447), (1091, 0.0), (1092, 0.007008168412431698), (1093, 0.0), (1094, 0.048719384382401525), (1095, 0.0), (1096, 0.0029322375474531174), (1097, 0.03627201184367834), (1098, 0.002457764374471214), (1099, 0.0), (1100, 0.0029641476406101065), (1101, 0.0), (1102, 0.0029913644919262994), (1103, 0.02127481018003991), (1104, 0.008849905014045029), (1105, 0.03388198707213737), (1106, 0.050708460513782035), (1107, 0.06825168286684649), (1108, 0.0), (1109, 0.0033421177645755846), (1110, 0.002962598089172487), (1111, 0.0), (1112, 0.0030019784708230166), (1113, 0.0), (1114, 0.0027761112399212117), (1115, 0.03736018993831259), (1116, 0.0183398688877334), (1117, 0.016001786213455802), (1118, 0.008554804972306497), (1119, 0.042780132787103686), (1120, 0.008420585394781016), (1121, 0.016150120142775115), (1122, 0.012133192899067162), (1123, 0.012251272364495022), (1124, 0.003124787229429724), (1125, 0.00807973766968614), (1126, 0.0), (1127, 0.0), (1128, 0.030595388690299104), (1129, 0.044140709868618455), (1130, 0.008724548379251202), (1131, 0.003024088532843042), (1132, 0.018845929685612387), (1133, 0.05145397651674865), (1134, 0.012297823389943093), (1135, 0.029898816656969498), (1136, 0.00264235411645735), (1137, 0.03664818295864465), (1138, 0.03610939399314576), (1139, 0.028669797314479297), (1140, 0.06095487932490168), (1141, 0.012206498386441288), (1142, 0.0), (1143, 0.0), (1144, 0.002402986088708934), (1145, 0.03527645063694192), (1146, 0.0), (1147, 0.0), (1148, 0.012896326148456946), (1149, 0.0), (1150, 0.010652939922178336), (1151, 0.0), (1152, 0.0), (1153, 0.0), (1154, 0.0), (1155, 0.0335233213811375), (1156, 0.0), (1157, 0.03880228236782865), (1158, 0.0), (1159, 0.14721757429879567), (1160, 0.010841479606498419), (1161, 0.002720739824097006), (1162, 0.09061686465468932), (1163, 0.003008717655181635), (1164, 0.01510499061192857), (1165, 0.0), (1166, 0.0), (1167, 0.021629787658964582), (1168, 0.015479619501351584), (1169, 0.0035275039978645796), (1170, 0.003017416285890925), (1171, 0.0), (1172, 0.013659715335950583), (1173, 0.0076090164817781535), (1174, 0.00308124399263619), (1175, 0.02296651822836166), (1176, 0.02837298353404861), (1177, 0.015028021729148248), (1178, 0.008390259238881025), (1179, 0.0227643666961802), (1180, 0.00829325940096126), (1181, 0.0), (1182, 0.028359161027844415), (1183, 0.027844669131280992), (1184, 0.06256568923849012), (1185, 0.019263944534087703), (1186, 0.030217838632656403), (1187, 0.003541197145667734), (1188, 0.0031635315214787367), (1189, 0.0), (1190, 0.0), (1191, 0.011964605048482886), (1192, 0.027062780000401864), (1193, 0.0), (1194, 0.015975497079579352), (1195, 0.03324477581056429), (1196, 0.019614253238858712), (1197, 0.045206997080418615), (1198, 0.0), (1199, 0.002658811118493922), (1200, 0.0), (1201, 0.0), (1202, 0.0025565682779033856), (1203, 0.0028299197994459445), (1204, 0.0030580312225013825), (1205, 0.0), (1206, 0.002817557611644281), (1207, 0.008505986286629033), (1208, 0.0038426164415144193), (1209, 0.013880834116197586), (1210, 0.0), (1211, 0.012927611675155182), (1212, 0.0), (1213, 0.016062101739806392), (1214, 0.018490361467071052), (1215, 0.04357765059961125), (1216, 0.015104701055460874), (1217, 0.0026166684660671627), (1218, 0.02353710293375798), (1219, 0.022930648280798764), (1220, 0.04813456181453944), (1221, 0.04835683822504453), (1222, 0.0), (1223, 0.011963699227181067), (1224, 0.042904681809089136), (1225, 0.033411195979534486), (1226, 0.008323434440252565), (1227, 0.032186913826170144), (1228, 0.045173790793667595), (1229, 0.02595041169570678), (1230, 0.008070387526239337), (1231, 0.008057067315909487), (1232, 0.04141866358576803), (1233, 0.022886216095075775), (1234, 0.012095247826354062), (1235, 0.03129170131004599), (1236, 0.007646563836370174), (1237, 0.03731033655280817), (1238, 0.05059137637647228), (1239, 0.03511401865418325), (1240, 0.0), (1241, 0.0024777661679340605), (1242, 0.0), (1243, 0.0032874744603167767), (1244, 0.0), (1245, 0.04382660919733038), (1246, 0.02430321007055225), (1247, 0.01608854530630948), (1248, 0.042078236241797774), (1249, 0.015438128023752202), (1250, 0.010066660563590287), (1251, 0.0026671007314051794), (1252, 0.024136328390847478), (1253, 0.0), (1254, 0.06864056038704328), (1255, 0.023617796643988564), (1256, 0.008406610613877461), (1257, 0.041779871525509285), (1258, 0.0), (1259, 0.0076850058712995125), (1260, 0.08183142519977865), (1261, 0.022033465559934375), (1262, 0.0), (1263, 0.031772873520323805), (1264, 0.013758796598354035), (1265, 0.0), (1266, 0.010076434508243066), (1267, 0.04120340728764043), (1268, 0.0), (1269, 0.013621133352339469), (1270, 0.008162463566157971), (1271, 0.013575859304887557), (1272, 0.0), (1273, 0.0028685068125234936), (1274, 0.0), (1275, 0.013179444639263618), (1276, 0.006271422994568552), (1277, 0.0022539067955526966), (1278, 0.03289209232433072), (1279, 0.027741740522722557), (1280, 0.0), (1281, 0.01802005029579753), (1282, 0.008988911799390814), (1283, 0.008685751713952004), (1284, 0.03572497195198241), (1285, 0.0), (1286, 0.002954803139030674), (1287, 0.0), (1288, 0.01797296163771461), (1289, 0.0), (1290, 0.017568179274915358), (1291, 0.0), (1292, 0.008268292346667537), (1293, 0.017855201401136434), (1294, 0.013233287421532302), (1295, 0.01281239738032812), (1296, 0.018531170791456858), (1297, 0.0), (1298, 0.002997331857249467), (1299, 0.01036806556199124), (1300, 0.014638283716768558), (1301, 0.0026332046554762294), (1302, 0.010017388939585372), (1303, 0.019641539634933237), (1304, 0.04155127927387498), (1305, 0.0024917340071077478), (1306, 0.028159478355032807), (1307, 0.04264198563788331), (1308, 0.010933931814806992), (1309, 0.00762014372163424), (1310, 0.00891426535517581), (1311, 0.0), (1312, 0.010057238323005913), (1313, 0.0029700454083137805), (1314, 0.020999731232400513), (1315, 0.0), (1316, 0.0), (1317, 0.016468404627103726), (1318, 0.010628605068310697), (1319, 0.05158365419963975), (1320, 0.006600362586529946), (1321, 0.0), (1322, 0.0), (1323, 0.0), (1324, 0.0032150819142475412), (1325, 0.10731808537982736), (1326, 0.0714044033707505), (1327, 0.0), (1328, 0.0), (1329, 0.022200048720805655), (1330, 0.016994009846030337), (1331, 0.02261431247404513), (1332, 0.0), (1333, 0.07960760041891163), (1334, 0.025008234447076318), (1335, 0.02052807706319399), (1336, 0.0), (1337, 0.011656340025636914), (1338, 0.03065244500645227), (1339, 0.0121407817482773), (1340, 0.0025596448888991585), (1341, 0.026444071816408725), (1342, 0.046536887407205504), (1343, 0.009995234796084452), (1344, 0.013998572842749617), (1345, 0.0), (1346, 0.0), (1347, 0.0), (1348, 0.018594554707465474), (1349, 0.0033960413583334634), (1350, 0.0029359281745093093), (1351, 0.008788899714803655), (1352, 0.002560231327325004), (1353, 0.008278536724735061), (1354, 0.016426924692150294), (1355, 0.0030865204999479734), (1356, 0.033409604496392006), (1357, 0.010982633993933049), (1358, 0.0), (1359, 0.003238729315290499), (1360, 0.1575588973234613), (1361, 0.0), (1362, 0.014671569893265094), (1363, 0.0), (1364, 0.028748547711371104), (1365, 0.03089827131294549), (1366, 0.0027187872448865454), (1367, 0.002516990245204048), (1368, 0.009529476234550976), (1369, 0.009348663601613415), (1370, 0.002598836835601807), (1371, 0.009339935649444091), (1372, 0.028053980186367705), (1373, 0.027565435247996692), (1374, 0.0), (1375, 0.024550013047023193), (1376, 0.02342793460896477), (1377, 0.02419894415748745), (1378, 0.01593971582286327), (1379, 0.015434427811277157), (1380, 0.0), (1381, 0.02618267020659737), (1382, 0.04540516946798269), (1383, 0.05234624421127784), (1384, 0.01671469424149035), (1385, 0.03498594448189036), (1386, 0.0), (1387, 0.06573875240982693), (1388, 0.021440274720263844), (1389, 0.0), (1390, 0.0), (1391, 0.014435554221420177), (1392, 0.011461181629857367), (1393, 0.008828574805631699), (1394, 0.0026703657568412143), (1395, 0.0), (1396, 0.0), (1397, 0.002606426903840757), (1398, 0.003489092371180897), (1399, 0.0), (1400, 0.027227693717478355), (1401, 0.0), (1402, 0.012496926355977595), (1403, 0.002315722211704024), (1404, 0.0028490606244770305), (1405, 0.029614361871197814), (1406, 0.08117722375268409), (1407, 0.0), (1408, 0.01255470711687386), (1409, 0.029736482633924165), (1410, 0.04177138858386117), (1411, 0.011776593065652803), (1412, 0.029463288361335264), (1413, 0.003058876871808171), (1414, 0.04306772395442608), (1415, 0.002469420022019948), (1416, 0.05983803302031018), (1417, 0.008916046048220903), (1418, 0.0), (1419, 0.0423815681247747), (1420, 0.02272310919906062), (1421, 0.011488977027487818), (1422, 0.0029346225837788395), (1423, 0.014783086971347167), (1424, 0.0), (1425, 0.019105050444978663), (1426, 0.03895555148242122), (1427, 0.002470717217477104), (1428, 0.04751958496594666), (1429, 0.01917863222177241), (1430, 0.012685938233311593), (1431, 0.029344381815779863), (1432, 0.00875829279194578), (1433, 0.035048217356308906), (1434, 0.0027518019848299384), (1435, 0.009102703812751148), (1436, 0.035718300829780836), (1437, 0.0), (1438, 0.011311787993899095), (1439, 0.0031558087812295337), (1440, 0.025452201446496507), (1441, 0.0), (1442, 0.02925286448271632), (1443, 0.044697027432061054), (1444, 0.0), (1445, 0.02457434927961514), (1446, 0.002888341269940935), (1447, 0.0), (1448, 0.002784985058115045), (1449, 0.034027513599737796), (1450, 0.01110875183543843), (1451, 0.0), (1452, 0.0), (1453, 0.0), (1454, 0.03590956429158351), (1455, 0.008397870398243431), (1456, 0.05363104933025302), (1457, 0.008291680061072327), (1458, 0.01990660629376987), (1459, 0.00876398663911205), (1460, 0.041130281065971414), (1461, 0.017505364360299702), (1462, 0.04423004423525763), (1463, 0.011490458814882573), (1464, 0.002468919697465305), (1465, 0.0026131030022250776), (1466, 0.0), (1467, 0.007769961771820787), (1468, 0.0), (1469, 0.020438920851019133), (1470, 0.0), (1471, 0.008470195195803021), (1472, 0.012056159949114126), (1473, 0.0), (1474, 0.037353956317724014), (1475, 0.09518753692016307), (1476, 0.012074134909207111), (1477, 0.0027800178002303643), (1478, 0.032480525326118434), (1479, 0.018269369623899558), (1480, 0.008275691174825852), (1481, 0.04814316350757421), (1482, 0.07425630878117497), (1483, 0.01133352358783026), (1484, 0.03452012953553817), (1485, 0.0), (1486, 0.0), (1487, 0.0), (1488, 0.021644786261959793), (1489, 0.013391387684370714), (1490, 0.025694478052973573), (1491, 0.0), (1492, 0.007705067744319814), (1493, 0.01315321574472003), (1494, 0.0031050259141744974), (1495, 0.010048410051754875), (1496, 0.01855248317762418), (1497, 0.0034398196934193165), (1498, 0.028716516978685904), (1499, 0.0033739816740053254), (1500, 0.002978015979171714), (1501, 0.01362586404982725), (1502, 0.0), (1503, 0.015102511735114305), (1504, 0.00832755895164131), (1505, 0.038430519983087885), (1506, 0.01967726612604423), (1507, 0.009628532819231357), (1508, 0.0), (1509, 0.10448113178152552), (1510, 0.013013708777555002), (1511, 0.040161963713218674), (1512, 0.0), (1513, 0.011898451121836986), (1514, 0.002789387523458205), (1515, 0.03067952655532126), (1516, 0.030799421176400964), (1517, 0.0), (1518, 0.08020358257112746), (1519, 0.014752465157468031), (1520, 0.010602499388300426), (1521, 0.0), (1522, 0.0), (1523, 0.04043391347365545), (1524, 0.016308748214527782), (1525, 0.010126637432584396), (1526, 0.0), (1527, 0.03319538510307544), (1528, 0.002737589367059693), (1529, 0.0), (1530, 0.0), (1531, 0.01962779625572527), (1532, 0.018740696344794437), (1533, 0.04311153736150775), (1534, 0.00926616651058554), (1535, 0.008305171934259229), (1536, 0.05875384330627291), (1537, 0.012759354850719221), (1538, 0.0027358050902209453), (1539, 0.0026875744478539764), (1540, 0.03152256812451969), (1541, 0.053325649422049134), (1542, 0.03360163738075189), (1543, 0.0690589204905708), (1544, 0.008071289594031812), (1545, 0.00947116128687449), (1546, 0.015319090891324334), (1547, 0.06211392356340318), (1548, 0.0), (1549, 0.0), (1550, 0.0029720336020879015), (1551, 0.0), (1552, 0.0), (1553, 0.0244350387591577), (1554, 0.020677181478127755), (1555, 0.0421280167953851), (1556, 0.0), (1557, 0.034613627670563696), (1558, 0.0028017784067347344), (1559, 0.0), (1560, 0.011129889824670518), (1561, 0.008558015681675954), (1562, 0.009148373768390767), (1563, 0.0), (1564, 0.0), (1565, 0.0025762794123526814), (1566, 0.0), (1567, 0.029398804152177167), (1568, 0.0), (1569, 0.0), (1570, 0.026828917311460313), (1571, 0.009853035891011946), (1572, 0.021100219029087028), (1573, 0.0), (1574, 0.013008504855760628), (1575, 0.013854228990596237), (1576, 0.0148792691486184), (1577, 0.01376223459310714), (1578, 0.0), (1579, 0.0), (1580, 0.003325867379638402), (1581, 0.020198894101605306), (1582, 0.020447796867461246), (1583, 0.0), (1584, 0.0), (1585, 0.008604029804368724), (1586, 0.0), (1587, 0.009063077305581783), (1588, 0.0), (1589, 0.008721609637130638), (1590, 0.0), (1591, 0.009737813280085706), (1592, 0.026849265020571028), (1593, 0.01562201801811502), (1594, 0.0033745785952379553), (1595, 0.022046296705507853), (1596, 0.0), (1597, 0.024622396685058973), (1598, 0.0029752837494330564), (1599, 0.0), (1600, 0.014721685126236984), (1601, 0.0), (1602, 0.01927371993436312), (1603, 0.014317423066135357), (1604, 0.013526825296353101), (1605, 0.002722951936370751), (1606, 0.0), (1607, 0.0), (1608, 0.011378472063090977), (1609, 0.014558974665084962), (1610, 0.008243436483621294), (1611, 0.0), (1612, 0.01283652253512479), (1613, 0.0), (1614, 0.025724271606161045), (1615, 0.0), (1616, 0.049347422518280684), (1617, 0.021077972239043112), (1618, 0.0), (1619, 0.003212010368160171), (1620, 0.02915097820745348), (1621, 0.011260175249502177), (1622, 0.012719277713866486), (1623, 0.01198175375450304), (1624, 0.06433794422134359), (1625, 0.0027102531063700353), (1626, 0.043576843031595335), (1627, 0.0025764164946367007), (1628, 0.027364171289131912), (1629, 0.08082510598057377), (1630, 0.01734955865060548), (1631, 0.009370609134220779), (1632, 0.0), (1633, 0.07836741937889052), (1634, 0.043598813667234566), (1635, 0.026798074259820462), (1636, 0.0), (1637, 0.0032330333888951897), (1638, 0.037008846725741285), (1639, 0.007537445833249034), (1640, 0.0), (1641, 0.051922195020204405), (1642, 0.0027895265719200197), (1643, 0.02918151847555468), (1644, 0.0), (1645, 0.015411800702215771), (1646, 0.007163887890554652), (1647, 0.0), (1648, 0.0022508422323509096), (1649, 0.017502557890262116), (1650, 0.01195337815424944), (1651, 0.0), (1652, 0.0), (1653, 0.0029391892093830908), (1654, 0.040367155431749444), (1655, 0.0202620959318193), (1656, 0.003455556931295657), (1657, 0.00804131581668451), (1658, 0.030652761119251786), (1659, 0.03445178158638256), (1660, 0.0031491534956177517), (1661, 0.010635897257282085), (1662, 0.0), (1663, 0.024032951881883768), (1664, 0.0), (1665, 0.040203061204446625), (1666, 0.012712122423822554), (1667, 0.010526707959544223), (1668, 0.0), (1669, 0.0), (1670, 0.0031722965758419147), (1671, 0.03172638658011068), (1672, 0.011800735950378394), (1673, 0.008288854983427194), (1674, 0.05319652473172449), (1675, 0.0027457722306275145), (1676, 0.0), (1677, 0.06011694707908894), (1678, 0.03888258706103233), (1679, 0.010701522444444835), (1680, 0.13872027125556644), (1681, 0.020074437189595323), (1682, 0.06694683233748265), (1683, 0.0032252857822809436), (1684, 0.0), (1685, 0.013638640797082126), (1686, 0.0), (1687, 0.012110499362136205), (1688, 0.028923015374762585), (1689, 0.010362407560358498), (1690, 0.01500752707869333), (1691, 0.002571746350376768), (1692, 0.0), (1693, 0.0028299174117916315), (1694, 0.054233398952085246), (1695, 0.014413101979525753), (1696, 0.0), (1697, 0.0), (1698, 0.052230784545636934), (1699, 0.0), (1700, 0.0), (1701, 0.0), (1702, 0.0), (1703, 0.0031184905952136343), (1704, 0.0), (1705, 0.022859455443583934), (1706, 0.021992849000608338), (1707, 0.01233400459881418), (1708, 0.01384533488076677), (1709, 0.0), (1710, 0.04694331907638224), (1711, 0.003779661681822539), (1712, 0.029594139678577342), (1713, 0.0), (1714, 0.10691664973522398), (1715, 0.022194904185134035), (1716, 0.04047986290211589), (1717, 0.0031041184017630953), (1718, 0.0), (1719, 0.0027201463224683876), (1720, 0.0), (1721, 0.015735692057043952), (1722, 0.0030436377406379525), (1723, 0.0), (1724, 0.014689933780930592), (1725, 0.010919016414931286), (1726, 0.0), (1727, 0.011875877394611281), (1728, 0.0), (1729, 0.024887592011448374), (1730, 0.002747855310601468), (1731, 0.010589016750372248), (1732, 0.010556177485996859), (1733, 0.003304761249939942), (1734, 0.0), (1735, 0.008670977110324926), (1736, 0.011957350452552177), (1737, 0.03818366136641642), (1738, 0.007982019418184001), (1739, 0.01827583098379455), (1740, 0.021727002375560453), (1741, 0.009956659042238785), (1742, 0.024121159833742276), (1743, 0.035755989319785374), (1744, 0.03702390286573992), (1745, 0.007620766041456678), (1746, 0.0), (1747, 0.002345597235693553), (1748, 0.0035288090876573574), (1749, 0.0), (1750, 0.0288861430381884), (1751, 0.009992824236961509), (1752, 0.0), (1753, 0.0), (1754, 0.057040115274874376), (1755, 0.0), (1756, 0.012201773907277757), (1757, 0.0337432753657988), (1758, 0.011421034414037851), (1759, 0.0028478345612237416), (1760, 0.03554946257169175), (1761, 0.013222831261419994), (1762, 0.02367096516471573), (1763, 0.07108878279564611), (1764, 0.0103303196557766), (1765, 0.0031173015644968844), (1766, 0.0), (1767, 0.04293939732487351), (1768, 0.012252971360103145), (1769, 0.0), (1770, 0.0), (1771, 0.0), (1772, 0.12908640153356674), (1773, 0.024173178676932403), (1774, 0.03946479656831746), (1775, 0.010305896626376591), (1776, 0.13231369581180405), (1777, 0.018294264124804584), (1778, 0.01270770687472759), (1779, 0.03800471201470071), (1780, 0.019390554914144344), (1781, 0.007154140852501028), (1782, 0.002756665418202775), (1783, 0.008377502734899286), (1784, 0.02413803993613195), (1785, 0.0), (1786, 0.02043098973701995), (1787, 0.03427662275056512), (1788, 0.0), (1789, 0.007764141934713939), (1790, 0.0), (1791, 0.04812798717526278), (1792, 0.003542009502962443), (1793, 0.030642502080837852), (1794, 0.0), (1795, 0.01785188529796759), (1796, 0.04025070142568388), (1797, 0.03231613579760581), (1798, 0.003235669853334914), (1799, 0.06326913093514969), (1800, 0.0), (1801, 0.02272554938122719), (1802, 0.04096205460654079), (1803, 0.0), (1804, 0.0), (1805, 0.056363900620801544), (1806, 0.009179371687766825), (1807, 0.002956394711420981), (1808, 0.0027030781501331635), (1809, 0.0), (1810, 0.009442697868168353), (1811, 0.025622293746817387), (1812, 0.040295030012761614), (1813, 0.05177603881732384), (1814, 0.019879512798974916), (1815, 0.04408973091356362), (1816, 0.02925536511475142), (1817, 0.011611969591149273), (1818, 0.008437240520983592), (1819, 0.02642496763557482), (1820, 0.0), (1821, 0.02630265680696274), (1822, 0.0031816740341744265), (1823, 0.0), (1824, 0.06285943687284679), (1825, 0.02360104917270659), (1826, 0.0027254730643524283), (1827, 0.023114110262704074), (1828, 0.011122966408706837), (1829, 0.038572134093141315), (1830, 0.01913056096338727), (1831, 0.002980122375820716), (1832, 0.08453505612624451), (1833, 0.013660587544611177), (1834, 0.0), (1835, 0.01357638870415358), (1836, 0.0), (1837, 0.0), (1838, 0.0), (1839, 0.0), (1840, 0.058549227426192764), (1841, 0.0), (1842, 0.0), (1843, 0.03392010937946421), (1844, 0.0), (1845, 0.01007807477779615), (1846, 0.00867344990738753), (1847, 0.008681070646003887), (1848, 0.0032445746413993313), (1849, 0.0), (1850, 0.01619856037261907), (1851, 0.0031378602002708335), (1852, 0.012759775665824712), (1853, 0.012090156919073659), (1854, 0.010905454106055408), (1855, 0.012102598328256286), (1856, 0.0), (1857, 0.021503396639143958), (1858, 0.02383240805205708), (1859, 0.013643840765975624), (1860, 0.04026638870054281), (1861, 0.02744215621054331), (1862, 0.0033755904670852207), (1863, 0.0), (1864, 0.026734449859088145), (1865, 0.03861943692484749), (1866, 0.0032910884769823687), (1867, 0.00879309928639281), (1868, 0.0), (1869, 0.015081394319584725), (1870, 0.00882763211339978), (1871, 0.024116484813852562), (1872, 0.0030484513178795003), (1873, 0.04975750615085021), (1874, 0.06567182447974909), (1875, 0.0027677799414249915), (1876, 0.026686340730982097), (1877, 0.012300919835470958), (1878, 0.07521495432414922), (1879, 0.0256459681797028), (1880, 0.0), (1881, 0.0), (1882, 0.0029531055141172984), (1883, 0.0), (1884, 0.02651088940050654), (1885, 0.0035315363505920684), (1886, 0.002395616223547626), (1887, 0.0034156121328975343), (1888, 0.0), (1889, 0.0), (1890, 0.003344398902496466), (1891, 0.021605248126142437), (1892, 0.014486294684169124), (1893, 0.0031789803823653877), (1894, 0.0), (1895, 0.017691418643183552), (1896, 0.0031974487904319663), (1897, 0.032089718239532314), (1898, 0.05211020007434456), (1899, 0.008300313242218419), (1900, 0.02196643195738012), (1901, 0.08467582440632082), (1902, 0.06077393129461342), (1903, 0.03380698387533854), (1904, 0.0), (1905, 0.003285987964128486), (1906, 0.0247562357511374), (1907, 0.0032443016105046653), (1908, 0.04242327897319784), (1909, 0.0034210331338198185), (1910, 0.01152572053309397), (1911, 0.0), (1912, 0.009456098966355292), (1913, 0.060099933502624096), (1914, 0.0), (1915, 0.01693476724037386), (1916, 0.00317616963292449), (1917, 0.0), (1918, 0.01258831994500765), (1919, 0.008329684151564687), (1920, 0.07380305454544678), (1921, 0.014886518378327107), (1922, 0.011530342890543813), (1923, 0.022573599952513144), (1924, 0.01822568793420511), (1925, 0.06876230241248053), (1926, 0.04083002300151176), (1927, 0.024413569604516322), (1928, 0.0), (1929, 0.02169490964417455), (1930, 0.009000617170210086), (1931, 0.03719080715483812), (1932, 0.009245286353234223), (1933, 0.0), (1934, 0.0026912273430087204), (1935, 0.03373297085916777), (1936, 0.06538607795960573), (1937, 0.0347647104064414), (1938, 0.0), (1939, 0.0), (1940, 0.025528974404893445), (1941, 0.011821271353448546), (1942, 0.02550125340160475), (1943, 0.028404725991296346), (1944, 0.0), (1945, 0.008471913417281077), (1946, 0.0030971871587155537), (1947, 0.0034988868679613205), (1948, 0.020886100424545067), (1949, 0.04259931048776447), (1950, 0.00973449588628194), (1951, 0.0031978144882713134), (1952, 0.013933340887272282), (1953, 0.0), (1954, 0.010556934234351193), (1955, 0.0), (1956, 0.07140002684214945), (1957, 0.0), (1958, 0.05004720273870684), (1959, 0.030067156223235907), (1960, 0.02824524740916975), (1961, 0.01405492959184132), (1962, 0.0), (1963, 0.015194700307884317), (1964, 0.022469513177933585), (1965, 0.0), (1966, 0.0), (1967, 0.011096258227651808), (1968, 0.07956157018240845), (1969, 0.0029086927838282), (1970, 0.0707500059241084), (1971, 0.017228018226992933), (1972, 0.0), (1973, 0.007909611615796338), (1974, 0.01804281976113715), (1975, 0.09529105415671564), (1976, 0.011033347012160926), (1977, 0.011477324803117958), (1978, 0.007935595307199264), (1979, 0.008192394585478189), (1980, 0.0027033709394050556), (1981, 0.02189262096381263), (1982, 0.0), (1983, 0.02537192779300084), (1984, 0.009077805354790207), (1985, 0.060137905880609896), (1986, 0.01808322799142325), (1987, 0.015890922799814338), (1988, 0.0), (1989, 0.009174093770036943), (1990, 0.05008060431618832), (1991, 0.03594785723001929), (1992, 0.06119614115348085), (1993, 0.025380206470225694), (1994, 0.008787924913485899), (1995, 0.003240932758828523), (1996, 0.012432711011510658), (1997, 0.021544838468080117), (1998, 0.013095361714487158), (1999, 0.0), (2000, 0.013273899592000335), (2001, 0.021828677980688063), (2002, 0.01033735834536621), (2003, 0.0), (2004, 0.002832800807738881), (2005, 0.008005993015470888), (2006, 0.016837319456612022), (2007, 0.008126914637564757), (2008, 0.03472462139289423), (2009, 0.01169789390972852), (2010, 0.002380222954327139), (2011, 0.0027406638171934956), (2012, 0.0), (2013, 0.007093885498815306), (2014, 0.009823382608517426), (2015, 0.0), (2016, 0.025290141711745165), (2017, 0.010079715692082039), (2018, 0.0), (2019, 0.009809003146225495), (2020, 0.0), (2021, 0.0), (2022, 0.038392948201416754), (2023, 0.0186740033920309), (2024, 0.010937764989501827), (2025, 0.007344684482246327), (2026, 0.00840140355361932), (2027, 0.035122027067693525), (2028, 0.008022290456695442), (2029, 0.011151350752226499), (2030, 0.0), (2031, 0.0027198054392288773), (2032, 0.0), (2033, 0.027725722417529665), (2034, 0.009818592947257303), (2035, 0.03911402438612707), (2036, 0.023076210274079762), (2037, 0.03865335336440098), (2038, 0.009194298864817206), (2039, 0.013419356014373702), (2040, 0.07271964182170475), (2041, 0.0), (2042, 0.0), (2043, 0.02041721715872196), (2044, 0.01374412550256214), (2045, 0.013100625623699465), (2046, 0.0), (2047, 0.036705206581298756), (2048, 0.003102205680679355), (2049, 0.003322802574997455), (2050, 0.0), (2051, 0.01892521860341395), (2052, 0.0), (2053, 0.06322940916293672), (2054, 0.18917097180952563), (2055, 0.010352162081893107), (2056, 0.0), (2057, 0.00815408087828923), (2058, 0.02916818306577522), (2059, 0.0), (2060, 0.0421379973183531), (2061, 0.003052760532474467), (2062, 0.0), (2063, 0.05052379870998836), (2064, 0.02908402387534833), (2065, 0.03692652465269681), (2066, 0.020569543060837955), (2067, 0.00303215107751134), (2068, 0.0028640335804568443), (2069, 0.012665405145353872), (2070, 0.017385500665950522), (2071, 0.0), (2072, 0.003123166864508564), (2073, 0.02200431607857866), (2074, 0.007860201223748697), (2075, 0.033426691997524974), (2076, 0.017963443950489384), (2077, 0.010254166090601416), (2078, 0.032787194679781556), (2079, 0.01016396446647486), (2080, 0.011035817738854078), (2081, 0.022520483098201344), (2082, 0.023158762605869174), (2083, 0.013490389433292053), (2084, 0.0), (2085, 0.0), (2086, 0.010519285968267957), (2087, 0.0029479333653728485), (2088, 0.03691451289428479), (2089, 0.018745792723237314), (2090, 0.0), (2091, 0.003055980852960617), (2092, 0.010146075412640121), (2093, 0.02378700615946493), (2094, 0.0), (2095, 0.04555474248403074), (2096, 0.05827231738183226), (2097, 0.0372578659019796), (2098, 0.0), (2099, 0.05205134538319438), (2100, 0.008561532206862834), (2101, 0.010808263418016509), (2102, 0.0029465460219290983), (2103, 0.0029348419645792026), (2104, 0.0032188892398403324), (2105, 0.0032094963601140324), (2106, 0.0), (2107, 0.012995506430043543), (2108, 0.0033453437381502148), (2109, 0.00303822583291386), (2110, 0.046821464760647385), (2111, 0.118183998343805), (2112, 0.03671519469920169), (2113, 0.019392500534096906), (2114, 0.018981635191371783), (2115, 0.011035374650399226), (2116, 0.017977790005477487), (2117, 0.0028910976827773295), (2118, 0.005537433373191627), (2119, 0.04619819469843127), (2120, 0.008296641379977127), (2121, 0.033542966170616875), (2122, 0.0030427391277391825), (2123, 0.028009169187899058), (2124, 0.0), (2125, 0.0), (2126, 0.03498002636741306), (2127, 0.010821727951760621), (2128, 0.009712392182719163), (2129, 0.0407608492281652), (2130, 0.02207972363893685), (2131, 0.011448524337857768), (2132, 0.05324419759959488), (2133, 0.0028508349014671813), (2134, 0.014418863270214499), (2135, 0.030618757351940452), (2136, 0.0), (2137, 0.0042718592258955985), (2138, 0.0), (2139, 0.0), (2140, 0.018772689611853615), (2141, 0.012321205408770887), (2142, 0.015034328124557343), (2143, 0.011394345210274678), (2144, 0.0030402233004101316), (2145, 0.0), (2146, 0.0025757724197257572), (2147, 0.00945055517894364), (2148, 0.0031240239385431864), (2149, 0.015563571498606009), (2150, 0.040864785421615174), (2151, 0.09333636627593225), (2152, 0.011003168762236759), (2153, 0.0), (2154, 0.027281622333615647), (2155, 0.0030667176083672316), (2156, 0.03795339749398249), (2157, 0.021493053426381376), (2158, 0.009803432272231447), (2159, 0.003323565311782419), (2160, 0.0), (2161, 0.04686820826939633), (2162, 0.01226596697031056), (2163, 0.01063389927000627), (2164, 0.0), (2165, 0.010894347112966548), (2166, 0.012140310330695906), (2167, 0.013110041691077491), (2168, 0.0), (2169, 0.003033512723200924), (2170, 0.0), (2171, 0.0), (2172, 0.0), (2173, 0.0029679568470517156), (2174, 0.011321782434477757), (2175, 0.028146700252810544), (2176, 0.01423037337458482), (2177, 0.011729049503853468), (2178, 0.016838681620331204), (2179, 0.0), (2180, 0.030740491145267407), (2181, 0.014686986372933902), (2182, 0.011095535363876594), (2183, 0.009158873036008496), (2184, 0.007898273285243066), (2185, 0.0), (2186, 0.0), (2187, 0.03949695522309854), (2188, 0.014544473430062765), (2189, 0.004230900369973398), (2190, 0.06457328267762708), (2191, 0.014307235874603409), (2192, 0.030117314883165828), (2193, 0.003041447439145006), (2194, 0.010243676611752378), (2195, 0.0030060826506416007), (2196, 0.04237263407396079), (2197, 0.02307823857749937), (2198, 0.0), (2199, 0.003923420884485542), (2200, 0.0), (2201, 0.0257553198639168), (2202, 0.04776346219656341), (2203, 0.00814713794523361), (2204, 0.0), (2205, 0.08656967421820491), (2206, 0.021077468317255203), (2207, 0.018075018526011812), (2208, 0.019904856233680334), (2209, 0.003355499747470687), (2210, 0.03331763523283337), (2211, 0.013957279818276122), (2212, 0.011397355928812507), (2213, 0.15971142760971335), (2214, 0.012419009758201217), (2215, 0.0), (2216, 0.04799557278823883), (2217, 0.0), (2218, 0.01098027528955415), (2219, 0.037592389307852), (2220, 0.0), (2221, 0.02205869015260658), (2222, 0.010201749160827264), (2223, 0.03400375748462893), (2224, 0.010838531234690751), (2225, 0.018092831077055293), (2226, 0.016287773159440654), (2227, 0.0), (2228, 0.02366533529542212), (2229, 0.012482463848202285), (2230, 0.0030953644638005077), (2231, 0.014298703480410372), (2232, 0.0), (2233, 0.0), (2234, 0.014012382122816136), (2235, 0.035954937310300236), (2236, 0.0027350194593076843), (2237, 0.00264476354243799), (2238, 0.0), (2239, 0.00868499472579563), (2240, 0.01045829203271549), (2241, 0.0), (2242, 0.00286482637917398), (2243, 0.0), (2244, 0.0), (2245, 0.008599672810518549), (2246, 0.0397567154019715), (2247, 0.0), (2248, 0.002709676887530077), (2249, 0.025147157665881586), (2250, 0.057921311360400386), (2251, 0.0041936295431547555), (2252, 0.00905925152358214), (2253, 0.0), (2254, 0.04078245192946171), (2255, 0.03291311286913483), (2256, 0.0), (2257, 0.0038805106421504133), (2258, 0.021408743034576228), (2259, 0.0), (2260, 0.003224237371853728), (2261, 0.021532534776220157), (2262, 0.022837983755843914), (2263, 0.010600360298205144), (2264, 0.018057556851376222), (2265, 0.0027361977313951364), (2266, 0.059697847010214654), (2267, 0.0), (2268, 0.016087145796550125), (2269, 0.013831739244316712), (2270, 0.0026041756510170352), (2271, 0.008426126047691943), (2272, 0.0), (2273, 0.02578098481236421), (2274, 0.008192360400284215), (2275, 0.02344370001197787), (2276, 0.017273352854083577), (2277, 0.01617162605531677), (2278, 0.01001995257820967), (2279, 0.019804265008965625), (2280, 0.008329054964729653), (2281, 0.01181226798262116), (2282, 0.04152784717407811), (2283, 0.0), (2284, 0.011483745022067013), (2285, 0.011599394250745442), (2286, 0.0038518051184140718), (2287, 0.01737089461072113), (2288, 0.003188055774163648), (2289, 0.0029931583759644923), (2290, 0.0), (2291, 0.03384704672142846), (2292, 0.028309734540186846), (2293, 0.003285356229240688), (2294, 0.008532523541413787), (2295, 0.021637494327838198), (2296, 0.03689959924215383), (2297, 0.0), (2298, 0.0), (2299, 0.0048197592756398155), (2300, 0.0), (2301, 0.0027570719007629333), (2302, 0.0034234080957685886), (2303, 0.00284263500968137), (2304, 0.0093944554716477), (2305, 0.0), (2306, 0.0038133305246331357), (2307, 0.0), (2308, 0.012360439878898566), (2309, 0.0028791655615168937), (2310, 0.0341084955439441), (2311, 0.0), (2312, 0.0), (2313, 0.0030600573121359487), (2314, 0.014234041035826706), (2315, 0.01731023335702092), (2316, 0.07128852966015829), (2317, 0.011026992642247985), (2318, 0.013884636243159618), (2319, 0.031068030055649006), (2320, 0.0035038781677557917), (2321, 0.0364404352597549), (2322, 0.008672978435768496), (2323, 0.010754727754541563), (2324, 0.007777592244806036), (2325, 0.03856952033241605), (2326, 0.025873215684820944), (2327, 0.008301196778117576), (2328, 0.0), (2329, 0.0), (2330, 0.00941372796896974), (2331, 0.06821440450838638), (2332, 0.0), (2333, 0.0), (2334, 0.020920674169308616), (2335, 0.0), (2336, 0.01818220422008626), (2337, 0.0), (2338, 0.011646587431843011), (2339, 0.0), (2340, 0.08192372172998817), (2341, 0.0), (2342, 0.0), (2343, 0.0), (2344, 0.015986425008318365), (2345, 0.0), (2346, 0.012986844260094223), (2347, 0.0027707036139972764), (2348, 0.002838969717217735), (2349, 0.004173193855554769), (2350, 0.04540696515596794), (2351, 0.0), (2352, 0.007609235811086218), (2353, 0.023162229916506658), (2354, 0.016673771739050935), (2355, 0.018972538583084755), (2356, 0.003369349371892439), (2357, 0.0), (2358, 0.0), (2359, 0.1019071338319547), (2360, 0.0), (2361, 0.003196982394333842), (2362, 0.0027628566594667748), (2363, 0.010390661431935212), (2364, 0.0), (2365, 0.0), (2366, 0.0), (2367, 0.07393022838452802), (2368, 0.03840158871742955), (2369, 0.012425321728071651), (2370, 0.028958363246303354), (2371, 0.0), (2372, 0.0), (2373, 0.0), (2374, 0.01616804157353709), (2375, 0.0280809655599234), (2376, 0.0), (2377, 0.08362872053786066), (2378, 0.003547058129400398), (2379, 0.004349812003214425), (2380, 0.0), (2381, 0.0), (2382, 0.002581886222000201), (2383, 0.009348899352731825), (2384, 0.0), (2385, 0.031498907410755), (2386, 0.003081491564322652), (2387, 0.0030074755688710678), (2388, 0.019526499366178143), (2389, 0.0), (2390, 0.003304135434264999), (2391, 0.050352596118973345), (2392, 0.0039353597762149355), (2393, 0.04970486213824389), (2394, 0.003175892896543603), (2395, 0.0), (2396, 0.012025918594422766), (2397, 0.05955026667386239), (2398, 0.0), (2399, 0.0027821849066654728), (2400, 0.04438555607812798), (2401, 0.038138645274945635), (2402, 0.039837774829287353), (2403, 0.003473837726739096), (2404, 0.017533278847433702), (2405, 0.038056015919169954), (2406, 0.023874995661064012), (2407, 0.004166320294208051), (2408, 0.019550062274987665), (2409, 0.0), (2410, 0.013073968409552546), (2411, 0.0034128986799307616), (2412, 0.009917869232880053), (2413, 0.05287630963695475), (2414, 0.009955902204635075), (2415, 0.0036573139967169092), (2416, 0.033011808038211306), (2417, 0.0035289819854594094), (2418, 0.013664138396432744), (2419, 0.003166546536471012), (2420, 0.0), (2421, 0.0), (2422, 0.0029257241909169734), (2423, 0.003798423648973843), (2424, 0.007621113844263467), (2425, 0.003906292242347847), (2426, 0.0), (2427, 0.0035010063076601635), (2428, 0.0033262400265149654), (2429, 0.055012813825903575), (2430, 0.0030579664975309644), (2431, 0.0), (2432, 0.0), (2433, 0.0), (2434, 0.003603217058788335), (2435, 0.018343731310748245), (2436, 0.003368681018261391), (2437, 0.0034210701554090403), (2438, 0.003733320992590837), (2439, 0.024367265232618764), (2440, 0.006121894034816935), (2441, 0.002440686580314456), (2442, 0.02834791497717345), (2443, 0.014952427433447622), (2444, 0.00857656358793189), (2445, 0.00819480558902259), (2446, 0.0027994175884451114), (2447, 0.08242433772825797), (2448, 0.003936237315176301), (2449, 0.008961235785721703), (2450, 0.0), (2451, 0.0), (2452, 0.024680480527253024), (2453, 0.026068947580585127), (2454, 0.0036395292439659437), (2455, 0.0), (2456, 0.0101939382145391), (2457, 0.010720378206881816), (2458, 0.0), (2459, 0.020274489742568808), (2460, 0.029851456053803183), (2461, 0.05939936965577275), (2462, 0.01058249404641886), (2463, 0.027214718487428846), (2464, 0.012527014066397765), (2465, 0.036931762713680344), (2466, 0.0030953645049394173), (2467, 0.002907941187385378), (2468, 0.020227069352631216), (2469, 0.0023598018015987383), (2470, 0.0), (2471, 0.0), (2472, 0.019816175809659126), (2473, 0.0028704677463802777), (2474, 0.0023124149262145717), (2475, 0.0032413225867455988), (2476, 0.0), (2477, 0.017236281177226982), (2478, 0.0034600172554407854), (2479, 0.0), (2480, 0.0), (2481, 0.0138715184954127), (2482, 0.002778188657641815), (2483, 0.0), (2484, 0.004029963929931152), (2485, 0.0), (2486, 0.050058258983520905), (2487, 0.04459661325569932), (2488, 0.01456462238238546), (2489, 0.021705625888983407), (2490, 0.004344163771041246), (2491, 0.04915203321402883), (2492, 0.0030328937521544564), (2493, 0.009826509761714439), (2494, 0.012848842980853478), (2495, 0.0030137634378865964), (2496, 0.0028186451668660334), (2497, 0.0), (2498, 0.0), (2499, 0.02391912688410552), (2500, 0.0), (2501, 0.0), (2502, 0.05524676627410883), (2503, 0.0), (2504, 0.00964320121154211), (2505, 0.003347288321806426), (2506, 0.0), (2507, 0.003274137254598648), (2508, 0.0), (2509, 0.0024768597708008343), (2510, 0.0), (2511, 0.009228801693280116), (2512, 0.02901952547944653), (2513, 0.037429956991372984), (2514, 0.0), (2515, 0.0), (2516, 0.0), (2517, 0.012969461126760265), (2518, 0.011149887272227797), (2519, 0.008672903508939286), (2520, 0.0026128079803051157), (2521, 0.0), (2522, 0.022699744470950443), (2523, 0.0), (2524, 0.017201573225427046), (2525, 0.002838142389611966), (2526, 0.002466055098644092), (2527, 0.05367813333348924), (2528, 0.002798988583397102), (2529, 0.11273994740444554), (2530, 0.0038308073545948356), (2531, 0.0124202858095086), (2532, 0.0), (2533, 0.016753338705051884), (2534, 0.10311957928066603), (2535, 0.00334059381686675), (2536, 0.0), (2537, 0.0041346608397882), (2538, 0.0018033865019348814), (2539, 0.007729142756812539), (2540, 0.002872603569821064), (2541, 0.029067596868228518), (2542, 0.030704349412487182), (2543, 0.0), (2544, 0.0), (2545, 0.0031401519342216), (2546, 0.011890607026899484), (2547, 0.08131676575797149), (2548, 0.0), (2549, 0.01000340811561435), (2550, 0.002253829977475415), (2551, 0.0), (2552, 0.04633265492952968), (2553, 0.016239215993763555), (2554, 0.003040576952042503), (2555, 0.018086361157007742), (2556, 0.002794787031876141), (2557, 0.003738084337123434), (2558, 0.03263820077945429), (2559, 0.003962145918353322), (2560, 0.019117686035068842), (2561, 0.0031444684770466674), (2562, 0.024259007544635766), (2563, 0.0024927441600268558), (2564, 0.0), (2565, 0.003197304159718299), (2566, 0.0), (2567, 0.0), (2568, 0.1013258944602707), (2569, 0.07812444039390758), (2570, 0.02541134994186976), (2571, 0.04250017825501456), (2572, 0.0028551081156327294), (2573, 0.0), (2574, 0.012613051074735513), (2575, 0.0), (2576, 0.0), (2577, 0.0), (2578, 0.0), (2579, 0.00337842435782025), (2580, 0.010642829526181476), (2581, 0.010506917012087454), (2582, 0.0), (2583, 0.0), (2584, 0.008209627729887111), (2585, 0.04428720715792712), (2586, 0.0), (2587, 0.011439633003131885), (2588, 0.0), (2589, 0.0), (2590, 0.0), (2591, 0.020416668024862052), (2592, 0.0033367251168658074), (2593, 0.002780803328105777), (2594, 0.0), (2595, 0.027669679661300402), (2596, 0.027697532342092945), (2597, 0.0), (2598, 0.015093529882069738), (2599, 0.0), (2600, 0.010607896499995452), (2601, 0.0031433246968412434), (2602, 0.009477496462038087), (2603, 0.06404959537647223), (2604, 0.06064863755452188), (2605, 0.0), (2606, 0.003034845859176831), (2607, 0.010238162155647611), (2608, 0.02106127986207872), (2609, 0.0032148297123014255), (2610, 0.026960218724747773), (2611, 0.002585767089298695), (2612, 0.011509883628491991), (2613, 0.003550779226491156), (2614, 0.006545371738281527), (2615, 0.0), (2616, 0.0262940431170968), (2617, 0.017920282808270058), (2618, 0.0), (2619, 0.003629643981343463), (2620, 0.0), (2621, 0.027123257695272372), (2622, 0.015107816208233552), (2623, 0.0034121052653969877), (2624, 0.024901245807174094), (2625, 0.013122971622865544), (2626, 0.010839763736977178), (2627, 0.0), (2628, 0.00394561911450191), (2629, 0.018109578937330856), (2630, 0.0), (2631, 0.0), (2632, 0.015578274917682175), (2633, 0.0031642390810954785), (2634, 0.021273591307325205), (2635, 0.021424787444568508), (2636, 0.008947299939938591), (2637, 0.0), (2638, 0.02767944259024966), (2639, 0.0), (2640, 0.013487757102751734), (2641, 0.0), (2642, 0.029193033288828312), (2643, 0.003898056326082497), (2644, 0.05966071548003613), (2645, 0.014699721802647813), (2646, 0.0), (2647, 0.013056144605276012), (2648, 0.0), (2649, 0.04196225551505972), (2650, 0.035755505756979764), (2651, 0.0028516283179374977), (2652, 0.0030470777849936734), (2653, 0.002908498294382684), (2654, 0.03951466067421683), (2655, 0.003994263805211446), (2656, 0.0), (2657, 0.0), (2658, 0.0), (2659, 0.0), (2660, 0.012263138232063996), (2661, 0.023396288679355302), (2662, 0.0), (2663, 0.0), (2664, 0.0032132621073660893), (2665, 0.0), (2666, 0.012541732767017357), (2667, 0.0), (2668, 0.04229050576387787), (2669, 0.014606394423792345), (2670, 0.019883812722362688), (2671, 0.006539523415921798), (2672, 0.0), (2673, 0.004009479349919922), (2674, 0.002774490292876105), (2675, 0.03003013401172648), (2676, 0.0), (2677, 0.0), (2678, 0.004908673399270625), (2679, 0.002852079761713223), (2680, 0.03132792041002014), (2681, 0.017859357227312505), (2682, 0.022434935169228013), (2683, 0.014493364151866115), (2684, 0.0), (2685, 0.0), (2686, 0.01118121747226841), (2687, 0.0029653289497176016), (2688, 0.0), (2689, 0.0), (2690, 0.024072149746426828), (2691, 0.0), (2692, 0.009918568722061226), (2693, 0.07197527480650585), (2694, 0.00401485475650218), (2695, 0.09689885311436233), (2696, 0.003503692355139996), (2697, 0.009350826086993764), (2698, 0.015543319733218848), (2699, 0.16598256663928035), (2700, 0.0), (2701, 0.0), (2702, 0.00344482228590178), (2703, 0.0), (2704, 0.0), (2705, 0.0032635332429486684), (2706, 0.08204167274926016), (2707, 0.0035374403239490575), (2708, 0.0), (2709, 0.0), (2710, 0.0), (2711, 0.016943826666753162), (2712, 0.03775506199568395), (2713, 0.0), (2714, 0.05644188924072129), (2715, 0.0), (2716, 0.01241665833104006), (2717, 0.0), (2718, 0.0), (2719, 0.0), (2720, 0.013967710432887913), (2721, 0.0026189350457927678), (2722, 0.004231181979186812), (2723, 0.013825070342747558), (2724, 0.002678259790375986), (2725, 0.013786244672028769), (2726, 0.0), (2727, 0.010112971823138443), (2728, 0.010847722975784698), (2729, 0.010537104809125604), (2730, 0.01213524617256812), (2731, 0.004045759562835978), (2732, 0.0), (2733, 0.010971417643637075), (2734, 0.007076594651705033), (2735, 0.002782851603920428), (2736, 0.012320504483696638), (2737, 0.0), (2738, 0.0035568728152614894), (2739, 0.01253476651059832), (2740, 0.003393603175601243), (2741, 0.002713798348568677), (2742, 0.007806524879820742), (2743, 0.011052077190683785), (2744, 0.052009593703774004), (2745, 0.003042243181784795), (2746, 0.030407815594555864), (2747, 0.002611628894086481), (2748, 0.0032775046939907413), (2749, 0.020519734117707886), (2750, 0.0), (2751, 0.007973361851474193), (2752, 0.0370226795253243), (2753, 0.03744115987269405), (2754, 0.0), (2755, 0.0031870732480497807), (2756, 0.022608274254422637), (2757, 0.08020677140406167), (2758, 0.010948026681448904), (2759, 0.0), (2760, 0.015981086575776713), (2761, 0.037476120150920736), (2762, 0.0334154779075779), (2763, 0.0), (2764, 0.004294060412251424), (2765, 0.0028649551532115925), (2766, 0.04277864780868044), (2767, 0.01005703127113273), (2768, 0.016236447641170056), (2769, 0.0035575430831343855), (2770, 0.0), (2771, 0.06650466625459577), (2772, 0.003570346442848053), (2773, 0.0), (2774, 0.02183493643364798), (2775, 0.004091731530847768), (2776, 0.0032461796637649467), (2777, 0.05649478326461498), (2778, 0.015587198561865788), (2779, 0.00287724270632167), (2780, 0.022103458991972615), (2781, 0.010729981202225564), (2782, 0.03094119795655879), (2783, 0.0030332332221856763), (2784, 0.011674714421726858), (2785, 0.014814712797355963), (2786, 0.02964921629591303), (2787, 0.0), (2788, 0.008559956491422332), (2789, 0.010755301162292735), (2790, 0.009361381494325145), (2791, 0.007711096856479793), (2792, 0.013657082431547295), (2793, 0.0), (2794, 0.010225145845575455), (2795, 0.02689769359165754), (2796, 0.0034492749541893105), (2797, 0.0036891398813343407), (2798, 0.012101957473664599), (2799, 0.011054478469636139), (2800, 0.07311926943858477), (2801, 0.0), (2802, 0.0029471871434128237), (2803, 0.04768892267236918), (2804, 0.04758072336572057), (2805, 0.0), (2806, 0.0), (2807, 0.0317093039821067), (2808, 0.019695219248281975), (2809, 0.03242985289118782), (2810, 0.0), (2811, 0.0), (2812, 0.0028404853320078433), (2813, 0.0), (2814, 0.01954904056622718), (2815, 0.016915407504343945), (2816, 0.031538574879418656), (2817, 0.009493942044308151), (2818, 0.0), (2819, 0.0), (2820, 0.0), (2821, 0.003199717649098376), (2822, 0.01620790582702308), (2823, 0.0), (2824, 0.009622382706181282), (2825, 0.008306183302034411), (2826, 0.003030123885214161), (2827, 0.030402296095155712), (2828, 0.012507142117042177), (2829, 0.0), (2830, 0.0033544312417023974), (2831, 0.0166763022687841), (2832, 0.003955463149335943), (2833, 0.007494636989417432), (2834, 0.0037392981381984118), (2835, 0.0), (2836, 0.018432058335578788), (2837, 0.0), (2838, 0.003851861446704102), (2839, 0.02385539521784751), (2840, 0.0033615985228780607), (2841, 0.026549264284280984), (2842, 0.007697909043357508), (2843, 0.061169445720379224), (2844, 0.03982686861300608), (2845, 0.020059774190200653), (2846, 0.0035267269772970254), (2847, 0.009751459826229828), (2848, 0.033030557662957254), (2849, 0.01207536511855572), (2850, 0.0), (2851, 0.0109544387346589), (2852, 0.0), (2853, 0.027547847047178727), (2854, 0.028387659969859348), (2855, 0.0), (2856, 0.0), (2857, 0.014710935855307318), (2858, 0.00427209770315489), (2859, 0.0028575156520976), (2860, 0.03506836663240985), (2861, 0.003995032790701914), (2862, 0.002808916928327901), (2863, 0.03083575041124912), (2864, 0.0), (2865, 0.012341255694081682), (2866, 0.0), (2867, 0.0), (2868, 0.01102599005534131), (2869, 0.0), (2870, 0.004085883001126248), (2871, 0.007476192248169638), (2872, 0.003469434237621183), (2873, 0.04262992807517346), (2874, 0.019812690060146666), (2875, 0.0), (2876, 0.00251727003839812), (2877, 0.09170030727700852), (2878, 0.0031771882303815754), (2879, 0.019428598797488615), (2880, 0.0), (2881, 0.018068104844703076), (2882, 0.003275231958909614), (2883, 0.0040787069906546135), (2884, 0.039727262787996556), (2885, 0.0), (2886, 0.023242090914449787), (2887, 0.0030539993703049295), (2888, 0.0032649030649736844), (2889, 0.021961317267595065), (2890, 0.003325844851406897), (2891, 0.0), (2892, 0.011312691124275793), (2893, 0.003417973182731877), (2894, 0.0030929955952818445), (2895, 0.0036077051210770127), (2896, 0.0), (2897, 0.00803114383645255), (2898, 0.0), (2899, 0.0028333099059338887), (2900, 0.0030044452816599646), (2901, 0.0038697419259792836), (2902, 0.0022167374110891903), (2903, 0.012809127942919583), (2904, 0.003134919849716862), (2905, 0.0), (2906, 0.011391564951525254), (2907, 0.002795320268357757), (2908, 0.02387265857642895), (2909, 0.0029395314093448883), (2910, 0.023835586648619435), (2911, 0.003136846348694307), (2912, 0.002918462428150967), (2913, 0.013793033395192828), (2914, 0.0034086673414214256), (2915, 0.0032776715260904557), (2916, 0.003376048363330908), (2917, 0.04491728054147922), (2918, 0.04865710136569581), (2919, 0.0921422788290569), (2920, 0.0027577241865323946), (2921, 0.009962657481851395), (2922, 0.0), (2923, 0.0040610043831332725), (2924, 0.003495494641448202), (2925, 0.009170773061929167), (2926, 0.0031521173636369733), (2927, 0.0), (2928, 0.0), (2929, 0.040927436020761127), (2930, 0.027126950216140977), (2931, 0.05601349595756208), (2932, 0.03220962870998987), (2933, 0.010120829977445917), (2934, 0.011505335761917625), (2935, 0.0), (2936, 0.0034119057452185533), (2937, 0.004328022122451344), (2938, 0.0), (2939, 0.010472053183179111), (2940, 0.003221516109120571), (2941, 0.012692687725920282), (2942, 0.02625310810570714), (2943, 0.003003197394654297), (2944, 0.022095896755566773), (2945, 0.0029503525775386), (2946, 0.002966193098632486), (2947, 0.0), (2948, 0.05304137770214036), (2949, 0.0032204226000455433), (2950, 0.0), (2951, 0.0), (2952, 0.010189747722469321), (2953, 0.003190282897255905), (2954, 0.0027520651556125174), (2955, 0.0), (2956, 0.0), (2957, 0.020378332664670942), (2958, 0.0), (2959, 0.09220876800175754), (2960, 0.0), (2961, 0.0112430044631724), (2962, 0.008001165510967008), (2963, 0.018484092286378564), (2964, 0.04025668110902657), (2965, 0.01132085418373967), (2966, 0.0036640071313084922), (2967, 0.0), (2968, 0.029353560571174084), (2969, 0.0024998019722517416), (2970, 0.0032126298817346877), (2971, 0.007315958438099088), (2972, 0.002841018431464264), (2973, 0.009687089341961864), (2974, 0.0033839441691278743), (2975, 0.055011838114750015), (2976, 0.0026999837483146125), (2977, 0.0030860832972049866), (2978, 0.009142509754568652), (2979, 0.010730492356915401), (2980, 0.0029559955264736233), (2981, 0.0678914409188684), (2982, 0.038981723405323195), (2983, 0.0), (2984, 0.01187942033488174), (2985, 0.009940611682823182), (2986, 0.003565128095778086), (2987, 0.0034795800827025812), (2988, 0.02147466121877923), (2989, 0.004199788702030096), (2990, 0.0), (2991, 0.0), (2992, 0.02242094799099807), (2993, 0.0036353973902520666), (2994, 0.008462598634172529), (2995, 0.002856548215439413), (2996, 0.026809560474024947), (2997, 0.0028488153637687883), (2998, 0.004524844359237293), (2999, 0.002996938938832974), (3000, 0.0030859701103178854), (3001, 0.031745566103887644), (3002, 0.013076083155128076), (3003, 0.003348202857673839), (3004, 0.0037123605413108512), (3005, 0.0), (3006, 0.0), (3007, 0.003219918207687072), (3008, 0.0), (3009, 0.0), (3010, 0.0029064295866336096), (3011, 0.021092383873206076), (3012, 0.012805918400431566), (3013, 0.0034000682504260866), (3014, 0.0028453284254701164), (3015, 0.0038193548222896076), (3016, 0.08429614850704278), (3017, 0.0), (3018, 0.03159181928644455), (3019, 0.013296775275306136), (3020, 0.0036590027312219304), (3021, 0.009321451641715318), (3022, 0.0), (3023, 0.018679353841500577), (3024, 0.021144622198051508), (3025, 0.0), (3026, 0.003330009970489252), (3027, 0.08583323041424704), (3028, 0.0029126000562084103), (3029, 0.0), (3030, 0.00408310382573828), (3031, 0.0036817978279295796), (3032, 0.0033736806587955854), (3033, 0.0), (3034, 0.0), (3035, 0.0028693327302105956), (3036, 0.0028655650629529597), (3037, 0.003181476846916352), (3038, 0.0), (3039, 0.0), (3040, 0.004209148373550875), (3041, 0.0), (3042, 0.004083820898925989), (3043, 0.03395962840314813), (3044, 0.0032854282517088365), (3045, 0.00694346410839884), (3046, 0.0029561513955636692), (3047, 0.0), (3048, 0.010462380834430445), (3049, 0.0), (3050, 0.0027614170335425237), (3051, 0.004299322368026829), (3052, 0.01760746110298871), (3053, 0.0), (3054, 0.0), (3055, 0.004101326922707089), (3056, 0.017248780008162035), (3057, 0.10146745586998764), (3058, 0.0), (3059, 0.0), (3060, 0.018100859180544517), (3061, 0.0), (3062, 0.003341537847325764), (3063, 0.038165332012711356), (3064, 0.003279626675865069), (3065, 0.002560102084141087), (3066, 0.0), (3067, 0.0029775347453183006), (3068, 0.0), (3069, 0.012588489265135266), (3070, 0.05729249411710119), (3071, 0.019502243469704965), (3072, 0.014982529488352674), (3073, 0.09066416177276676), (3074, 0.0036978884134771686), (3075, 0.0029272399093513875), (3076, 0.014948363459182417), (3077, 0.036823639730175786), (3078, 0.0), (3079, 0.011924852901717563), (3080, 0.0), (3081, 0.015170684495726705), (3082, 0.007918870283758313), (3083, 0.0), (3084, 0.003196711319761284), (3085, 0.008032356034258819), (3086, 0.032626704197833846), (3087, 0.0), (3088, 0.0), (3089, 0.0), (3090, 0.017510715391284636), (3091, 0.002522786472729175), (3092, 0.0), (3093, 0.02124808055172934), (3094, 0.0035266633615845984), (3095, 0.03807876272689744), (3096, 0.0026200056463973574), (3097, 0.021866291615220117), (3098, 0.0), (3099, 0.10049491806202192), (3100, 0.0), (3101, 0.025142125829543022), (3102, 0.0), (3103, 0.0), (3104, 0.056832345839557694), (3105, 0.0), (3106, 0.0), (3107, 0.0), (3108, 0.07637539385282967), (3109, 0.00948248524769839), (3110, 0.024014486948186056), (3111, 0.002697613286978803), (3112, 0.03799750112057294), (3113, 0.0030741557773464666), (3114, 0.07213053425501686), (3115, 0.0), (3116, 0.03329638481054644), (3117, 0.03284032673532854), (3118, 0.019810110694050826), (3119, 0.015659080662596282), (3120, 0.03404444138487515), (3121, 0.008315036926184743), (3122, 0.015218932469647195), (3123, 0.031506273151311485), (3124, 0.03355768826147984), (3125, 0.0030289173692101727), (3126, 0.0), (3127, 0.008144432339935146), (3128, 0.003799364650465118), (3129, 0.01172158236404096), (3130, 0.0), (3131, 0.024068488544579797), (3132, 0.0), (3133, 0.00836879149678838), (3134, 0.0), (3135, 0.0), (3136, 0.0), (3137, 0.005594857882136199), (3138, 0.0), (3139, 0.004267298813605739), (3140, 0.00379314587073194), (3141, 0.009515570542943901), (3142, 0.023935004492677076), (3143, 0.06784877017391613), (3144, 0.006629404015323163), (3145, 0.0), (3146, 0.033451727908130786), (3147, 0.05933158210596507), (3148, 0.05928175386490433), (3149, 0.029857937748398244), (3150, 0.0031534888337833907), (3151, 0.012279379212675306), (3152, 0.002351999943405702), (3153, 0.05698342185735528), (3154, 0.024271074571946234), (3155, 0.011500251647094572), (3156, 0.017891942589808453), (3157, 0.0033547751202536447), (3158, 0.039716782210665214), (3159, 0.003730314845389939), (3160, 0.0), (3161, 0.07364486872121326), (3162, 0.0), (3163, 0.0), (3164, 0.0), (3165, 0.0034618438914576872), (3166, 0.00418081663453346), (3167, 0.010672840011976588), (3168, 0.0), (3169, 0.0), (3170, 0.002867365723166744), (3171, 0.023173551961620874), (3172, 0.026195201549723587), (3173, 0.00296826085227301), (3174, 0.0030059832222487422), (3175, 0.05712655161145634), (3176, 0.0), (3177, 0.0), (3178, 0.004765342019833402), (3179, 0.0), (3180, 0.010988259359638193), (3181, 0.0), (3182, 0.02756581891870255), (3183, 0.0033005045870989), (3184, 0.003237281175210974), (3185, 0.0), (3186, 0.028925702629135405), (3187, 0.0031717515837841963), (3188, 0.028614049751515103), (3189, 0.009354398344431763), (3190, 0.0), (3191, 0.0), (3192, 0.020199831612011516), (3193, 0.04726632307897628), (3194, 0.002844853126637592), (3195, 0.002966091688111844), (3196, 0.031046357631099718), (3197, 0.0), (3198, 0.0031136108401511333), (3199, 0.03531452847043323), (3200, 0.03611114298961443), (3201, 0.0), (3202, 0.0), (3203, 0.0), (3204, 0.0), (3205, 0.0073467177674804585), (3206, 0.020153474757598842), (3207, 0.0), (3208, 0.009359517474718387), (3209, 0.03701213421180324), (3210, 0.011521361670007429), (3211, 0.044249086171975045), (3212, 0.028641200038586216), (3213, 0.03309936024162826), (3214, 0.0028774661339968787), (3215, 0.014892376660532558), (3216, 0.012827897671620285), (3217, 0.0), (3218, 0.07982361583105875), (3219, 0.01557450041117143), (3220, 0.01259860926831852), (3221, 0.026306009624386284), (3222, 0.0), (3223, 0.0), (3224, 0.003137976729764268), (3225, 0.04246435414140388), (3226, 0.005544194918011849), (3227, 0.033772523057753696), (3228, 0.0036577472138305442), (3229, 0.0), (3230, 0.06156979347909338), (3231, 0.0), (3232, 0.05912886075885813), (3233, 0.003100710963778922), (3234, 0.003294503641538472), (3235, 0.003213069786864965), (3236, 0.0), (3237, 0.12483892241111344), (3238, 0.002593822034910285), (3239, 0.0037999930541434256), (3240, 0.03223045138790174), (3241, 0.0031444123248713786), (3242, 0.012512232455421799), (3243, 0.026033347170141927), (3244, 0.008156172099978544), (3245, 0.021568667252597488), (3246, 0.011424979585735517), (3247, 0.024853537244722952), (3248, 0.003361419463985848), (3249, 0.0037696852841531026), (3250, 0.0), (3251, 0.0), (3252, 0.0025114563140414825), (3253, 0.0), (3254, 0.07754299284082139), (3255, 0.0), (3256, 0.011513316781705633), (3257, 0.0036317561895988083), (3258, 0.0032774362572700632), (3259, 0.018257193382611628), (3260, 0.03600696081238765), (3261, 0.0), (3262, 0.016586665106953412), (3263, 0.0), (3264, 0.013611441244627676), (3265, 0.0), (3266, 0.0), (3267, 0.010364139498553875), (3268, 0.0028766891575532534), (3269, 0.012891393538298808), (3270, 0.0), (3271, 0.003256656584875842), (3272, 0.022947468667119525), (3273, 0.018544438900312633), (3274, 0.0033959786048359695), (3275, 0.035062257857609344), (3276, 0.00454979897102082), (3277, 0.0), (3278, 0.014506048537998239), (3279, 0.01691763405422383), (3280, 0.007828055054786835), (3281, 0.014373846231290935), (3282, 0.03934545066458392), (3283, 0.0030700124516751227), (3284, 0.0027604470479955056), (3285, 0.0022658717152838448), (3286, 0.0), (3287, 0.0), (3288, 0.02424702684427893), (3289, 0.012213479398802025), (3290, 0.0031017605549491377), (3291, 0.017322972995091165), (3292, 0.003934569349249965), (3293, 0.04130668912208883), (3294, 0.05080622436311369), (3295, 0.0), (3296, 0.0034280579292653574), (3297, 0.01213682929114328), (3298, 0.0029114792157962214), (3299, 0.0029949830841542536), (3300, 0.01119953568226461), (3301, 0.002360237411923125), (3302, 0.0036723174070216105), (3303, 0.08867624468598827), (3304, 0.0295495802133023), (3305, 0.0), (3306, 0.018179965065408202), (3307, 0.00350109387367247), (3308, 0.003568262664998724), (3309, 0.0), (3310, 0.0), (3311, 0.0027264414600521544), (3312, 0.009765818126632674), (3313, 0.010524349816494222), (3314, 0.003196603964459361), (3315, 0.08339272862695114), (3316, 0.0023184836249847446), (3317, 0.009355327722203897), (3318, 0.03611268767882793), (3319, 0.0), (3320, 0.0), (3321, 0.008238075061160907), (3322, 0.0038790943454964553), (3323, 0.0), (3324, 0.0), (3325, 0.02850295581794741), (3326, 0.035475584441079004), (3327, 0.01954877697682049), (3328, 0.0019810802951944185), (3329, 0.04137133925850133), (3330, 0.07858908242661788), (3331, 0.017997642183293285), (3332, 0.05069204280362345), (3333, 0.046731025238907764), (3334, 0.008846476356157736), (3335, 0.01302454261148832), (3336, 0.03157999601206386), (3337, 0.0034777242208992886), (3338, 0.021256566371109377), (3339, 0.0), (3340, 0.009790584332073608), (3341, 0.012926875637999245), (3342, 0.028316281019203138), (3343, 0.05194502166829401), (3344, 0.002559702550322241), (3345, 0.0), (3346, 0.01661288522820447), (3347, 0.023806247917003226), (3348, 0.011533374898623395), (3349, 0.003126998741949257), (3350, 0.0), (3351, 0.0031456887899090997), (3352, 0.0028984620367971015), (3353, 0.08046025208653777), (3354, 0.0037947016000146596), (3355, 0.003467541134484487), (3356, 0.029100589997779487), (3357, 0.019830065124476614), (3358, 0.0036591464401763596), (3359, 0.0035076381887168676), (3360, 0.014796110389340617), (3361, 0.0), (3362, 0.021923731387156774), (3363, 0.0037589756869842138), (3364, 0.04642559301410646), (3365, 0.015225703355841806), (3366, 0.0), (3367, 0.022532071997810228), (3368, 0.0), (3369, 0.037544969918284266), (3370, 0.06541713809623165), (3371, 0.0), (3372, 0.0031654450147128423), (3373, 0.012855830907504157), (3374, 0.021137446427202475), (3375, 0.02331102716823175), (3376, 0.002573764448386559), (3377, 0.009838904279566421), (3378, 0.0), (3379, 0.03439843318494045), (3380, 0.002675546246056665), (3381, 0.02954925089422703), (3382, 0.011918576957047487), (3383, 0.0), (3384, 0.009857380861011239), (3385, 0.014502004546333644), (3386, 0.016164553863842676), (3387, 0.02180203129507777), (3388, 0.04634767462883335), (3389, 0.03347763173155835), (3390, 0.058578362987651664), (3391, 0.006719569948886893), (3392, 0.019750616811645968), (3393, 0.0025922290685629497), (3394, 0.0), (3395, 0.0), (3396, 0.0034765278953138423), (3397, 0.032272528929226746), (3398, 0.0), (3399, 0.0028158989794620035), (3400, 0.0), (3401, 0.039432008533968804), (3402, 0.002937109375973998), (3403, 0.04841932453975324), (3404, 0.0), (3405, 0.0), (3406, 0.03734631504966241), (3407, 0.028162531165344947), (3408, 0.0034854979897849967), (3409, 0.03466035039559673), (3410, 0.0024254152678210733), (3411, 0.0), (3412, 0.05431267633092335), (3413, 0.05792015699177402), (3414, 0.0033738865695528935), (3415, 0.010336685050683378), (3416, 0.02203058569877306), (3417, 0.014197691333776716), (3418, 0.05557962766045666), (3419, 0.0034782862002726875), (3420, 0.0), (3421, 0.042852215707763736), (3422, 0.0), (3423, 0.0034487262930437074), (3424, 0.0), (3425, 0.0034923408567981307), (3426, 0.021224348787804142), (3427, 0.062449707872916246), (3428, 0.0), (3429, 0.0234901411552915), (3430, 0.013864892767486236), (3431, 0.002420355285854813), (3432, 0.012844450896359244), (3433, 0.002837988662968187), (3434, 0.0032065257763087465), (3435, 0.0225359665467555), (3436, 0.01297365758540572), (3437, 0.011957452716299156), (3438, 0.0), (3439, 0.0), (3440, 0.011475563159170313), (3441, 0.027459163673638112), (3442, 0.034175944419556833), (3443, 0.03717477887589833), (3444, 0.021774251560702503), (3445, 0.003086753182392817), (3446, 0.0), (3447, 0.002945187801973963), (3448, 0.0), (3449, 0.013929717046470053), (3450, 0.0230307609912555), (3451, 0.014623198038445995), (3452, 0.0028105213258137734), (3453, 0.04189280495596709), (3454, 0.0), (3455, 0.002767467201780982), (3456, 0.04146886007534724), (3457, 0.07958576938570311), (3458, 0.017511786177355118), (3459, 0.0), (3460, 0.05324373070380335), (3461, 0.02398000068994203), (3462, 0.022776029146519636), (3463, 0.027741075275813917), (3464, 0.042189799742505), (3465, 0.007986337169662286), (3466, 0.01583087962509842), (3467, 0.0), (3468, 0.032850700978787575), (3469, 0.0), (3470, 0.0), (3471, 0.00239646630099732), (3472, 0.01251283998605201), (3473, 0.0), (3474, 0.015135820977064646), (3475, 0.0), (3476, 0.0), (3477, 0.038483791952671036), (3478, 0.003014036906914066), (3479, 0.0040251622094742345), (3480, 0.0), (3481, 0.0), (3482, 0.0), (3483, 0.03591281303007819), (3484, 0.026113331939014234), (3485, 0.0), (3486, 0.0), (3487, 0.002897890553731366), (3488, 0.013489498871034098), (3489, 0.0), (3490, 0.0), (3491, 0.003025862613605962), (3492, 0.0030103211616342913), (3493, 0.026700996059997643), (3494, 0.0), (3495, 0.0), (3496, 0.0032352728908380327), (3497, 0.01302123518566467), (3498, 0.012316604622483199), (3499, 0.002960945501697637), (3500, 0.025105476493639964), (3501, 0.013103373109827204), (3502, 0.0), (3503, 0.0028901579147336594), (3504, 0.060047151300020904), (3505, 0.0), (3506, 0.01374510290144377), (3507, 0.00871620691587838), (3508, 0.008274578480517212), (3509, 0.01183679105029117), (3510, 0.0), (3511, 0.003172678321350841), (3512, 0.004621752398476034), (3513, 0.0), (3514, 0.0031465449876938367), (3515, 0.010738207886555426), (3516, 0.03911324725181474), (3517, 0.0031207496927000947), (3518, 0.02341074613887615), (3519, 0.027909322903136313), (3520, 0.0), (3521, 0.0037131421240136704), (3522, 0.0), (3523, 0.004320682303090928), (3524, 0.026775049101816065), (3525, 0.007740552476150004), (3526, 0.0030845291258442217), (3527, 0.0031155820835061803), (3528, 0.0), (3529, 0.0), (3530, 0.02529263146216033), (3531, 0.04232255233346594), (3532, 0.0), (3533, 0.04922203632222008), (3534, 0.0049775311327859275), (3535, 0.009956284235773341), (3536, 0.03475408704643006), (3537, 0.0037384447569757655), (3538, 0.0024032873911342643), (3539, 0.0), (3540, 0.03241931095942729), (3541, 0.047710219331633275), (3542, 0.003083802234807988), (3543, 0.009181342768090114), (3544, 0.0036688466739592364), (3545, 0.0), (3546, 0.002248697370088798), (3547, 0.0), (3548, 0.02285775321219733), (3549, 0.0), (3550, 0.012019192611589732), (3551, 0.0030420102066569775), (3552, 0.004902010638102831), (3553, 0.011320361276430557), (3554, 0.0), (3555, 0.05401274152621808), (3556, 0.08036788787121346), (3557, 0.0029556377369511955), (3558, 0.02800946142397476), (3559, 0.0), (3560, 0.014483981269821953), (3561, 0.01747476282235817), (3562, 0.0), (3563, 0.018976618290302644), (3564, 0.011963841258610637), (3565, 0.002982902239423152), (3566, 0.0), (3567, 0.0), (3568, 0.0), (3569, 0.0025841510251671004), (3570, 0.008355482422522502), (3571, 0.0030820221097996206), (3572, 0.0), (3573, 0.0), (3574, 0.007585590332973521), (3575, 0.002434968866754585), (3576, 0.0), (3577, 0.0037248422311858278), (3578, 0.0), (3579, 0.01017262578623529), (3580, 0.0), (3581, 0.0), (3582, 0.10531643565678345), (3583, 0.0), (3584, 0.0), (3585, 0.0), (3586, 0.022973923911807144), (3587, 0.003395214684695138), (3588, 0.0), (3589, 0.0), (3590, 0.003201653073082703), (3591, 0.0), (3592, 0.0), (3593, 0.00336456416284716), (3594, 0.028533527611461638), (3595, 0.0094497480584509), (3596, 0.03405870858506885), (3597, 0.01721021691612638), (3598, 0.06706370156156732), (3599, 0.0031470182667924984), (3600, 0.02224775696752084), (3601, 0.003214414845966758), (3602, 0.05380037804849992), (3603, 0.0), (3604, 0.025060043200140034), (3605, 0.0), (3606, 0.016983680709006636), (3607, 0.0), (3608, 0.0019631872633261017), (3609, 0.0), (3610, 0.010515796771652208), (3611, 0.02585723869035941), (3612, 0.03872318738298025), (3613, 0.003717606010180552), (3614, 0.0027281156985144825), (3615, 0.002838282058464392), (3616, 0.003748067255151399), (3617, 0.031163134496076543), (3618, 0.035504201403772605), (3619, 0.011352321429786762), (3620, 0.0036701620335212338), (3621, 0.0035466334641178834), (3622, 0.0), (3623, 0.013297922234498384), (3624, 0.0029861005421977227), (3625, 0.0), (3626, 0.034903126814915954), (3627, 0.0027887448586714635), (3628, 0.0), (3629, 0.0025884899708586455), (3630, 0.0), (3631, 0.01042037076108473), (3632, 0.0), (3633, 0.0), (3634, 0.036670540311532926), (3635, 0.004074992983033079), (3636, 0.0031060805816269356), (3637, 0.00998884673930705), (3638, 0.01607187222110812), (3639, 0.003449467917638441), (3640, 0.02375316741509105), (3641, 0.0029108868802715754), (3642, 0.02204096614863601), (3643, 0.0030619435914708793), (3644, 0.013404364119798017), (3645, 0.008609346964410515), (3646, 0.035238879889463025), (3647, 0.021242277871060554), (3648, 0.028272714776621993), (3649, 0.0), (3650, 0.03725668676507574), (3651, 0.02469867717107197), (3652, 0.009290466276274162), (3653, 0.0030724009124777755), (3654, 0.003169850188398497), (3655, 0.010371568693607294), (3656, 0.011880090289876867), (3657, 0.0025434946206554137), (3658, 0.01454711548449477), (3659, 0.009163851097039908), (3660, 0.050623018193214665), (3661, 0.003437487699474455), (3662, 0.024769274343768823), (3663, 0.0), (3664, 0.0), (3665, 0.0030068571008345295), (3666, 0.07898264540981194), (3667, 0.011415850364388346), (3668, 0.052363779969271586), (3669, 0.002554250264268597), (3670, 0.024569620338879133), (3671, 0.0), (3672, 0.004282871709687664), (3673, 0.003001823232658177), (3674, 0.007097482892423286), (3675, 0.013615656381262397), (3676, 0.0), (3677, 0.003308447399106505), (3678, 0.027139350572557976), (3679, 0.0), (3680, 0.003408279074044857), (3681, 0.0), (3682, 0.0), (3683, 0.01901521699371574), (3684, 0.023595704546381147), (3685, 0.008734750013466096), (3686, 0.0), (3687, 0.003764553780335224), (3688, 0.0), (3689, 0.0031175519396350916), (3690, 0.031149989201429057), (3691, 0.0284572846258307), (3692, 0.003245223199487765), (3693, 0.007596684815690853), (3694, 0.026364583993732923), (3695, 0.021594976898732188), (3696, 0.01243156495363278), (3697, 0.015030202435645333), (3698, 0.047610455077764985), (3699, 0.01166649877954237), (3700, 0.017644949648333116), (3701, 0.0030899418693617654), (3702, 0.029552449035904326), (3703, 0.0), (3704, 0.017239946518373087), (3705, 0.01443585335346421), (3706, 0.016256213124938235), (3707, 0.02754125935493594), (3708, 0.009708011688747745), (3709, 0.0), (3710, 0.04879864355909891), (3711, 0.04133847031011316), (3712, 0.02277777449204651), (3713, 0.007010220360609094), (3714, 0.0032944344397596724), (3715, 0.0), (3716, 0.0), (3717, 0.0), (3718, 0.020254353089699265), (3719, 0.0029418619950600552), (3720, 0.0), (3721, 0.0), (3722, 0.0), (3723, 0.0), (3724, 0.0), (3725, 0.05406659203332314), (3726, 0.0), (3727, 0.01278109006950437), (3728, 0.0032230160645473995), (3729, 0.034658798913512846), (3730, 0.0), (3731, 0.0071704507251534955), (3732, 0.008295112449915449), (3733, 0.029969591459165168), (3734, 0.002842754820863943), (3735, 0.0), (3736, 0.0), (3737, 0.0033655364118488126), (3738, 0.0), (3739, 0.03200880491581365), (3740, 0.0), (3741, 0.05068589390345139), (3742, 0.0027530820109971836), (3743, 0.0), (3744, 0.0), (3745, 0.0035455299116908365), (3746, 0.0), (3747, 0.014409683671890838), (3748, 0.0), (3749, 0.014055232466850134), (3750, 0.02420635242752303), (3751, 0.017113433777400044), (3752, 0.0), (3753, 0.0), (3754, 0.003495403604613366), (3755, 0.0026637806701081687), (3756, 0.009343071579480278), (3757, 0.00325127363181021), (3758, 0.03216361757985114), (3759, 0.0), (3760, 0.0), (3761, 0.0), (3762, 0.003926655080567221), (3763, 0.0035521202223313597), (3764, 0.0), (3765, 0.012521886158350608), (3766, 0.013621235375203676), (3767, 0.011841496804780633), (3768, 0.009034936756434055), (3769, 0.01352896564997106), (3770, 0.03172616088334759), (3771, 0.0032645710282200075), (3772, 0.014669664609926783), (3773, 0.012655241453214778), (3774, 0.00953410918197056), (3775, 0.025041646029802973), (3776, 0.0), (3777, 0.012068234116123372), (3778, 0.003130733179883132), (3779, 0.0036395417656470913), (3780, 0.09582658613061948), (3781, 0.0032293949074778607), (3782, 0.0), (3783, 0.0), (3784, 0.002868854563817486), (3785, 0.0), (3786, 0.0), (3787, 0.021614536591448137), (3788, 0.017364567785252586), (3789, 0.0), (3790, 0.009254104472311954), (3791, 0.0), (3792, 0.012119616546641638), (3793, 0.009709709785504346), (3794, 0.007963788679592106), (3795, 0.03593048360257748), (3796, 0.013660285561935888), (3797, 0.025182956406107262), (3798, 0.0), (3799, 0.0028570600111044336), (3800, 0.0), (3801, 0.010233423774932604), (3802, 0.010814847082351428), (3803, 0.0), (3804, 0.0033621824848464694), (3805, 0.0), (3806, 0.0), (3807, 0.039858726457768966), (3808, 0.05490883654627695), (3809, 0.003088082382830336), (3810, 0.03293586764007192), (3811, 0.002841365059018465), (3812, 0.0090622644327735), (3813, 0.013003335156589293), (3814, 0.0), (3815, 0.0), (3816, 0.07835998521754944), (3817, 0.010986974626960412), (3818, 0.0), (3819, 0.04043239069091003), (3820, 0.025432987188939608), (3821, 0.023219198502555743), (3822, 0.0033842253720771853), (3823, 0.0), (3824, 0.026080145160769022), (3825, 0.0), (3826, 0.025509034357402788), (3827, 0.002955185963174254), (3828, 0.0144455315573793), (3829, 0.015483826720362482), (3830, 0.007844158257098503), (3831, 0.0), (3832, 0.0036795000784288195), (3833, 0.0), (3834, 0.0), (3835, 0.058666408318108786), (3836, 0.009632489176480548), (3837, 0.0), (3838, 0.0), (3839, 0.02553720497128041), (3840, 0.013985996583725931), (3841, 0.0027029340056294363), (3842, 0.007652878304245506), (3843, 0.0), (3844, 0.0), (3845, 0.003143780058723002), (3846, 0.0), (3847, 0.0), (3848, 0.0038238669937110128), (3849, 0.04295620698052011), (3850, 0.019852376488481788), (3851, 0.0), (3852, 0.08618135282980842), (3853, 0.012217615623903132), (3854, 0.010562573875557712), (3855, 0.031047189752090795), (3856, 0.03655601242444201), (3857, 0.0033476686233799976), (3858, 0.0), (3859, 0.0), (3860, 0.007623377153782296), (3861, 0.0), (3862, 0.09362817709991991), (3863, 0.002708402714727715), (3864, 0.08282774077267677), (3865, 0.008808182477561688), (3866, 0.0034742475852442413), (3867, 0.0034239521811213576), (3868, 0.019922332285996144), (3869, 0.0), (3870, 0.0259077948698971), (3871, 0.02586534543391117), (3872, 0.0), (3873, 0.0032228485158339575), (3874, 0.003685667281978834), (3875, 0.0024498176481931467), (3876, 0.023463083684789304), (3877, 0.060070499135126416), (3878, 0.01694245954322286), (3879, 0.0), (3880, 0.0026295658993581296), (3881, 0.0), (3882, 0.003172141283075563), (3883, 0.04776459729810312), (3884, 0.003506769322844343), (3885, 0.029175792002549793), (3886, 0.0), (3887, 0.0), (3888, 0.011301595538436453), (3889, 0.024680495136215848), (3890, 0.0029159518230031265), (3891, 0.0), (3892, 0.0039181332602517835), (3893, 0.003256054335932923), (3894, 0.0026433694020592193), (3895, 0.0342750087546481), (3896, 0.0), (3897, 0.0), (3898, 0.025679280472827474), (3899, 0.009155721268850418), (3900, 0.015340529313603763), (3901, 0.019239644188194502), (3902, 0.0031360218359691413), (3903, 0.0034523223339143557), (3904, 0.003223822861714676), (3905, 0.008893919821698253), (3906, 0.05436530756330215), (3907, 0.0), (3908, 0.0), (3909, 0.023121130660983008), (3910, 0.002646125242761496), (3911, 0.015403400347880222), (3912, 0.034302878460596785), (3913, 0.015377878085704275), (3914, 0.0), (3915, 0.12399928080223716), (3916, 0.0274543334392472), (3917, 0.002899345368751403), (3918, 0.0), (3919, 0.003150750840914394), (3920, 0.0031219421950816778), (3921, 0.0), (3922, 0.0037207409768680697), (3923, 0.0), (3924, 0.2272377990873704), (3925, 0.004486303201496093), (3926, 0.008917880627622027), (3927, 0.022523626349227298), (3928, 0.0025176587670578915), (3929, 0.0), (3930, 0.0), (3931, 0.0), (3932, 0.005559867884806003), (3933, 0.0), (3934, 0.08466074766400833), (3935, 0.026828115968219983), (3936, 0.0), (3937, 0.0), (3938, 0.021406520042252908), (3939, 0.004014342128092012), (3940, 0.010668024582377388), (3941, 0.01070370978749462), (3942, 0.02266020026272825), (3943, 0.0), (3944, 0.024570379674831343), (3945, 0.008776546766682353), (3946, 0.019561154611351647), (3947, 0.024669078480717282), (3948, 0.0), (3949, 0.011557971044678138), (3950, 0.035929866626806625), (3951, 0.0035168526592264347), (3952, 0.0034564419905938892), (3953, 0.0027423421305038183), (3954, 0.002844579735693299), (3955, 0.0), (3956, 0.07877287126556096), (3957, 0.022304440007171064), (3958, 0.0), (3959, 0.020538860865949873), (3960, 0.003416973336788118), (3961, 0.048283066174887895), (3962, 0.003385063993125865), (3963, 0.0), (3964, 0.0), (3965, 0.0), (3966, 0.05390968712730762), (3967, 0.0033318866716127494), (3968, 0.0), (3969, 0.0), (3970, 0.0), (3971, 0.0), (3972, 0.0), (3973, 0.05276307782848408), (3974, 0.010726542724967309), (3975, 0.016865506768006744), (3976, 0.0), (3977, 0.0), (3978, 0.01891446142878953), (3979, 0.01972271246874695), (3980, 0.05988741301925247), (3981, 0.0), (3982, 0.0), (3983, 0.008928265510010268), (3984, 0.012012334237763761), (3985, 0.008511468938947204), (3986, 0.025009418943376396), (3987, 0.0032101543484983307), (3988, 0.0), (3989, 0.0), (3990, 0.004160229098374081), (3991, 0.03048171135453441), (3992, 0.04646031258911426), (3993, 0.01599475204869581), (3994, 0.0), (3995, 0.0), (3996, 0.0), (3997, 0.048075775894383076), (3998, 0.0), (3999, 0.014064231748517161), (4000, 0.01132954051325987), (4001, 0.0), (4002, 0.003500307540013853), (4003, 0.0), (4004, 0.02541961146246232), (4005, 0.0032205824290317186), (4006, 0.0), (4007, 0.048001189346964054), (4008, 0.0), (4009, 0.0), (4010, 0.0), (4011, 0.011192436057443661), (4012, 0.0), (4013, 0.02946143638530761), (4014, 0.003049594217910655), (4015, 0.031076160144437003), (4016, 0.0653852530588937), (4017, 0.0040900764921809486), (4018, 0.0), (4019, 0.003907161444249209), (4020, 0.03201534080589798), (4021, 0.0), (4022, 0.030399664633893854), (4023, 0.019671217639790763), (4024, 0.003254845711591778), (4025, 0.013373473507085886), (4026, 0.0), (4027, 0.0), (4028, 0.0), (4029, 0.009679141838511547), (4030, 0.003527814620012343), (4031, 0.0), (4032, 0.0035169480410600046), (4033, 0.021443001061479276), (4034, 0.0), (4035, 0.007747103255057904), (4036, 0.002944978524859617), (4037, 0.0), (4038, 0.003222251376487947), (4039, 0.0), (4040, 0.02902951089480794), (4041, 0.0), (4042, 0.014237639056556542), (4043, 0.03949742541408233), (4044, 0.0), (4045, 0.027695370765560404), (4046, 0.018260756079317333), (4047, 0.0), (4048, 0.012504231132297176), (4049, 0.0030589146740974548), (4050, 0.0), (4051, 0.003362597886161353), (4052, 0.0031854685363969415), (4053, 0.054003203182335716), (4054, 0.05040782072726426), (4055, 0.02676970056947278), (4056, 0.015867059573795438), (4057, 0.026380702275454023), (4058, 0.0), (4059, 0.011144945025242008), (4060, 0.02980412300930338), (4061, 0.0), (4062, 0.003650612870953935), (4063, 0.018220321871087367), (4064, 0.02983269903694919), (4065, 0.0), (4066, 0.0026468945394088985), (4067, 0.01450507160698738), (4068, 0.011604037279284024), (4069, 0.0029112299814232634), (4070, 0.008905212619429873), (4071, 0.0186804795134588), (4072, 0.0), (4073, 0.06001905562586787), (4074, 0.0027124152533664373), (4075, 0.0035168822920332676), (4076, 0.0), (4077, 0.0), (4078, 0.02737725738334074), (4079, 0.0031244758803371762), (4080, 0.0027024631551639377), (4081, 0.016749358916849033), (4082, 0.0042578462484782744), (4083, 0.03407017444163102), (4084, 0.0), (4085, 0.11290522720262082), (4086, 0.009634650209128777), (4087, 0.03881586357651802), (4088, 0.017233182824027447), (4089, 0.06401536281958264), (4090, 0.0), (4091, 0.0), (4092, 0.014587996854603333), (4093, 0.008600836475310483), (4094, 0.009010967530177862), (4095, 0.00969346135335902), (4096, 0.0072842961648709), (4097, 0.00975033348382012), (4098, 0.06653883304286963), (4099, 0.02477513719920385), (4100, 0.0), (4101, 0.01741216835994673), (4102, 0.003826898343239868), (4103, 0.0), (4104, 0.002671602362298035), (4105, 0.009437892025752903), (4106, 0.0), (4107, 0.00372169057329919), (4108, 0.0), (4109, 0.024864694510926873), (4110, 0.02001051709058585), (4111, 0.003226577209586682), (4112, 0.07286676566672834), (4113, 0.044668109583045304), (4114, 0.007727299639570285), (4115, 0.013326663078537433), (4116, 0.03270527755397226), (4117, 0.0034405802105009855), (4118, 0.009067088727264817), (4119, 0.010977469324772261), (4120, 0.0), (4121, 0.06679173780055699), (4122, 0.01044223937410963), (4123, 0.012060284121106133), (4124, 0.01080786460291192), (4125, 0.020505647446666844), (4126, 0.0035072491850493444), (4127, 0.0), (4128, 0.00887106063202979), (4129, 0.0029173696514311906), (4130, 0.014089537905673081), (4131, 0.0), (4132, 0.0032442656587358537), (4133, 0.0032864643901261504), (4134, 0.0), (4135, 0.030330546251360717), (4136, 0.003139816763187214), (4137, 0.012026994111908452), (4138, 0.03623842684593842), (4139, 0.028879251927901993), (4140, 0.014084678992133504), (4141, 0.029217453751055805), (4142, 0.003853448147954719), (4143, 0.011587427213161847), (4144, 0.011471387244166232), (4145, 0.00354050485122292), (4146, 0.0), (4147, 0.03106260397837026), (4148, 0.05760440997622769), (4149, 0.0), (4150, 0.0), (4151, 0.005178517186690809), (4152, 0.03501409182730323), (4153, 0.017991534298745025), (4154, 0.014415575318265764), (4155, 0.032877445313459645), (4156, 0.002642032534546944), (4157, 0.0), (4158, 0.0), (4159, 0.026847530443917154), (4160, 0.003379296601363374), (4161, 0.0032425001806724936), (4162, 0.0), (4163, 0.0034944153010082126), (4164, 0.020138239903590642), (4165, 0.020335268190321887), (4166, 0.0), (4167, 0.0), (4168, 0.013233436106204938), (4169, 0.05634231077398916), (4170, 0.0), (4171, 0.022375896694970913), (4172, 0.00398459613263073), (4173, 0.009526135176791786), (4174, 0.01096918867325368), (4175, 0.0032093830802835534), (4176, 0.002771440987685639), (4177, 0.0), (4178, 0.011993447179379418), (4179, 0.0), (4180, 0.03221085395605205), (4181, 0.0), (4182, 0.0022866941761656196), (4183, 0.025735324208517874), (4184, 0.00844239878702114), (4185, 0.0), (4186, 0.01719141469394475), (4187, 0.05357651319805388), (4188, 0.0), (4189, 0.024918940035449783), (4190, 0.0), (4191, 0.0), (4192, 0.02359051093802124), (4193, 0.0), (4194, 0.0), (4195, 0.025334504819062218), (4196, 0.0), (4197, 0.01214933996182119), (4198, 0.0), (4199, 0.011045481059872134), (4200, 0.002491966533816003), (4201, 0.0), (4202, 0.004214474527786553), (4203, 0.01323990485054175), (4204, 0.030171949388229244), (4205, 0.0026921313341526968), (4206, 0.02694246603490064), (4207, 0.03884805855957186), (4208, 0.0), (4209, 0.003693334602215811), (4210, 0.022818504348821704), (4211, 0.0), (4212, 0.0), (4213, 0.002866015438867613), (4214, 0.05291689853317243), (4215, 0.0), (4216, 0.039119847899924606), (4217, 0.0), (4218, 0.02205431346481039), (4219, 0.016634067104891136), (4220, 0.026730194679019815), (4221, 0.004029755608544893), (4222, 0.004042246309756306), (4223, 0.0), (4224, 0.009659285420242624), (4225, 0.04216444005802975), (4226, 0.0), (4227, 0.009281871794644658), (4228, 0.0029776997322471625), (4229, 0.0), (4230, 0.0038618961563331206), (4231, 0.01218435096489421), (4232, 0.03573210607008106), (4233, 0.008905490722261964), (4234, 0.0), (4235, 0.032344151147961915), (4236, 0.0), (4237, 0.0), (4238, 0.0), (4239, 0.0), (4240, 0.009719651635285664), (4241, 0.07356006201583551), (4242, 0.02463559402301551), (4243, 0.003431236952623249), (4244, 0.013085402949402152), (4245, 0.0032383075834073374), (4246, 0.018775839257097766), (4247, 0.010474663523169163), (4248, 0.046751187272809414), (4249, 0.0031098501101414233), (4250, 0.0), (4251, 0.0), (4252, 0.00856641684772539), (4253, 0.0), (4254, 0.002830033409257967), (4255, 0.003055388684225351), (4256, 0.03149549895661509), (4257, 0.0028393024356085914), (4258, 0.0), (4259, 0.003347891937909399), (4260, 0.0), (4261, 0.00623813353555361), (4262, 0.02161641712162906), (4263, 0.01419802627743062), (4264, 0.012750917982642036), (4265, 0.01935106772215066), (4266, 0.026064269834888357), (4267, 0.0034609214722697737), (4268, 0.042764411079576486), (4269, 0.003232951436425053), (4270, 0.025455499884665927), (4271, 0.027027834494169366), (4272, 0.0), (4273, 0.0030843000868299355), (4274, 0.008164088755356125), (4275, 0.013415994234202757), (4276, 0.0), (4277, 0.11061872260517826), (4278, 0.009792531361707279), (4279, 0.0), (4280, 0.03294169530638983), (4281, 0.0), (4282, 0.002774437836479301), (4283, 0.0030723335323584572), (4284, 0.015653122369539446), (4285, 0.0), (4286, 0.03347397272263522), (4287, 0.012312370398453468), (4288, 0.06740352957422588), (4289, 0.04324189829576156), (4290, 0.0), (4291, 0.0), (4292, 0.012191080593725945), (4293, 0.012745689736711724), (4294, 0.02754299424767035), (4295, 0.03161072748355406), (4296, 0.002625348285411042), (4297, 0.0), (4298, 0.09494658825164634), (4299, 0.034847217173110116), (4300, 0.0), (4301, 0.0022361742865577034), (4302, 0.0), (4303, 0.0), (4304, 0.002705116045386751), (4305, 0.0), (4306, 0.003726310339741183), (4307, 0.0), (4308, 0.003305310809895338), (4309, 0.0029417824887577864), (4310, 0.008912594032757317), (4311, 0.0024487365958665353), (4312, 0.0), (4313, 0.0), (4314, 0.02631043804900342), (4315, 0.0), (4316, 0.0), (4317, 0.0), (4318, 0.0031848898042906477), (4319, 0.0), (4320, 0.016614862559107935), (4321, 0.020749177907550438), (4322, 0.009043233673601717), (4323, 0.0), (4324, 0.021886879412533436), (4325, 0.007798784169899434), (4326, 0.00276332639908522), (4327, 0.0), (4328, 0.01208769272473088), (4329, 0.00914208308042469), (4330, 0.012897965770259607), (4331, 0.0), (4332, 0.02750220419382681), (4333, 0.013410272435994752), (4334, 0.03626304655402168), (4335, 0.009577063064461275), (4336, 0.07501813130046933), (4337, 0.0151486170698054), (4338, 0.0), (4339, 0.0), (4340, 0.003117275734048096), (4341, 0.0), (4342, 0.0), (4343, 0.023935300737275258), (4344, 0.0025764379437479474), (4345, 0.0028589412423876124), (4346, 0.0), (4347, 0.0), (4348, 0.002771770491829228), (4349, 0.002963730016664732), (4350, 0.047426733382795336), (4351, 0.0), (4352, 0.0), (4353, 0.007732112597681437), (4354, 0.003152996716568895), (4355, 0.0032109572763492746), (4356, 0.011083476726157792), (4357, 0.06189638986221515), (4358, 0.016389665596762273), (4359, 0.0027517191980306337), (4360, 0.0), (4361, 0.0031357853742751216), (4362, 0.0029511994496558623), (4363, 0.01670872141284288), (4364, 0.03225020778155485), (4365, 0.0312121292211533), (4366, 0.027832939456396234), (4367, 0.0), (4368, 0.0033921385827924157), (4369, 0.003467578291022282), (4370, 0.0), (4371, 0.0032321049231464113), (4372, 0.0), (4373, 0.03394551372052507), (4374, 0.04746684277584567), (4375, 0.10744134100834729), (4376, 0.010126126588153), (4377, 0.01327890561726061), (4378, 0.0), (4379, 0.04448767113205169), (4380, 0.030281419438827284), (4381, 0.034014334244066274), (4382, 0.0029144605955486974), (4383, 0.0), (4384, 0.0), (4385, 0.0), (4386, 0.0025994706756362796), (4387, 0.011137412208962347), (4388, 0.009156092283528136), (4389, 0.0), (4390, 0.008737294056461472), (4391, 0.0030459721667898164), (4392, 0.0), (4393, 0.0), (4394, 0.027582042439282233), (4395, 0.0029321823619713203), (4396, 0.0033721203613589676), (4397, 0.0033543947933084056), (4398, 0.0034827806923663804), (4399, 0.019677514566791603), (4400, 0.003842210524909562), (4401, 0.03105528138256715), (4402, 0.040675625218183915), (4403, 0.031050407735629157), (4404, 0.0), (4405, 0.0), (4406, 0.0), (4407, 0.01558853147147957), (4408, 0.0), (4409, 0.0029961998644349955), (4410, 0.0), (4411, 0.0025821243207615353), (4412, 0.0035306842944300646), (4413, 0.0), (4414, 0.007485364204760731), (4415, 0.0), (4416, 0.0035478081496776916), (4417, 0.0), (4418, 0.051187712426484296), (4419, 0.0031421297242373333), (4420, 0.016821948005678256), (4421, 0.04636472821603483), (4422, 0.0031146910030004295), (4423, 0.029523215040263263), (4424, 0.0), (4425, 0.0), (4426, 0.0), (4427, 0.031625195478826806), (4428, 0.01224045914509146), (4429, 0.0026169589622309043), (4430, 0.0031556653349654245), (4431, 0.03752216627941608), (4432, 0.019918731437878052), (4433, 0.0), (4434, 0.0), (4435, 0.011476608689307385), (4436, 0.009066571306368919), (4437, 0.008008884998262729), (4438, 0.00853603761604795), (4439, 0.0), (4440, 0.040831413140172634), (4441, 0.009382243543841744), (4442, 0.011078984701300294), (4443, 0.0036922531484979), (4444, 0.003948213264621577), (4445, 0.046391258537568626), (4446, 0.014140974559322377), (4447, 0.0), (4448, 0.003147658286656853), (4449, 0.0), (4450, 0.007453384493427887), (4451, 0.0), (4452, 0.0), (4453, 0.0), (4454, 0.05697922089635232), (4455, 0.0), (4456, 0.0), (4457, 0.0), (4458, 0.0035946986474176186), (4459, 0.02373591716125187), (4460, 0.025557349746188958), (4461, 0.0029015711925351596), (4462, 0.0), (4463, 0.02191472151717023), (4464, 0.029010479740493922), (4465, 0.02272689869039096), (4466, 0.014206465593871795), (4467, 0.0), (4468, 0.007773872452739486), (4469, 0.014271202418203075), (4470, 0.022259582425486594), (4471, 0.0031961781287913778), (4472, 0.011520179304601572), (4473, 0.010379454634367392), (4474, 0.012026569852390808), (4475, 0.010271321961723678), (4476, 0.0025791107214482136), (4477, 0.013344299489983792), (4478, 0.0), (4479, 0.02794272023316548), (4480, 0.0), (4481, 0.00803347661066971), (4482, 0.0), (4483, 0.0), (4484, 0.017187055047876383), (4485, 0.0), (4486, 0.01895251114260509), (4487, 0.034813723822418347), (4488, 0.0), (4489, 0.01691992743241671), (4490, 0.04081272417371242), (4491, 0.0), (4492, 0.0540518295082834), (4493, 0.0), (4494, 0.018022529246221716), (4495, 0.003228363270336436), (4496, 0.0620130978999513), (4497, 0.021798782156832487), (4498, 0.033542630857203375), (4499, 0.0), (4500, 0.0), (4501, 0.00304510711236164), (4502, 0.05167697695188116), (4503, 0.03354864165780089), (4504, 0.0160766662220272), (4505, 0.003190342106529518), (4506, 0.0), (4507, 0.003461951481297422), (4508, 0.04193040146794202), (4509, 0.0), (4510, 0.008924345639674825), (4511, 0.0029977877316012583), (4512, 0.009421088122138635), (4513, 0.0), (4514, 0.0), (4515, 0.009907602676937828), (4516, 0.003456188272726311), (4517, 0.0030322612333602643), (4518, 0.0), (4519, 0.0), (4520, 0.0029836957480299884), (4521, 0.003762068599896007), (4522, 0.0032846140810149685), (4523, 0.039640713395057176), (4524, 0.0), (4525, 0.0), (4526, 0.0), (4527, 0.0), (4528, 0.0032732387019633793), (4529, 0.03712202793890507), (4530, 0.002947700287841731), (4531, 0.023604175047568062), (4532, 0.0), (4533, 0.0030846945200826057), (4534, 0.0), (4535, 0.0033735125163049046), (4536, 0.015241637033710089), (4537, 0.0), (4538, 0.0), (4539, 0.0), (4540, 0.0032385736841552357), (4541, 0.0), (4542, 0.008802769308324826), (4543, 0.008098689328047588), (4544, 0.003759951884861428), (4545, 0.01394983470389091), (4546, 0.0038959473035957894), (4547, 0.0), (4548, 0.012789133613455617), (4549, 0.010956614342178926), (4550, 0.0029219202623530192), (4551, 0.026960541922948285), (4552, 0.0), (4553, 0.007352025966484995), (4554, 0.07597876211680117), (4555, 0.004542580196921162), (4556, 0.0), (4557, 0.022644303399617052), (4558, 0.0), (4559, 0.0), (4560, 0.0), (4561, 0.0), (4562, 0.0), (4563, 0.003090669088163662), (4564, 0.021661182139490396), (4565, 0.010917470596461691), (4566, 0.0031772860856193732), (4567, 0.002880630053366968), (4568, 0.0), (4569, 0.008357962487422056), (4570, 0.0), (4571, 0.004789362299453204), (4572, 0.0036990978614071498), (4573, 0.002921848829059356), (4574, 0.023335677318036863), (4575, 0.0031890527195029884), (4576, 0.0833255080156761), (4577, 0.027196372851376625), (4578, 0.0), (4579, 0.003248747864257391), (4580, 0.0), (4581, 0.008486403237629307), (4582, 0.028739508109438924), (4583, 0.019947682726241995), (4584, 0.04582043181323982), (4585, 0.021050519851451857), (4586, 0.0), (4587, 0.016971580201873702), (4588, 0.0), (4589, 0.015088120086624746), (4590, 0.037194413489230964), (4591, 0.0028032114204495956), (4592, 0.02680905019020307), (4593, 0.017739529999005205), (4594, 0.00355012746574154), (4595, 0.0), (4596, 0.0), (4597, 0.026065566455137107), (4598, 0.00934970817949812), (4599, 0.0226586660105889), (4600, 0.05334593314982968), (4601, 0.0032989898702343807), (4602, 0.027989427916771586), (4603, 0.002811485093492306), (4604, 0.0030303101599207243), (4605, 0.0033479313127566385), (4606, 0.0038157541712953162), (4607, 0.004376709570196301), (4608, 0.011439330631798063), (4609, 0.0), (4610, 0.009586211204540382), (4611, 0.0040174453053193155), (4612, 0.016047799755747136), (4613, 0.0), (4614, 0.01523820378804105), (4615, 0.012604421829518304), (4616, 0.025575590782596053), (4617, 0.01562186489892392), (4618, 0.0), (4619, 0.012602417028913647), (4620, 0.023308770693960694), (4621, 0.050255236033111994), (4622, 0.0), (4623, 0.040480989745810304), (4624, 0.013517466989421068), (4625, 0.1581525885790588), (4626, 0.002436818396819159), (4627, 0.030232759070216487), (4628, 0.014081827652389385), (4629, 0.0031442078278946534), (4630, 0.0), (4631, 0.0), (4632, 0.003553371935318019), (4633, 0.029980706664821024), (4634, 0.0028124226982737944), (4635, 0.0), (4636, 0.002541729143751121), (4637, 0.0289071891954639), (4638, 0.002749402671598229), (4639, 0.022856040818015372), (4640, 0.0030196040053676585), (4641, 0.0029443449053658654), (4642, 0.015269939161404249), (4643, 0.0031003266238470474), (4644, 0.0), (4645, 0.0), (4646, 0.0), (4647, 0.0), (4648, 0.0), (4649, 0.0027679657009350477), (4650, 0.0034734833464245755), (4651, 0.0), (4652, 0.002303782653372598), (4653, 0.0), (4654, 0.0), (4655, 0.0), (4656, 0.00906666117771978), (4657, 0.013864063450587034), (4658, 0.033592624843053275), (4659, 0.020266179172449775), (4660, 0.003716666164055058), (4661, 0.03123162022591639), (4662, 0.020889693557387196), (4663, 0.021843810228534433), (4664, 0.01194260653843054), (4665, 0.0), (4666, 0.0), (4667, 0.017372104805820472), (4668, 0.015719322722370227), (4669, 0.039311909217263734), (4670, 0.0028871475757541723), (4671, 0.0), (4672, 0.0), (4673, 0.04937491535781615), (4674, 0.01827783988871543), (4675, 0.009839613067817747), (4676, 0.0), (4677, 0.023011835575196406), (4678, 0.0), (4679, 0.03394477148736891), (4680, 0.0032225842914066867), (4681, 0.0), (4682, 0.0), (4683, 0.018639033099149174), (4684, 0.05065075850122698), (4685, 0.0029591037623437557), (4686, 0.0030324051902053226), (4687, 0.0029471094966253813), (4688, 0.0), (4689, 0.0), (4690, 0.0), (4691, 0.01752633448818142), (4692, 0.0037623296568443905), (4693, 0.002927742862186658), (4694, 0.003541397939619521), (4695, 0.0), (4696, 0.003948626653867476), (4697, 0.09740328440334312), (4698, 0.0), (4699, 0.028045523714877913), (4700, 0.0), (4701, 0.04254422663610497), (4702, 0.0), (4703, 0.05592184475208219), (4704, 0.004117534284718411), (4705, 0.004309281366379496), (4706, 0.003348555804701703), (4707, 0.009417349190078585), (4708, 0.008835567519525807), (4709, 0.011428712391645153), (4710, 0.016294242806340214), (4711, 0.0), (4712, 0.00271515411093939), (4713, 0.003489085197605894), (4714, 0.0), (4715, 0.0030218056657906433), (4716, 0.0), (4717, 0.0035589161567282173), (4718, 0.003380331342979397), (4719, 0.0058375071847780536), (4720, 0.02730520346353402), (4721, 0.04067626798270546), (4722, 0.021498041269293083), (4723, 0.003685156060606068), (4724, 0.014080114198625912), (4725, 0.010868885998055989), (4726, 0.0), (4727, 0.00903249923695953), (4728, 0.0), (4729, 0.002895135080141554), (4730, 0.0), (4731, 0.0034125169940604095), (4732, 0.04581740030731339), (4733, 0.002514868499089172), (4734, 0.0032572366785427725), (4735, 0.013516154043687882), (4736, 0.0), (4737, 0.027975118036470493), (4738, 0.019734166709450995), (4739, 0.041448337165992284), (4740, 0.0), (4741, 0.0), (4742, 0.0), (4743, 0.03437816855802179), (4744, 0.017502431897303872), (4745, 0.0), (4746, 0.0), (4747, 0.03105572504168773), (4748, 0.02456507825759389), (4749, 0.004044935486973531), (4750, 0.0), (4751, 0.0), (4752, 0.025384108733924167), (4753, 0.04029315887112328), (4754, 0.026480064960494144), (4755, 0.0), (4756, 0.021611601408472427), (4757, 0.0678316642662777), (4758, 0.0), (4759, 0.0)]\n"
          ]
        }
      ]
    },
    {
      "cell_type": "code",
      "source": [
        "len(Recommendation_Score)"
      ],
      "metadata": {
        "colab": {
          "base_uri": "https://localhost:8080/"
        },
        "id": "1DSmrth34Df_",
        "outputId": "f0b91ab2-78ad-4706-a017-9591ee9b4d42"
      },
      "execution_count": 37,
      "outputs": [
        {
          "output_type": "execute_result",
          "data": {
            "text/plain": [
              "4760"
            ]
          },
          "metadata": {},
          "execution_count": 37
        }
      ]
    },
    {
      "cell_type": "code",
      "source": [
        "#sorting the movies based on their similarity score\n",
        "Sorted_Similar_Movies = sorted(Recommendation_Score, key = lambda x:x[1], reverse = True)\n",
        "print(Sorted_Similar_Movies)"
      ],
      "metadata": {
        "colab": {
          "base_uri": "https://localhost:8080/"
        },
        "id": "xJiptIj74MMA",
        "outputId": "a0892c93-5114-4900-a23b-2cac32691e9f"
      },
      "execution_count": 38,
      "outputs": [
        {
          "output_type": "stream",
          "name": "stdout",
          "text": [
            "[(806, 1.0), (3924, 0.2272377990873704), (21, 0.20303262557657867), (2054, 0.18917097180952563), (1064, 0.1751605959602271), (2699, 0.16598256663928035), (637, 0.16530886696593178), (2213, 0.15971142760971335), (4625, 0.1581525885790588), (1360, 0.1575588973234613), (919, 0.15117215437346304), (1159, 0.14721757429879567), (1680, 0.13872027125556644), (1776, 0.13231369581180405), (155, 0.13203555767182046), (542, 0.13153336983247943), (1772, 0.12908640153356674), (204, 0.1280001174840063), (309, 0.1277965534298204), (714, 0.1264464074666598), (13, 0.1250595124440019), (3237, 0.12483892241111344), (3915, 0.12399928080223716), (706, 0.1200867326764081), (2111, 0.118183998343805), (24, 0.11697283070874118), (4085, 0.11290522720262082), (2529, 0.11273994740444554), (4277, 0.11061872260517826), (4375, 0.10744134100834729), (1325, 0.10731808537982736), (1714, 0.10691664973522398), (815, 0.10688836306555893), (3582, 0.10531643565678345), (1509, 0.10448113178152552), (2534, 0.10311957928066603), (2359, 0.1019071338319547), (3057, 0.10146745586998764), (2568, 0.1013258944602707), (1003, 0.1012242972821285), (1026, 0.10116033169845119), (3099, 0.10049491806202192), (4697, 0.09740328440334312), (2695, 0.09689885311436233), (3780, 0.09582658613061948), (1975, 0.09529105415671564), (1475, 0.09518753692016307), (434, 0.0951101016639638), (4298, 0.09494658825164634), (660, 0.09464382300795149), (3862, 0.09362817709991991), (2151, 0.09333636627593225), (2959, 0.09220876800175754), (2919, 0.0921422788290569), (2877, 0.09170030727700852), (3073, 0.09066416177276676), (1162, 0.09061686465468932), (902, 0.08985074599896574), (757, 0.08950839488824737), (3303, 0.08867624468598827), (695, 0.08678415153136229), (2205, 0.08656967421820491), (3852, 0.08618135282980842), (3027, 0.08583323041424704), (147, 0.0854261928559276), (1901, 0.08467582440632082), (3934, 0.08466074766400833), (350, 0.08455128566091957), (1832, 0.08453505612624451), (3016, 0.08429614850704278), (85, 0.08410590516258865), (201, 0.0837655047624895), (2377, 0.08362872053786066), (3315, 0.08339272862695114), (4576, 0.0833255080156761), (355, 0.08285363325001896), (3864, 0.08282774077267677), (683, 0.0827742623882678), (2447, 0.08242433772825797), (2706, 0.08204167274926016), (2340, 0.08192372172998817), (1260, 0.08183142519977865), (2547, 0.08131676575797149), (1406, 0.08117722375268409), (1629, 0.08082510598057377), (3353, 0.08046025208653777), (3556, 0.08036788787121346), (2757, 0.08020677140406167), (1518, 0.08020358257112746), (631, 0.07985473547238982), (3218, 0.07982361583105875), (351, 0.07966118452969882), (1333, 0.07960760041891163), (3457, 0.07958576938570311), (1968, 0.07956157018240845), (711, 0.07944401253841987), (3666, 0.07898264540981194), (358, 0.07877597371906495), (3956, 0.07877287126556096), (3330, 0.07858908242661788), (1633, 0.07836741937889052), (3816, 0.07835998521754944), (2569, 0.07812444039390758), (121, 0.07807664619762908), (3254, 0.07754299284082139), (145, 0.07641964469512559), (3108, 0.07637539385282967), (1076, 0.07633072161594305), (4554, 0.07597876211680117), (580, 0.07557338673064537), (1878, 0.07521495432414922), (4336, 0.07501813130046933), (1482, 0.07425630878117497), (2367, 0.07393022838452802), (1920, 0.07380305454544678), (3161, 0.07364486872121326), (4241, 0.07356006201583551), (218, 0.07351527186715767), (447, 0.0734489304653586), (2800, 0.07311926943858477), (563, 0.07302279398977711), (4112, 0.07286676566672834), (2040, 0.07271964182170475), (3114, 0.07213053425501686), (2693, 0.07197527480650585), (805, 0.0718192500706236), (696, 0.07180798341617445), (676, 0.07153183386967778), (1326, 0.0714044033707505), (1956, 0.07140002684214945), (2316, 0.07128852966015829), (1763, 0.07108878279564611), (1970, 0.0707500059241084), (1088, 0.0703846995525248), (161, 0.07032240332813858), (429, 0.07020115877988667), (640, 0.06994842381296115), (581, 0.06967762792937279), (454, 0.06932376494571557), (621, 0.06928894701094651), (1543, 0.0690589204905708), (560, 0.06880907661148493), (1925, 0.06876230241248053), (1254, 0.06864056038704328), (971, 0.0682691555373497), (1107, 0.06825168286684649), (2331, 0.06821440450838638), (2981, 0.0678914409188684), (3143, 0.06784877017391613), (4757, 0.0678316642662777), (4288, 0.06740352957422588), (3598, 0.06706370156156732), (1682, 0.06694683233748265), (4121, 0.06679173780055699), (4098, 0.06653883304286963), (2771, 0.06650466625459577), (142, 0.06618095587248317), (1387, 0.06573875240982693), (1874, 0.06567182447974909), (3370, 0.06541713809623165), (1936, 0.06538607795960573), (4016, 0.0653852530588937), (2190, 0.06457328267762708), (1624, 0.06433794422134359), (822, 0.06422648185539487), (2603, 0.06404959537647223), (4089, 0.06401536281958264), (1799, 0.06326913093514969), (2053, 0.06322940916293672), (639, 0.06303699350977815), (1824, 0.06285943687284679), (1184, 0.06256568923849012), (3427, 0.062449707872916246), (420, 0.06233457456225433), (186, 0.062200370281042555), (1547, 0.06211392356340318), (4496, 0.0620130978999513), (4357, 0.06189638986221515), (3230, 0.06156979347909338), (1992, 0.06119614115348085), (2843, 0.061169445720379224), (1140, 0.06095487932490168), (1902, 0.06077393129461342), (2604, 0.06064863755452188), (373, 0.06035740951312013), (1985, 0.060137905880609896), (1677, 0.06011694707908894), (1913, 0.060099933502624096), (3877, 0.060070499135126416), (3504, 0.060047151300020904), (4073, 0.06001905562586787), (3980, 0.05988741301925247), (1416, 0.05983803302031018), (774, 0.059748551340276346), (2266, 0.059697847010214654), (2644, 0.05966071548003613), (846, 0.05964406486792037), (2397, 0.05955026667386239), (196, 0.05950443857410111), (2461, 0.05939936965577275), (3147, 0.05933158210596507), (622, 0.0593046068334717), (3148, 0.05928175386490433), (3232, 0.05912886075885813), (471, 0.05911293945641665), (691, 0.05900295752074139), (1536, 0.05875384330627291), (666, 0.058712895443822216), (881, 0.0586730081872717), (3835, 0.058666408318108786), (3390, 0.058578362987651664), (1840, 0.058549227426192764), (168, 0.05845638288849789), (452, 0.058289807858899256), (2096, 0.05827231738183226), (2250, 0.057921311360400386), (3413, 0.05792015699177402), (4148, 0.05760440997622769), (3070, 0.05729249411710119), (3175, 0.05712655161145634), (1754, 0.057040115274874376), (3153, 0.05698342185735528), (4454, 0.05697922089635232), (3104, 0.056832345839557694), (940, 0.056562331018321255), (2777, 0.05649478326461498), (2714, 0.05644188924072129), (1805, 0.056363900620801544), (4169, 0.05634231077398916), (2931, 0.05601349595756208), (928, 0.05595095121616325), (4703, 0.05592184475208219), (592, 0.055914901855953235), (658, 0.05580957488504214), (3418, 0.05557962766045666), (884, 0.05548571354445003), (2502, 0.05524676627410883), (2429, 0.055012813825903575), (2975, 0.055011838114750015), (3808, 0.05490883654627695), (3906, 0.05436530756330215), (3412, 0.05431267633092335), (1694, 0.054233398952085246), (3725, 0.05406659203332314), (4492, 0.0540518295082834), (3555, 0.05401274152621808), (4053, 0.054003203182335716), (4, 0.053923431298705804), (3966, 0.05390968712730762), (3602, 0.05380037804849992), (2527, 0.05367813333348924), (1456, 0.05363104933025302), (4187, 0.05357651319805388), (211, 0.053419193238711915), (4600, 0.05334593314982968), (1541, 0.053325649422049134), (959, 0.05325557534023086), (2132, 0.05324419759959488), (3460, 0.05324373070380335), (1674, 0.05319652473172449), (1013, 0.053166436279650155), (2948, 0.05304137770214036), (4214, 0.05291689853317243), (2413, 0.05287630963695475), (455, 0.052811668748243404), (3973, 0.05276307782848408), (1017, 0.05252662653454385), (3668, 0.052363779969271586), (1383, 0.05234624421127784), (801, 0.05234440152809502), (1698, 0.052230784545636934), (137, 0.05219625998734714), (1898, 0.05211020007434456), (2099, 0.05205134538319438), (2744, 0.052009593703774004), (3343, 0.05194502166829401), (1641, 0.051922195020204405), (1813, 0.05177603881732384), (878, 0.05170711163553318), (4502, 0.05167697695188116), (1319, 0.05158365419963975), (1133, 0.05145397651674865), (1018, 0.05120964359400247), (4418, 0.051187712426484296), (315, 0.05115678253668142), (749, 0.05113733838231751), (924, 0.05104831219980209), (648, 0.051037412134988844), (1027, 0.05099663733237713), (729, 0.050885662525914324), (3294, 0.05080622436311369), (1106, 0.050708460513782035), (3332, 0.05069204280362345), (3741, 0.05068589390345139), (4684, 0.05065075850122698), (3660, 0.050623018193214665), (1238, 0.05059137637647228), (2063, 0.05052379870998836), (4054, 0.05040782072726426), (2391, 0.050352596118973345), (388, 0.050345314218028854), (4621, 0.050255236033111994), (1990, 0.05008060431618832), (2486, 0.050058258983520905), (1958, 0.05004720273870684), (323, 0.04985025997568965), (1873, 0.04975750615085021), (2393, 0.04970486213824389), (4673, 0.04937491535781615), (1616, 0.049347422518280684), (590, 0.04923814820557387), (3533, 0.04922203632222008), (803, 0.049204205127727364), (2491, 0.04915203321402883), (1061, 0.04907673834126043), (988, 0.04881168653942945), (3710, 0.04879864355909891), (1094, 0.048719384382401525), (2918, 0.04865710136569581), (3403, 0.04841932453975324), (1221, 0.04835683822504453), (508, 0.04830096176006897), (3961, 0.048283066174887895), (1481, 0.04814316350757421), (1220, 0.04813456181453944), (1084, 0.048130638441101985), (1791, 0.04812798717526278), (3997, 0.048075775894383076), (4007, 0.048001189346964054), (2216, 0.04799557278823883), (753, 0.04794224832547659), (3883, 0.04776459729810312), (2202, 0.04776346219656341), (322, 0.04771899488260343), (492, 0.04771138903631873), (3541, 0.047710219331633275), (2803, 0.04768892267236918), (3698, 0.047610455077764985), (2804, 0.04758072336572057), (1428, 0.04751958496594666), (4374, 0.04746684277584567), (4350, 0.047426733382795336), (3193, 0.04726632307897628), (764, 0.04717249089818489), (1067, 0.047063477248687174), (1710, 0.04694331907638224), (912, 0.046885459559103074), (2161, 0.04686820826939633), (2110, 0.046821464760647385), (4248, 0.046751187272809414), (3333, 0.046731025238907764), (752, 0.04660419640072756), (1342, 0.046536887407205504), (3992, 0.04646031258911426), (3364, 0.04642559301410646), (4445, 0.046391258537568626), (4421, 0.04636472821603483), (3388, 0.04634767462883335), (2552, 0.04633265492952968), (2119, 0.04619819469843127), (870, 0.04613087052373489), (4584, 0.04582043181323982), (4732, 0.04581740030731339), (2095, 0.04555474248403074), (2350, 0.04540696515596794), (1382, 0.04540516946798269), (1032, 0.04534331269732221), (48, 0.045287811396664615), (216, 0.045244958474483885), (1197, 0.045206997080418615), (1228, 0.045173790793667595), (270, 0.045119236026728564), (2917, 0.04491728054147922), (1443, 0.044697027432061054), (4113, 0.044668109583045304), (2487, 0.04459661325569932), (136, 0.044580362854968095), (4379, 0.04448767113205169), (900, 0.04444808988735408), (2400, 0.04438555607812798), (2585, 0.04428720715792712), (3211, 0.044249086171975045), (1462, 0.04423004423525763), (1129, 0.044140709868618455), (908, 0.04412260707592673), (1815, 0.04408973091356362), (790, 0.04399695135764764), (1245, 0.04382660919733038), (1634, 0.043598813667234566), (1215, 0.04357765059961125), (1626, 0.043576843031595335), (215, 0.04346239852682446), (532, 0.04338688016434984), (4289, 0.04324189829576156), (1533, 0.04311153736150775), (116, 0.04306837131228307), (1414, 0.04306772395442608), (3849, 0.04295620698052011), (1767, 0.04293939732487351), (1224, 0.042904681809089136), (3421, 0.042852215707763736), (837, 0.04283956791485927), (1119, 0.042780132787103686), (2766, 0.04277864780868044), (4268, 0.042764411079576486), (1307, 0.04264198563788331), (2873, 0.04262992807517346), (1949, 0.04259931048776447), (4701, 0.04254422663610497), (2571, 0.04250017825501456), (3225, 0.04246435414140388), (1908, 0.04242327897319784), (1419, 0.0423815681247747), (2196, 0.04237263407396079), (3531, 0.04232255233346594), (2668, 0.04229050576387787), (736, 0.042229810916112526), (3464, 0.042189799742505), (4225, 0.04216444005802975), (2060, 0.0421379973183531), (1555, 0.0421280167953851), (1034, 0.042126698363847435), (1248, 0.042078236241797774), (2649, 0.04196225551505972), (4508, 0.04193040146794202), (3453, 0.04189280495596709), (162, 0.04183300620559961), (1257, 0.041779871525509285), (1410, 0.04177138858386117), (124, 0.041706980035726454), (1304, 0.04155127927387498), (2282, 0.04152784717407811), (3456, 0.04146886007534724), (4739, 0.041448337165992284), (810, 0.04142594993147328), (1232, 0.04141866358576803), (3329, 0.04137133925850133), (3711, 0.04133847031011316), (3293, 0.04130668912208883), (1267, 0.04120340728764043), (276, 0.041149292681019814), (1460, 0.041130281065971414), (1802, 0.04096205460654079), (2929, 0.040927436020761127), (2150, 0.040864785421615174), (4440, 0.040831413140172634), (1926, 0.04083002300151176), (4490, 0.04081272417371242), (2254, 0.04078245192946171), (2129, 0.0407608492281652), (739, 0.04073281152026943), (4721, 0.04067626798270546), (4402, 0.040675625218183915), (994, 0.04052296743781847), (4623, 0.040480989745810304), (1716, 0.04047986290211589), (1523, 0.04043391347365545), (3819, 0.04043239069091003), (1654, 0.040367155431749444), (112, 0.040341486203375604), (1812, 0.040295030012761614), (4753, 0.04029315887112328), (1860, 0.04026638870054281), (2964, 0.04025668110902657), (1796, 0.04025070142568388), (1665, 0.040203061204446625), (1511, 0.040161963713218674), (604, 0.04013690143560051), (107, 0.04007714958048308), (1029, 0.03997173168161647), (569, 0.039914478364092065), (3807, 0.039858726457768966), (2402, 0.039837774829287353), (2844, 0.03982686861300608), (2246, 0.0397567154019715), (2884, 0.039727262787996556), (3158, 0.039716782210665214), (4523, 0.039640713395057176), (867, 0.03963454442351096), (612, 0.03956790090993989), (484, 0.03956554939465262), (2654, 0.03951466067421683), (4043, 0.03949742541408233), (2187, 0.03949695522309854), (1774, 0.03946479656831746), (3401, 0.039432008533968804), (3282, 0.03934545066458392), (4669, 0.039311909217263734), (4216, 0.039119847899924606), (2035, 0.03911402438612707), (3516, 0.03911324725181474), (1021, 0.03900049816911528), (2982, 0.038981723405323195), (1426, 0.03895555148242122), (1678, 0.03888258706103233), (4207, 0.03884805855957186), (4087, 0.03881586357651802), (1157, 0.03880228236782865), (126, 0.03877964575239427), (3612, 0.03872318738298025), (2037, 0.03865335336440098), (1865, 0.03861943692484749), (160, 0.0385853165891997), (1829, 0.038572134093141315), (2325, 0.03856952033241605), (3477, 0.038483791952671036), (1505, 0.038430519983087885), (2368, 0.03840158871742955), (2022, 0.038392948201416754), (918, 0.03835769859082123), (52, 0.03831158936548889), (701, 0.03821919077802186), (1737, 0.03818366136641642), (3063, 0.038165332012711356), (240, 0.03815871828040196), (533, 0.03815012762091899), (2401, 0.038138645274945635), (3095, 0.03807876272689744), (360, 0.038076057289293336), (2405, 0.038056015919169954), (1779, 0.03800471201470071), (3112, 0.03799750112057294), (2156, 0.03795339749398249), (173, 0.03794344965600516), (2712, 0.03775506199568395), (2219, 0.037592389307852), (3369, 0.037544969918284266), (4431, 0.03752216627941608), (143, 0.0374847880081492), (2761, 0.037476120150920736), (483, 0.0374487482996739), (2753, 0.03744115987269405), (2513, 0.037429956991372984), (1115, 0.03736018993831259), (1474, 0.037353956317724014), (356, 0.037347139103384205), (3406, 0.03734631504966241), (1237, 0.03731033655280817), (2097, 0.0372578659019796), (3650, 0.03725668676507574), (901, 0.037241400048359394), (930, 0.03724052011582532), (4590, 0.037194413489230964), (1931, 0.03719080715483812), (3443, 0.03717477887589833), (4529, 0.03712202793890507), (1744, 0.03702390286573992), (2752, 0.0370226795253243), (3209, 0.03701213421180324), (1638, 0.037008846725741285), (1081, 0.037008480747215154), (435, 0.03694417034961171), (2465, 0.036931762713680344), (2065, 0.03692652465269681), (2088, 0.03691451289428479), (2296, 0.03689959924215383), (3077, 0.036823639730175786), (2112, 0.03671519469920169), (2047, 0.036705206581298756), (3634, 0.036670540311532926), (1006, 0.036655727468291543), (1137, 0.03664818295864465), (3856, 0.03655601242444201), (2321, 0.0364404352597549), (896, 0.03633950211934866), (1097, 0.03627201184367834), (4334, 0.03626304655402168), (4138, 0.03623842684593842), (633, 0.036233362713510874), (285, 0.03611417970567066), (3318, 0.03611268767882793), (3200, 0.03611114298961443), (1138, 0.03610939399314576), (3260, 0.03600696081238765), (2235, 0.035954937310300236), (1991, 0.03594785723001929), (3795, 0.03593048360257748), (3950, 0.035929866626806625), (3483, 0.03591281303007819), (1454, 0.03590956429158351), (209, 0.03578970788137575), (550, 0.03575802843033104), (1743, 0.035755989319785374), (2650, 0.035755505756979764), (4232, 0.03573210607008106), (1284, 0.03572497195198241), (1436, 0.035718300829780836), (980, 0.03568737800903502), (1760, 0.03554946257169175), (3618, 0.035504201403772605), (3326, 0.035475584441079004), (96, 0.0354609629145691), (3199, 0.03531452847043323), (1145, 0.03527645063694192), (3646, 0.035238879889463025), (2027, 0.035122027067693525), (1239, 0.03511401865418325), (643, 0.0350824523076884), (2860, 0.03506836663240985), (3275, 0.035062257857609344), (1433, 0.035048217356308906), (466, 0.03503512160582253), (4152, 0.03501409182730323), (1385, 0.03498594448189036), (2126, 0.03498002636741306), (3626, 0.034903126814915954), (205, 0.034890382569431784), (617, 0.03487186861185678), (4299, 0.034847217173110116), (4487, 0.034813723822418347), (248, 0.034795079499656136), (820, 0.034789841541880716), (1937, 0.0347647104064414), (682, 0.0347577260428985), (3536, 0.03475408704643006), (2008, 0.03472462139289423), (3409, 0.03466035039559673), (3729, 0.034658798913512846), (1557, 0.034613627670563696), (765, 0.03455168775878156), (1484, 0.03452012953553817), (814, 0.034490756537233755), (1659, 0.03445178158638256), (1041, 0.03444869516059404), (3379, 0.03439843318494045), (4743, 0.03437816855802179), (3912, 0.034302878460596785), (1787, 0.03427662275056512), (3895, 0.0342750087546481), (3442, 0.034175944419556833), (667, 0.034121080559308604), (2310, 0.0341084955439441), (396, 0.034083936167398965), (4083, 0.03407017444163102), (3596, 0.03405870858506885), (3120, 0.03404444138487515), (1449, 0.034027513599737796), (4381, 0.034014334244066274), (2223, 0.03400375748462893), (1055, 0.03396915584640143), (3043, 0.03395962840314813), (4373, 0.03394551372052507), (4679, 0.03394477148736891), (1843, 0.03392010937946421), (326, 0.0339063991453869), (642, 0.03389641036220145), (1105, 0.03388198707213737), (2291, 0.03384704672142846), (859, 0.03383646845548394), (451, 0.0338307607381194), (1903, 0.03380698387533854), (3227, 0.033772523057753696), (1757, 0.0337432753657988), (1935, 0.03373297085916777), (932, 0.03371972803183379), (915, 0.033669760200047104), (1542, 0.03360163738075189), (4658, 0.033592624843053275), (3124, 0.03355768826147984), (742, 0.033554520392772985), (4503, 0.03354864165780089), (2121, 0.033542966170616875), (4498, 0.033542630857203375), (404, 0.033528373004013914), (1155, 0.0335233213811375), (3389, 0.03347763173155835), (4286, 0.03347397272263522), (458, 0.033472599002686274), (3146, 0.033451727908130786), (2075, 0.033426691997524974), (2762, 0.0334154779075779), (1225, 0.033411195979534486), (1356, 0.033409604496392006), (88, 0.03338748642199682), (2210, 0.03331763523283337), (3116, 0.03329638481054644), (1195, 0.03324477581056429), (911, 0.03323973483175106), (1527, 0.03319538510307544), (489, 0.03312006166491383), (3213, 0.03309936024162826), (2848, 0.033030557662957254), (2416, 0.033011808038211306), (2, 0.03297029571514736), (333, 0.03296873618779866), (4280, 0.03294169530638983), (3810, 0.03293586764007192), (2255, 0.03291311286913483), (1278, 0.03289209232433072), (921, 0.032886914544239615), (4155, 0.032877445313459645), (3468, 0.032850700978787575), (3117, 0.03284032673532854), (2078, 0.032787194679781556), (788, 0.03278537480225814), (833, 0.03274671437743085), (673, 0.03273631076525298), (4116, 0.03270527755397226), (2558, 0.03263820077945429), (3086, 0.032626704197833846), (1478, 0.032480525326118434), (2809, 0.03242985289118782), (3540, 0.03241931095942729), (4235, 0.032344151147961915), (1797, 0.03231613579760581), (3397, 0.032272528929226746), (4364, 0.03225020778155485), (3240, 0.03223045138790174), (501, 0.03222662177681758), (4180, 0.03221085395605205), (2932, 0.03220962870998987), (1024, 0.03218831503895887), (1227, 0.032186913826170144), (524, 0.03218684589298623), (33, 0.03216857378369329), (538, 0.032165133298366004), (3758, 0.03216361757985114), (1897, 0.032089718239532314), (939, 0.032039846200286465), (4020, 0.03201534080589798), (3739, 0.03200880491581365), (55, 0.0318493196917829), (1263, 0.031772873520323805), (3001, 0.031745566103887644), (1671, 0.03172638658011068), (3770, 0.03172616088334759), (2807, 0.0317093039821067), (4427, 0.031625195478826806), (347, 0.031622420943824524), (4295, 0.03161072748355406), (3018, 0.03159181928644455), (3336, 0.03157999601206386), (144, 0.03154073875788737), (2816, 0.031538574879418656), (439, 0.031532882619268975), (1540, 0.03152256812451969), (3123, 0.031506273151311485), (2385, 0.031498907410755), (4256, 0.03149549895661509), (886, 0.03140172158402689), (2680, 0.03132792041002014), (445, 0.03132370466239298), (1235, 0.03129170131004599), (4661, 0.03123162022591639), (4365, 0.0312121292211533), (3617, 0.031163134496076543), (138, 0.03116184525425854), (3690, 0.031149989201429057), (519, 0.03110943621124143), (4015, 0.031076160144437003), (2319, 0.031068030055649006), (4147, 0.03106260397837026), (4747, 0.03105572504168773), (4401, 0.03105528138256715), (4403, 0.031050407735629157), (3855, 0.031047189752090795), (3196, 0.031046357631099718), (2782, 0.03094119795655879), (1365, 0.03089827131294549), (2863, 0.03083575041124912), (1516, 0.030799421176400964), (2180, 0.030740491145267407), (2542, 0.030704349412487182), (1515, 0.03067952655532126), (1658, 0.030652761119251786), (1338, 0.03065244500645227), (1793, 0.030642502080837852), (2135, 0.030618757351940452), (1128, 0.030595388690299104), (511, 0.030579036715889407), (969, 0.030524893569056834), (200, 0.03051069117526081), (3991, 0.03048171135453441), (89, 0.030425599380759807), (2746, 0.030407815594555864), (2827, 0.030402296095155712), (4022, 0.030399664633893854), (4135, 0.030330546251360717), (114, 0.03032911800321334), (4380, 0.030281419438827284), (4627, 0.030232759070216487), (1186, 0.030217838632656403), (4204, 0.030171949388229244), (2192, 0.030117314883165828), (1959, 0.030067156223235907), (2675, 0.03003013401172648), (4633, 0.029980706664821024), (170, 0.029972984960802716), (3733, 0.029969591459165168), (1135, 0.029898816656969498), (3149, 0.029857937748398244), (2460, 0.029851456053803183), (4064, 0.02983269903694919), (4060, 0.02980412300930338), (1409, 0.029736482633924165), (230, 0.029683812767384823), (2786, 0.02964921629591303), (875, 0.02961682177250182), (1405, 0.029614361871197814), (1712, 0.029594139678577342), (553, 0.029573956806948135), (3702, 0.029552449035904326), (3304, 0.0295495802133023), (3381, 0.02954925089422703), (4423, 0.029523215040263263), (989, 0.02950586936648307), (1412, 0.029463288361335264), (4013, 0.02946143638530761), (823, 0.029404963095098224), (1567, 0.029398804152177167), (2968, 0.029353560571174084), (251, 0.02934554084010543), (1431, 0.029344381815779863), (718, 0.029320967098714918), (243, 0.029285620345641125), (873, 0.0292608269140692), (1816, 0.02925536511475142), (1442, 0.02925286448271632), (4141, 0.029217453751055805), (2642, 0.029193033288828312), (1643, 0.02918151847555468), (3885, 0.029175792002549793), (2058, 0.02916818306577522), (1620, 0.02915097820745348), (732, 0.02913228106837805), (3356, 0.029100589997779487), (1082, 0.02909040022816014), (2064, 0.02908402387534833), (2541, 0.029067596868228518), (4040, 0.02902951089480794), (2512, 0.02901952547944653), (4464, 0.029010479740493922), (132, 0.028985108936961518), (2370, 0.028958363246303354), (238, 0.02892921480710093), (3186, 0.028925702629135405), (1688, 0.028923015374762585), (4637, 0.0289071891954639), (979, 0.028899656640035694), (1750, 0.0288861430381884), (4139, 0.028879251927901993), (354, 0.028840959628466667), (763, 0.028775994127447652), (1364, 0.028748547711371104), (4582, 0.028739508109438924), (1498, 0.028716516978685904), (1139, 0.028669797314479297), (966, 0.028645483765511775), (3212, 0.028641200038586216), (3188, 0.028614049751515103), (163, 0.02859356488838731), (3594, 0.028533527611461638), (3325, 0.02850295581794741), (937, 0.02846199321783824), (3691, 0.0284572846258307), (1943, 0.028404725991296346), (2854, 0.028387659969859348), (1176, 0.02837298353404861), (1182, 0.028359161027844415), (2442, 0.02834791497717345), (3342, 0.028316281019203138), (2292, 0.028309734540186846), (3648, 0.028272714776621993), (1960, 0.02824524740916975), (198, 0.0282020427828613), (3407, 0.028162531165344947), (1306, 0.028159478355032807), (2175, 0.028146700252810544), (2375, 0.0280809655599234), (99, 0.028068091830247926), (111, 0.028056390096285154), (1372, 0.028053980186367705), (4699, 0.028045523714877913), (3558, 0.02800946142397476), (2123, 0.028009169187899058), (4602, 0.027989427916771586), (4737, 0.027975118036470493), (4479, 0.02794272023316548), (3519, 0.027909322903136313), (182, 0.02790733760205858), (334, 0.0278538508763847), (1183, 0.027844669131280992), (4366, 0.027832939456396234), (321, 0.027814767441753548), (1279, 0.027741740522722557), (3463, 0.027741075275813917), (2033, 0.027725722417529665), (2596, 0.027697532342092945), (4045, 0.027695370765560404), (2638, 0.02767944259024966), (2595, 0.027669679661300402), (4394, 0.027582042439282233), (3182, 0.02756581891870255), (1373, 0.027565435247996692), (2853, 0.027547847047178727), (4294, 0.02754299424767035), (3707, 0.02754125935493594), (1072, 0.027530355137844673), (4332, 0.02750220419382681), (247, 0.027483011572131674), (3441, 0.027459163673638112), (3916, 0.0274543334392472), (217, 0.027448679851586603), (1861, 0.02744215621054331), (4078, 0.02737725738334074), (744, 0.027370327050303674), (1628, 0.027364171289131912), (174, 0.02734739483893371), (83, 0.027344904702845035), (4720, 0.02730520346353402), (2154, 0.027281622333615647), (722, 0.02726092581945297), (1400, 0.027227693717478355), (2463, 0.027214718487428846), (169, 0.027201893068404658), (4577, 0.027196372851376625), (3678, 0.027139350572557976), (2930, 0.027126950216140977), (2621, 0.027123257695272372), (1192, 0.027062780000401864), (4271, 0.027027834494169366), (193, 0.02702513244558416), (446, 0.02700845585464673), (787, 0.026997447623155917), (931, 0.026965930030825966), (4551, 0.026960541922948285), (2610, 0.026960218724747773), (4206, 0.02694246603490064), (2795, 0.02689769359165754), (488, 0.02688544264564609), (1592, 0.026849265020571028), (4159, 0.026847530443917154), (651, 0.026835407085929342), (1570, 0.026828917311460313), (3935, 0.026828115968219983), (2996, 0.026809560474024947), (4592, 0.02680905019020307), (1635, 0.026798074259820462), (3524, 0.026775049101816065), (4055, 0.02676970056947278), (228, 0.026762074261841035), (1864, 0.026734449859088145), (146, 0.02673124353054522), (4220, 0.026730194679019815), (3493, 0.026700996059997643), (620, 0.026696805331171185), (1876, 0.026686340730982097), (2841, 0.026549264284280984), (34, 0.026545659737448813), (1884, 0.02651088940050654), (256, 0.026497956358325254), (4754, 0.026480064960494144), (1341, 0.026444071816408725), (1819, 0.02642496763557482), (983, 0.026412448395826092), (4057, 0.026380702275454023), (834, 0.026365943684628794), (3694, 0.026364583993732923), (472, 0.02631485679065553), (4314, 0.02631043804900342), (3221, 0.026306009624386284), (1821, 0.02630265680696274), (2616, 0.0262940431170968), (851, 0.02627985216975673), (437, 0.02627074613763899), (2942, 0.02625310810570714), (380, 0.026211103710727393), (3172, 0.026195201549723587), (1381, 0.02618267020659737), (197, 0.026141935356027806), (3484, 0.026113331939014234), (3824, 0.026080145160769022), (2453, 0.026068947580585127), (249, 0.02606845664618116), (4597, 0.026065566455137107), (4266, 0.026064269834888357), (140, 0.02603704810057581), (3243, 0.026033347170141927), (1229, 0.02595041169570678), (3870, 0.0259077948698971), (2326, 0.025873215684820944), (3871, 0.02586534543391117), (645, 0.025858639036208546), (3611, 0.02585723869035941), (877, 0.025848221659438047), (2273, 0.02578098481236421), (157, 0.02577204280418667), (2201, 0.0257553198639168), (4183, 0.025735324208517874), (1614, 0.025724271606161045), (1490, 0.025694478052973573), (3898, 0.025679280472827474), (1879, 0.0256459681797028), (899, 0.02562250163237135), (1811, 0.025622293746817387), (4616, 0.025575590782596053), (4460, 0.025557349746188958), (3839, 0.02553720497128041), (1940, 0.025528974404893445), (3826, 0.025509034357402788), (1942, 0.02550125340160475), (237, 0.02547435615232327), (4270, 0.025455499884665927), (1440, 0.025452201446496507), (3820, 0.025432987188939608), (4004, 0.02541961146246232), (2570, 0.02541134994186976), (730, 0.02540463502356964), (4752, 0.025384108733924167), (1993, 0.025380206470225694), (1983, 0.02537192779300084), (942, 0.02533629980905662), (4195, 0.025334504819062218), (3530, 0.02529263146216033), (780, 0.025291122502905238), (2016, 0.025290141711745165), (464, 0.025265538610837183), (3797, 0.025182956406107262), (935, 0.025169519517990582), (2249, 0.025147157665881586), (3101, 0.025142125829543022), (835, 0.02513360037057317), (973, 0.025133531842607283), (723, 0.02512508080736206), (3500, 0.025105476493639964), (990, 0.025063781354007296), (3604, 0.025060043200140034), (3775, 0.025041646029802973), (3986, 0.025009418943376396), (1334, 0.025008234447076318), (4189, 0.024918940035449783), (652, 0.024917923963554158), (2624, 0.024901245807174094), (1729, 0.024887592011448374), (4109, 0.024864694510926873), (3247, 0.024853537244722952), (4099, 0.02477513719920385), (3662, 0.024769274343768823), (1906, 0.0247562357511374), (3651, 0.02469867717107197), (3889, 0.024680495136215848), (2452, 0.024680480527253024), (3947, 0.024669078480717282), (4242, 0.02463559402301551), (1597, 0.024622396685058973), (864, 0.024616346650884476), (705, 0.02460756260222388), (1445, 0.02457434927961514), (3944, 0.024570379674831343), (3670, 0.024569620338879133), (4748, 0.02456507825759389), (1375, 0.024550013047023193), (1016, 0.024509662801191295), (760, 0.02448922614939078), (791, 0.02445851852481297), (1553, 0.0244350387591577), (861, 0.024424902490332606), (1927, 0.024413569604516322), (2439, 0.024367265232618764), (1246, 0.02430321007055225), (3154, 0.024271074571946234), (2562, 0.024259007544635766), (3288, 0.02424702684427893), (307, 0.024228418214694306), (3750, 0.02420635242752303), (1377, 0.02419894415748745), (1773, 0.024173178676932403), (493, 0.02416220373389248), (1784, 0.02413803993613195), (1252, 0.024136328390847478), (1742, 0.024121159833742276), (1871, 0.024116484813852562), (2690, 0.024072149746426828), (3131, 0.024068488544579797), (1663, 0.024032951881883768), (3110, 0.024014486948186056), (523, 0.02398416847462639), (3461, 0.02398000068994203), (4343, 0.023935300737275258), (3142, 0.023935004492677076), (2499, 0.02391912688410552), (279, 0.023882080404600187), (2406, 0.023874995661064012), (2908, 0.02387265857642895), (2839, 0.02385539521784751), (564, 0.0238523744307175), (597, 0.023851914708822045), (2910, 0.023835586648619435), (1858, 0.02383240805205708), (3347, 0.023806247917003226), (2093, 0.02378700615946493), (410, 0.02378021565904185), (3640, 0.02375316741509105), (587, 0.023744843124636098), (4459, 0.02373591716125187), (359, 0.023704350359676364), (1762, 0.02367096516471573), (2228, 0.02366533529542212), (1255, 0.023617796643988564), (4531, 0.023604175047568062), (1825, 0.02360104917270659), (3684, 0.023595704546381147), (4192, 0.02359051093802124), (324, 0.023558911074198212), (1218, 0.02353710293375798), (87, 0.023517172704019984), (3429, 0.0234901411552915), (53, 0.023482880028101796), (3876, 0.023463083684789304), (516, 0.023449714186337314), (2275, 0.02344370001197787), (1376, 0.02342793460896477), (3518, 0.02341074613887615), (2661, 0.023396288679355302), (366, 0.023361554597438994), (4574, 0.023335677318036863), (3375, 0.02331102716823175), (4620, 0.023308770693960694), (271, 0.023251268856701847), (2886, 0.023242090914449787), (548, 0.02323888291959272), (675, 0.023227179355516717), (3821, 0.023219198502555743), (233, 0.023213301404726102), (655, 0.023212019447631578), (3171, 0.023173551961620874), (2353, 0.023162229916506658), (2082, 0.023158762605869174), (625, 0.023142417648092516), (3909, 0.023121130660983008), (1827, 0.023114110262704074), (2197, 0.02307823857749937), (2036, 0.023076210274079762), (3450, 0.0230307609912555), (4677, 0.023011835575196406), (562, 0.022987321378332714), (3586, 0.022973923911807144), (1175, 0.02296651822836166), (618, 0.02296126688874779), (3272, 0.022947468667119525), (1219, 0.022930648280798764), (54, 0.022897229344428408), (1233, 0.022886216095075775), (236, 0.02288300109808536), (1705, 0.022859455443583934), (3548, 0.02285775321219733), (4639, 0.022856040818015372), (2262, 0.022837983755843914), (4210, 0.022818504348821704), (3712, 0.02277777449204651), (3462, 0.022776029146519636), (1179, 0.0227643666961802), (4465, 0.02272689869039096), (1801, 0.02272554938122719), (1420, 0.02272310919906062), (178, 0.02271237697148129), (2522, 0.022699744470950443), (14, 0.022676649546621533), (3942, 0.02266020026272825), (4599, 0.0226586660105889), (4557, 0.022644303399617052), (1038, 0.02263305234322061), (1331, 0.02261431247404513), (2756, 0.022608274254422637), (853, 0.02259939597627488), (1923, 0.022573599952513144), (3435, 0.0225359665467555), (3367, 0.022532071997810228), (3927, 0.022523626349227298), (2081, 0.022520483098201344), (976, 0.02250006473355364), (654, 0.022499390398046958), (156, 0.022491373311608498), (1964, 0.022469513177933585), (2682, 0.022434935169228013), (2992, 0.02242094799099807), (4171, 0.022375896694970913), (842, 0.022357780872891142), (3957, 0.022304440007171064), (4470, 0.022259582425486594), (3600, 0.02224775696752084), (1329, 0.022200048720805655), (1715, 0.022194904185134035), (2780, 0.022103458991972615), (2944, 0.022095896755566773), (2130, 0.02207972363893685), (2221, 0.02205869015260658), (4218, 0.02205431346481039), (1595, 0.022046296705507853), (3642, 0.02204096614863601), (1261, 0.022033465559934375), (3416, 0.02203058569877306), (2073, 0.02200431607857866), (1706, 0.021992849000608338), (1900, 0.02196643195738012), (2889, 0.021961317267595065), (3362, 0.021923731387156774), (4463, 0.02191472151717023), (1981, 0.02189262096381263), (4324, 0.021886879412533436), (3097, 0.021866291615220117), (4663, 0.021843810228534433), (2774, 0.02183493643364798), (2001, 0.021828677980688063), (3387, 0.02180203129507777), (4497, 0.021798782156832487), (485, 0.021782041084163026), (3444, 0.021774251560702503), (1740, 0.021727002375560453), (2489, 0.021705625888983407), (123, 0.02169576673532444), (1929, 0.02169490964417455), (4564, 0.021661182139490396), (486, 0.02165208776290868), (1488, 0.021644786261959793), (2295, 0.021637494327838198), (1167, 0.021629787658964582), (4262, 0.02161641712162906), (874, 0.021615665439498864), (3787, 0.021614536591448137), (4756, 0.021611601408472427), (1891, 0.021605248126142437), (627, 0.021602044968642792), (3695, 0.021594976898732188), (3245, 0.021568667252597488), (1997, 0.021544838468080117), (2261, 0.021532534776220157), (1857, 0.021503396639143958), (4722, 0.021498041269293083), (2157, 0.021493053426381376), (2988, 0.02147466121877923), (4033, 0.021443001061479276), (1388, 0.021440274720263844), (2635, 0.021424787444568508), (2258, 0.021408743034576228), (3938, 0.021406520042252908), (115, 0.021290104277642347), (1103, 0.02127481018003991), (2634, 0.021273591307325205), (3338, 0.021256566371109377), (3093, 0.02124808055172934), (3647, 0.021242277871060554), (3426, 0.021224348787804142), (213, 0.021180589790376306), (796, 0.021179545156617147), (81, 0.021150857132116715), (3024, 0.021144622198051508), (25, 0.02114381718997025), (3374, 0.021137446427202475), (547, 0.021132748662006255), (561, 0.02112418841503392), (1044, 0.021112650314857366), (1572, 0.021100219029087028), (702, 0.02109454697614879), (3011, 0.021092383873206076), (1617, 0.021077972239043112), (2206, 0.021077468317255203), (2608, 0.02106127986207872), (4585, 0.021050519851451857), (68, 0.021030950356754785), (566, 0.02102876827933802), (1314, 0.020999731232400513), (2334, 0.020920674169308616), (38, 0.020896045490049822), (4662, 0.020889693557387196), (1948, 0.020886100424545067), (541, 0.020883455080166983), (393, 0.020828353467691005), (1050, 0.020754040281626265), (4321, 0.020749177907550438), (1554, 0.020677181478127755), (325, 0.020594938188537238), (2066, 0.020569543060837955), (1036, 0.020555307081089554), (3959, 0.020538860865949873), (1335, 0.02052807706319399), (670, 0.020528065005004273), (2749, 0.020519734117707886), (139, 0.020515168735469273), (40, 0.02051106072845566), (4125, 0.020505647446666844), (1582, 0.020447796867461246), (1469, 0.020438920851019133), (1786, 0.02043098973701995), (2043, 0.02041721715872196), (2591, 0.020416668024862052), (5, 0.020386167917230132), (2957, 0.020378332664670942), (59, 0.020351873266905112), (4165, 0.020335268190321887), (433, 0.020332742781482914), (895, 0.02030490309863938), (2459, 0.020274489742568808), (4659, 0.020266179172449775), (1655, 0.0202620959318193), (283, 0.02026109009707158), (3718, 0.020254353089699265), (2468, 0.020227069352631216), (3192, 0.020199831612011516), (1581, 0.020198894101605306), (577, 0.02019325882755679), (293, 0.02016752504156665), (105, 0.0201583276478607), (3206, 0.020153474757598842), (4164, 0.020138239903590642), (408, 0.02013708437960241), (894, 0.020134753519760358), (1681, 0.020074437189595323), (2845, 0.020059774190200653), (4110, 0.02001051709058585), (401, 0.020009945046534392), (6, 0.019986906282455467), (719, 0.019969453932597855), (480, 0.01996935723912466), (4583, 0.019947682726241995), (3868, 0.019922332285996144), (4432, 0.019918731437878052), (1458, 0.01990660629376987), (2208, 0.019904856233680334), (2670, 0.019883812722362688), (398, 0.019880415717983976), (1814, 0.019879512798974916), (795, 0.019875683554252923), (3850, 0.019852376488481788), (3357, 0.019830065124476614), (816, 0.019827962162673914), (552, 0.01982441490946877), (2472, 0.019816175809659126), (2874, 0.019812690060146666), (3118, 0.019810110694050826), (2279, 0.019804265008965625), (1090, 0.019780400296533447), (109, 0.019770123150588945), (3392, 0.019750616811645968), (272, 0.019747589154271203), (1035, 0.019745905447679797), (1068, 0.01974199572428388), (4738, 0.019734166709450995), (475, 0.019729256456667565), (3979, 0.01972271246874695), (2808, 0.019695219248281975), (4399, 0.019677514566791603), (1506, 0.01967726612604423), (4023, 0.019671217639790763), (389, 0.019665727908307333), (1303, 0.019641539634933237), (1531, 0.01962779625572527), (1196, 0.019614253238858712), (3946, 0.019561154611351647), (2408, 0.019550062274987665), (2814, 0.01954904056622718), (3327, 0.01954877697682049), (2388, 0.019526499366178143), (375, 0.019511720748415385), (3071, 0.019502243469704965), (2879, 0.019428598797488615), (634, 0.01939489011077896), (2113, 0.019392500534096906), (1780, 0.019390554914144344), (4265, 0.01935106772215066), (386, 0.019343331087706615), (626, 0.019294445914722985), (1602, 0.01927371993436312), (1185, 0.019263944534087703), (3901, 0.019239644188194502), (1429, 0.01917863222177241), (385, 0.01916412241443461), (1079, 0.019147020732180445), (1830, 0.01913056096338727), (2560, 0.019117686035068842), (1425, 0.019105050444978663), (1047, 0.019050694421654947), (3683, 0.01901521699371574), (2114, 0.018981635191371783), (3563, 0.018976618290302644), (2355, 0.018972538583084755), (86, 0.018964222197278897), (4486, 0.01895251114260509), (2051, 0.01892521860341395), (3978, 0.01891446142878953), (1132, 0.018845929685612387), (463, 0.018837262019228675), (938, 0.018824842061487816), (737, 0.01878750952708012), (4246, 0.018775839257097766), (2140, 0.018772689611853615), (781, 0.018753266418396437), (2089, 0.018745792723237314), (1532, 0.018740696344794437), (1023, 0.018723797112369895), (4071, 0.0186804795134588), (3023, 0.018679353841500577), (2023, 0.0186740033920309), (829, 0.01867176421280945), (4683, 0.018639033099149174), (381, 0.018635064957078108), (1348, 0.018594554707465474), (444, 0.01855971234304256), (1496, 0.01855248317762418), (3273, 0.018544438900312633), (1296, 0.018531170791456858), (535, 0.01853063209103654), (1214, 0.018490361467071052), (2963, 0.018484092286378564), (468, 0.018474899628224337), (443, 0.018452103537490033), (629, 0.018433717618780376), (496, 0.018432885692714493), (2836, 0.018432058335578788), (2435, 0.018343731310748245), (1116, 0.0183398688877334), (573, 0.01830698142544333), (1777, 0.018294264124804584), (4674, 0.01827783988871543), (1739, 0.01827583098379455), (1479, 0.018269369623899558), (4046, 0.018260756079317333), (3259, 0.018257193382611628), (1924, 0.01822568793420511), (4063, 0.018220321871087367), (2336, 0.01818220422008626), (3306, 0.018179965065408202), (190, 0.018175630396073478), (2629, 0.018109578937330856), (557, 0.018102308600534297), (3060, 0.018100859180544517), (2225, 0.018092831077055293), (2555, 0.018086361157007742), (1986, 0.01808322799142325), (2207, 0.018075018526011812), (2881, 0.018068104844703076), (2264, 0.018057556851376222), (50, 0.018057239746255525), (1974, 0.01804281976113715), (4494, 0.018022529246221716), (1281, 0.01802005029579753), (794, 0.018001370055485178), (3331, 0.017997642183293285), (4153, 0.017991534298745025), (2116, 0.017977790005477487), (1288, 0.01797296163771461), (357, 0.017967376314366592), (2076, 0.017963443950489384), (352, 0.017953565343862696), (2617, 0.017920282808270058), (813, 0.017917785791620972), (807, 0.017901452850412197), (3156, 0.017891942589808453), (244, 0.01788747529877719), (2681, 0.017859357227312505), (1293, 0.017855201401136434), (1795, 0.01785188529796759), (436, 0.017848965486596195), (4593, 0.017739529999005205), (825, 0.017733850442488396), (345, 0.017721479046883926), (42, 0.017707484672811562), (1895, 0.017691418643183552), (1063, 0.017666818046050664), (3700, 0.017644949648333116), (3052, 0.01760746110298871), (733, 0.017586339497859142), (1290, 0.017568179274915358), (953, 0.0175478476308985), (1086, 0.017541035372510484), (2404, 0.017533278847433702), (4691, 0.01752633448818142), (166, 0.017513146485608873), (3458, 0.017511786177355118), (3090, 0.017510715391284636), (266, 0.01751009127199369), (1461, 0.017505364360299702), (1649, 0.017502557890262116), (4744, 0.017502431897303872), (195, 0.017500872227835113), (3561, 0.01747476282235817), (4101, 0.01741216835994673), (2070, 0.017385500665950522), (890, 0.017372331941274886), (4667, 0.017372104805820472), (2287, 0.01737089461072113), (717, 0.017370641574984802), (3788, 0.017364567785252586), (1630, 0.01734955865060548), (3291, 0.017322972995091165), (2315, 0.01731023335702092), (2276, 0.017273352854083577), (3056, 0.017248780008162035), (952, 0.017245293232945703), (3704, 0.017239946518373087), (2477, 0.017236281177226982), (4088, 0.017233182824027447), (1971, 0.017228018226992933), (3597, 0.01721021691612638), (2524, 0.017201573225427046), (4186, 0.01719141469394475), (4484, 0.017187055047876383), (311, 0.017162330138548183), (3751, 0.017113433777400044), (762, 0.017112926845611026), (1071, 0.017024590390988227), (1330, 0.016994009846030337), (3606, 0.016983680709006636), (4587, 0.016971580201873702), (2711, 0.016943826666753162), (3878, 0.01694245954322286), (1915, 0.01693476724037386), (4489, 0.01691992743241671), (3279, 0.01691763405422383), (2815, 0.016915407504343945), (336, 0.016868155928172326), (3975, 0.016865506768006744), (304, 0.016857639256033424), (2178, 0.016838681620331204), (2006, 0.016837319456612022), (4420, 0.016821948005678256), (1007, 0.016794819684133686), (191, 0.016756254504778172), (2533, 0.016753338705051884), (4081, 0.016749358916849033), (697, 0.016726796838460872), (1384, 0.01671469424149035), (4363, 0.01670872141284288), (181, 0.016704237063379417), (2831, 0.0166763022687841), (2354, 0.016673771739050935), (482, 0.016651552186529722), (4219, 0.016634067104891136), (4320, 0.016614862559107935), (3346, 0.01661288522820447), (1083, 0.016598708352185434), (3262, 0.016586665106953412), (588, 0.016577464430784103), (606, 0.016473716024890343), (1317, 0.016468404627103726), (769, 0.01643910550721438), (1354, 0.016426924692150294), (827, 0.016423091629260488), (4358, 0.016389665596762273), (1524, 0.016308748214527782), (4710, 0.016294242806340214), (2226, 0.016287773159440654), (3706, 0.016256213124938235), (750, 0.016252793601478955), (2553, 0.016239215993763555), (2768, 0.016236447641170056), (832, 0.016221017010069626), (2822, 0.01620790582702308), (1850, 0.01619856037261907), (302, 0.016184695509961128), (2277, 0.01617162605531677), (2374, 0.01616804157353709), (3386, 0.016164553863842676), (1121, 0.016150120142775115), (636, 0.01611152819535544), (1247, 0.01608854530630948), (2268, 0.016087145796550125), (4504, 0.0160766662220272), (582, 0.0160727223757418), (3638, 0.01607187222110812), (1213, 0.016062101739806392), (104, 0.016053978993594238), (4612, 0.016047799755747136), (1117, 0.016001786213455802), (3993, 0.01599475204869581), (2344, 0.015986425008318365), (2760, 0.015981086575776713), (1194, 0.015975497079579352), (1378, 0.01593971582286327), (862, 0.01592937826062911), (1008, 0.015917948897877125), (1987, 0.015890922799814338), (4056, 0.015867059573795438), (29, 0.015862399313721635), (0, 0.015846973644133032), (3466, 0.01583087962509842), (1051, 0.01582458478395223), (61, 0.015750366260134124), (1721, 0.015735692057043952), (880, 0.015724179631094144), (929, 0.01572167514107628), (4668, 0.015719322722370227), (727, 0.015673779113224866), (3119, 0.015659080662596282), (4284, 0.015653122369539446), (106, 0.015646410588553206), (1593, 0.01562201801811502), (4617, 0.01562186489892392), (125, 0.015618815929334229), (4407, 0.01558853147147957), (2778, 0.015587198561865788), (2632, 0.015578274917682175), (3219, 0.01557450041117143), (2149, 0.015563571498606009), (2698, 0.015543319733218848), (537, 0.015529805433065067), (944, 0.01551914760882308), (7, 0.015509801711947532), (838, 0.015488827905355359), (3829, 0.015483826720362482), (1168, 0.015479619501351584), (329, 0.015475906047279752), (868, 0.015465529294161319), (1249, 0.015438128023752202), (1379, 0.015434427811277157), (1645, 0.015411800702215771), (947, 0.015407642451505214), (3911, 0.015403400347880222), (19, 0.015392107053114081), (3913, 0.015377878085704275), (3900, 0.015340529313603763), (949, 0.015333071786235174), (1546, 0.015319090891324334), (1033, 0.015291614247116146), (4642, 0.015269939161404249), (4536, 0.015241637033710089), (4614, 0.01523820378804105), (3365, 0.015225703355841806), (3122, 0.015218932469647195), (1963, 0.015194700307884317), (3081, 0.015170684495726705), (4337, 0.0151486170698054), (3474, 0.015135820977064646), (2622, 0.015107816208233552), (1164, 0.01510499061192857), (1216, 0.015104701055460874), (1503, 0.015102511735114305), (2598, 0.015093529882069738), (4589, 0.015088120086624746), (1869, 0.015081394319584725), (449, 0.015064928890953233), (330, 0.015059014439149115), (2142, 0.015034328124557343), (3697, 0.015030202435645333), (1177, 0.015028021729148248), (1690, 0.01500752707869333), (1089, 0.014999688031237666), (3072, 0.014982529488352674), (2443, 0.014952427433447622), (3076, 0.014948363459182417), (709, 0.014911191490964405), (3215, 0.014892376660532558), (726, 0.014889533883725572), (1062, 0.01488931344845904), (1921, 0.014886518378327107), (1576, 0.0148792691486184), (477, 0.014817972831102796), (2785, 0.014814712797355963), (3360, 0.014796110389340617), (657, 0.014791905153834824), (1423, 0.014783086971347167), (1052, 0.014769185983873171), (1519, 0.014752465157468031), (1600, 0.014721685126236984), (2857, 0.014710935855307318), (2645, 0.014699721802647813), (1724, 0.014689933780930592), (232, 0.014689225575626234), (2181, 0.014686986372933902), (1362, 0.014671569893265094), (3772, 0.014669664609926783), (738, 0.014669507016606959), (184, 0.01466802559159566), (1300, 0.014638283716768558), (3451, 0.014623198038445995), (32, 0.014607335635886842), (2669, 0.014606394423792345), (910, 0.014603577332907697), (4092, 0.014587996854603333), (2488, 0.01456462238238546), (1609, 0.014558974665084962), (3658, 0.01454711548449477), (2188, 0.014544473430062765), (576, 0.014531579544559532), (3278, 0.014506048537998239), (4067, 0.01450507160698738), (3385, 0.014502004546333644), (2683, 0.014493364151866115), (1892, 0.014486294684169124), (3560, 0.014483981269821953), (250, 0.014478897392862499), (3828, 0.0144455315573793), (3705, 0.01443585335346421), (1391, 0.014435554221420177), (747, 0.014425952118491745), (2134, 0.014418863270214499), (4154, 0.014415575318265764), (1695, 0.014413101979525753), (3747, 0.014409683671890838), (3281, 0.014373846231290935), (1603, 0.014317423066135357), (158, 0.0143101608813811), (2191, 0.014307235874603409), (231, 0.014306540191938902), (2231, 0.014298703480410372), (269, 0.014292973788958323), (4469, 0.014271202418203075), (4042, 0.014237639056556542), (2314, 0.014234041035826706), (2176, 0.01423037337458482), (715, 0.014224867818068688), (775, 0.014211646832993525), (4466, 0.014206465593871795), (4263, 0.01419802627743062), (3417, 0.014197691333776716), (793, 0.014168883606976879), (4446, 0.014140974559322377), (252, 0.014131143929072661), (4130, 0.014089537905673081), (4140, 0.014084678992133504), (4628, 0.014081827652389385), (4724, 0.014080114198625912), (3999, 0.014064231748517161), (808, 0.014064113504899334), (3749, 0.014055232466850134), (1961, 0.01405492959184132), (2234, 0.014012382122816136), (1344, 0.013998572842749617), (1045, 0.013989699129187077), (3840, 0.013985996583725931), (2720, 0.013967710432887913), (2211, 0.013957279818276122), (4545, 0.01394983470389091), (1952, 0.013933340887272282), (341, 0.013932116428355222), (3449, 0.013929717046470053), (2318, 0.013884636243159618), (1209, 0.013880834116197586), (2481, 0.0138715184954127), (3430, 0.013864892767486236), (4657, 0.013864063450587034), (1575, 0.013854228990596237), (1708, 0.01384533488076677), (2269, 0.013831739244316712), (2723, 0.013825070342747558), (2913, 0.013793033395192828), (2725, 0.013786244672028769), (1577, 0.01376223459310714), (1264, 0.013758796598354035), (3506, 0.01374510290144377), (2044, 0.01374412550256214), (748, 0.013730125044551234), (680, 0.013709120839315237), (301, 0.013687262653963961), (2418, 0.013664138396432744), (1833, 0.013660587544611177), (3796, 0.013660285561935888), (1172, 0.013659715335950583), (2792, 0.013657082431547295), (1859, 0.013643840765975624), (1685, 0.013638640797082126), (1501, 0.01362586404982725), (3766, 0.013621235375203676), (1269, 0.013621133352339469), (3675, 0.013615656381262397), (3264, 0.013611441244627676), (906, 0.013586135581557834), (1075, 0.01357952720973085), (783, 0.013579370180551182), (1835, 0.01357638870415358), (1271, 0.013575859304887557), (3769, 0.01352896564997106), (1604, 0.013526825296353101), (716, 0.013517743915498218), (4624, 0.013517466989421068), (4735, 0.013516154043687882), (2083, 0.013490389433292053), (570, 0.013490241218839672), (3488, 0.013489498871034098), (2640, 0.013487757102751734), (1053, 0.013434630433295736), (2039, 0.013419356014373702), (4275, 0.013415994234202757), (4333, 0.013410272435994752), (3644, 0.013404364119798017), (1489, 0.013391387684370714), (4025, 0.013373473507085886), (4477, 0.013344299489983792), (4115, 0.013326663078537433), (3623, 0.013297922234498384), (3019, 0.013296775275306136), (4377, 0.01327890561726061), (2000, 0.013273899592000335), (4203, 0.01323990485054175), (860, 0.01323411250858136), (4168, 0.013233436106204938), (1294, 0.013233287421532302), (1761, 0.013222831261419994), (688, 0.01320196662435684), (527, 0.013186891791781872), (1275, 0.013179444639263618), (1493, 0.01315321574472003), (2625, 0.013122971622865544), (811, 0.01311813381631486), (274, 0.013114895768640531), (2167, 0.013110041691077491), (3501, 0.013103373109827204), (2045, 0.013100625623699465), (1998, 0.013095361714487158), (353, 0.013092210828319026), (4244, 0.013085402949402152), (3002, 0.013076083155128076), (2410, 0.013073968409552546), (2647, 0.013056144605276012), (30, 0.01303865036742716), (876, 0.01303735937847454), (3335, 0.01302454261148832), (3497, 0.01302123518566467), (1510, 0.013013708777555002), (1574, 0.013008504855760628), (3813, 0.013003335156589293), (2107, 0.012995506430043543), (2346, 0.012986844260094223), (3436, 0.01297365758540572), (2517, 0.012969461126760265), (1211, 0.012927611675155182), (3341, 0.012926875637999245), (812, 0.012900075929110851), (4330, 0.012897965770259607), (1148, 0.012896326148456946), (281, 0.012894408282378807), (3269, 0.012891393538298808), (3373, 0.012855830907504157), (2494, 0.012848842980853478), (3432, 0.012844450896359244), (1612, 0.01283652253512479), (65, 0.012831305770948924), (3216, 0.012827897671620285), (1295, 0.01281239738032812), (2903, 0.012809127942919583), (3012, 0.012805918400431566), (4548, 0.012789133613455617), (3727, 0.01278109006950437), (348, 0.012760778772247279), (1852, 0.012759775665824712), (1537, 0.012759354850719221), (4264, 0.012750917982642036), (4293, 0.012745689736711724), (227, 0.012736517907087635), (1622, 0.012719277713866486), (1666, 0.012712122423822554), (1778, 0.01270770687472759), (2941, 0.012692687725920282), (927, 0.012692020493580165), (1430, 0.012685938233311593), (84, 0.01266907732006838), (2069, 0.012665405145353872), (888, 0.01265915190422938), (3773, 0.012655241453214778), (391, 0.012649535045617305), (456, 0.01262653643831693), (2574, 0.012613051074735513), (4615, 0.012604421829518304), (4619, 0.012602417028913647), (3220, 0.01259860926831852), (254, 0.012589516110411078), (3069, 0.012588489265135266), (1918, 0.01258831994500765), (273, 0.012556349696670067), (1408, 0.01255470711687386), (2666, 0.012541732767017357), (2739, 0.01253476651059832), (450, 0.012533356403913985), (2464, 0.012527014066397765), (3765, 0.012521886158350608), (3472, 0.01251283998605201), (3242, 0.012512232455421799), (2828, 0.012507142117042177), (4048, 0.012504231132297176), (1402, 0.012496926355977595), (2229, 0.012482463848202285), (845, 0.012476629144104634), (167, 0.012453248527159169), (342, 0.012442802789526862), (1996, 0.012432711011510658), (3696, 0.01243156495363278), (2369, 0.012425321728071651), (481, 0.012421638092720011), (2531, 0.0124202858095086), (2214, 0.012419009758201217), (2716, 0.01241665833104006), (923, 0.012414105563328446), (130, 0.012385759983290383), (1020, 0.012367268853915982), (987, 0.01236110765210375), (2308, 0.012360439878898566), (1015, 0.012346990756475123), (2865, 0.012341255694081682), (11, 0.012341154643985934), (1707, 0.01233400459881418), (731, 0.012330965901028342), (2141, 0.012321205408770887), (2736, 0.012320504483696638), (3498, 0.012316604622483199), (883, 0.012313924526797167), (4287, 0.012312370398453468), (210, 0.012310173793642654), (1877, 0.012300919835470958), (1134, 0.012297823389943093), (1001, 0.012285901189698177), (3151, 0.012279379212675306), (2162, 0.01226596697031056), (2660, 0.012263138232063996), (1768, 0.012252971360103145), (1123, 0.012251272364495022), (743, 0.01224642762743227), (4428, 0.01224045914509146), (327, 0.012238674337599937), (865, 0.012236978415869518), (962, 0.012223242867102092), (3853, 0.012217615623903132), (3289, 0.012213479398802025), (1141, 0.012206498386441288), (1756, 0.012201773907277757), (4292, 0.012191080593725945), (4231, 0.01218435096489421), (818, 0.012178000709750334), (1025, 0.012157829060411544), (792, 0.012150021777681298), (4197, 0.01214933996182119), (1339, 0.0121407817482773), (2166, 0.012140310330695906), (661, 0.012138170867144636), (3297, 0.01213682929114328), (2730, 0.01213524617256812), (1122, 0.012133192899067162), (3792, 0.012119616546641638), (206, 0.012116385704724364), (1687, 0.012110499362136205), (1855, 0.012102598328256286), (2798, 0.012101957473664599), (154, 0.01210004698014893), (1234, 0.012095247826354062), (1853, 0.012090156919073659), (4328, 0.01208769272473088), (2849, 0.01207536511855572), (1476, 0.012074134909207111), (3777, 0.012068234116123372), (4123, 0.012060284121106133), (1472, 0.012056159949114126), (4137, 0.012026994111908452), (4474, 0.012026569852390808), (2396, 0.012025918594422766), (3550, 0.012019192611589732), (51, 0.012017408314731762), (3984, 0.012012334237763761), (4178, 0.011993447179379418), (1623, 0.01198175375450304), (1191, 0.011964605048482886), (3564, 0.011963841258610637), (1223, 0.011963699227181067), (502, 0.011957685608793426), (3437, 0.011957452716299156), (1736, 0.011957350452552177), (296, 0.011956631512472345), (1650, 0.01195337815424944), (4664, 0.01194260653843054), (3079, 0.011924852901717563), (3382, 0.011918576957047487), (751, 0.011918388786640042), (879, 0.01191651342666969), (1513, 0.011898451121836986), (543, 0.01189628719846118), (66, 0.011894356917187248), (2546, 0.011890607026899484), (3656, 0.011880090289876867), (2984, 0.01187942033488174), (1727, 0.011875877394611281), (689, 0.011852238554619511), (3767, 0.011841496804780633), (3509, 0.01183679105029117), (1941, 0.011821271353448546), (584, 0.011818716483245893), (2281, 0.01181226798262116), (1672, 0.011800735950378394), (863, 0.011783242248038226), (120, 0.011779940332650514), (1411, 0.011776593065652803), (2177, 0.011729049503853468), (3129, 0.01172158236404096), (2009, 0.01169789390972852), (2784, 0.011674714421726858), (214, 0.011667752765135013), (3699, 0.01166649877954237), (473, 0.011662391070368247), (1337, 0.011656340025636914), (2338, 0.011646587431843011), (955, 0.011645406026166465), (1817, 0.011611969591149273), (4068, 0.011604037279284024), (2285, 0.011599394250745442), (936, 0.011598719410057065), (544, 0.011591061272589345), (1046, 0.011587966585816154), (4143, 0.011587427213161847), (800, 0.01158665164743286), (3949, 0.011557971044678138), (3348, 0.011533374898623395), (1922, 0.011530342890543813), (1910, 0.01152572053309397), (3210, 0.011521361670007429), (4472, 0.011520179304601572), (3256, 0.011513316781705633), (2612, 0.011509883628491991), (2934, 0.011505335761917625), (3155, 0.011500251647094572), (1463, 0.011490458814882573), (1421, 0.011488977027487818), (2284, 0.011483745022067013), (1977, 0.011477324803117958), (4435, 0.011476608689307385), (3440, 0.011475563159170313), (4144, 0.011471387244166232), (1392, 0.011461181629857367), (172, 0.011458335292723776), (703, 0.011450575921748658), (2131, 0.011448524337857768), (2587, 0.011439633003131885), (4608, 0.011439330631798063), (4709, 0.011428712391645153), (3246, 0.011424979585735517), (1758, 0.011421034414037851), (3667, 0.011415850364388346), (986, 0.011413398378897318), (479, 0.011408630094797447), (370, 0.011403615471776866), (2212, 0.011397355928812507), (2143, 0.011394345210274678), (280, 0.011392252895875981), (2906, 0.011391564951525254), (1608, 0.011378472063090977), (854, 0.011373604761341378), (3619, 0.011352321429786762), (187, 0.011349620312444582), (222, 0.011345950151630374), (984, 0.011336094472786934), (1483, 0.01133352358783026), (4000, 0.01132954051325987), (2174, 0.011321782434477757), (2965, 0.01132085418373967), (3553, 0.011320361276430557), (2892, 0.011312691124275793), (1438, 0.011311787993899095), (767, 0.011305082724436194), (3888, 0.011301595538436453), (534, 0.011281206342254265), (1621, 0.011260175249502177), (282, 0.01125257360933252), (57, 0.0112518909462422), (578, 0.011247775903762289), (2961, 0.0112430044631724), (376, 0.011239880906430239), (425, 0.011204661509162), (3300, 0.01119953568226461), (4011, 0.011192436057443661), (2686, 0.01118121747226841), (1011, 0.011154267789641611), (2029, 0.011151350752226499), (2518, 0.011149887272227797), (4059, 0.011144945025242008), (4387, 0.011137412208962347), (799, 0.011134822706687406), (1560, 0.011129889824670518), (1828, 0.011122966408706837), (1450, 0.01110875183543843), (659, 0.011101147592216812), (1967, 0.011096258227651808), (2182, 0.011095535363876594), (4356, 0.011083476726157792), (4442, 0.011078984701300294), (2799, 0.011054478469636139), (2743, 0.011052077190683785), (4199, 0.011045481059872134), (2080, 0.011035817738854078), (2115, 0.011035374650399226), (1976, 0.011033347012160926), (2317, 0.011026992642247985), (2868, 0.01102599005534131), (2152, 0.011003168762236759), (3180, 0.010988259359638193), (3817, 0.010986974626960412), (638, 0.010983996215987824), (1357, 0.010982633993933049), (2218, 0.01098027528955415), (4119, 0.010977469324772261), (2733, 0.010971417643637075), (4174, 0.01096918867325368), (4549, 0.010956614342178926), (2851, 0.0109544387346589), (18, 0.01095253029700208), (2758, 0.010948026681448904), (2024, 0.010937764989501827), (1308, 0.010933931814806992), (1725, 0.010919016414931286), (4565, 0.010917470596461691), (1854, 0.010905454106055408), (2165, 0.010894347112966548), (4725, 0.010868885998055989), (595, 0.010862361389816815), (2728, 0.010847722975784698), (1160, 0.010841479606498419), (2626, 0.010839763736977178), (2224, 0.010838531234690751), (2127, 0.010821727951760621), (3802, 0.010814847082351428), (2101, 0.010808263418016509), (4124, 0.01080786460291192), (828, 0.010789873917331359), (2789, 0.010755301162292735), (2323, 0.010754727754541563), (3515, 0.010738207886555426), (513, 0.010736608570897213), (2979, 0.010730492356915401), (2781, 0.010729981202225564), (981, 0.010729144372007025), (3974, 0.010726542724967309), (2457, 0.010720378206881816), (287, 0.01071758463625759), (3941, 0.01070370978749462), (1679, 0.010701522444444835), (3167, 0.010672840011976588), (3940, 0.010668024582377388), (1150, 0.010652939922178336), (2580, 0.010642829526181476), (1661, 0.010635897257282085), (2163, 0.01063389927000627), (1318, 0.010628605068310697), (866, 0.010618485951053282), (2600, 0.010607896499995452), (1520, 0.010602499388300426), (113, 0.01060045598607868), (2263, 0.010600360298205144), (1731, 0.010589016750372248), (948, 0.010586807807811353), (2462, 0.01058249404641886), (438, 0.010577925977207496), (1009, 0.010572419162889195), (3854, 0.010562573875557712), (1954, 0.010556934234351193), (1732, 0.010556177485996859), (2729, 0.010537104809125604), (558, 0.010532539330442472), (712, 0.010529124110374571), (1667, 0.010526707959544223), (3313, 0.010524349816494222), (2086, 0.010519285968267957), (3610, 0.010515796771652208), (669, 0.010509633883020437), (2581, 0.010506917012087454), (392, 0.010491461348171735), (361, 0.010484329656560439), (43, 0.010484083392140775), (913, 0.010476577357842562), (4247, 0.010474663523169163), (2939, 0.010472053183179111), (3048, 0.010462380834430445), (2240, 0.01045829203271549), (4122, 0.01044223937410963), (317, 0.010435329950559883), (415, 0.010432142288394515), (3631, 0.01042037076108473), (199, 0.010414861614527728), (2363, 0.010390661431935212), (344, 0.010387823694104634), (4473, 0.010379454634367392), (3655, 0.010371568693607294), (1299, 0.01036806556199124), (3267, 0.010364139498553875), (1689, 0.010362407560358498), (320, 0.010354331964482825), (2055, 0.010352162081893107), (194, 0.010342582980270663), (2002, 0.01033735834536621), (3415, 0.010336685050683378), (1764, 0.0103303196557766), (242, 0.010318307114356969), (1775, 0.010305896626376591), (1058, 0.010305731964382399), (515, 0.010295752328011384), (1000, 0.010273504896578266), (4475, 0.010271321961723678), (679, 0.010261163977971503), (2077, 0.010254166090601416), (2194, 0.010243676611752378), (2607, 0.010238162155647611), (3801, 0.010233423774932604), (2794, 0.010225145845575455), (2222, 0.010201749160827264), (2456, 0.0101939382145391), (2952, 0.010189747722469321), (3579, 0.01017262578623529), (2079, 0.01016396446647486), (2092, 0.010146075412640121), (685, 0.010145963123639617), (245, 0.010130970540479702), (1525, 0.010126637432584396), (4376, 0.010126126588153), (2933, 0.010120829977445917), (2727, 0.010112971823138443), (368, 0.010092558654131176), (2017, 0.010079715692082039), (1845, 0.01007807477779615), (1266, 0.010076434508243066), (1085, 0.01006889939961705), (1250, 0.010066660563590287), (1312, 0.010057238323005913), (2767, 0.01005703127113273), (1495, 0.010048410051754875), (2278, 0.01001995257820967), (1302, 0.010017388939585372), (2549, 0.01000340811561435), (1343, 0.009995234796084452), (1751, 0.009992824236961509), (3637, 0.00998884673930705), (2921, 0.009962657481851395), (461, 0.009956988340267914), (1741, 0.009956659042238785), (3535, 0.009956284235773341), (2414, 0.009955902204635075), (1042, 0.00995339104302672), (2985, 0.009940611682823182), (653, 0.009937852384034785), (2692, 0.009918568722061226), (2412, 0.009917869232880053), (4515, 0.009907602676937828), (904, 0.009897587061677565), (305, 0.009867161672679994), (3384, 0.009857380861011239), (1571, 0.009853035891011946), (4675, 0.009839613067817747), (3377, 0.009838904279566421), (2493, 0.009826509761714439), (2014, 0.009823382608517426), (610, 0.009819995401772339), (2034, 0.009818592947257303), (2019, 0.009809003146225495), (2158, 0.009803432272231447), (4278, 0.009792531361707279), (3340, 0.009790584332073608), (3312, 0.009765818126632674), (956, 0.009754954348401308), (2847, 0.009751459826229828), (4097, 0.00975033348382012), (802, 0.009742168683832339), (1591, 0.009737813280085706), (1950, 0.00973449588628194), (905, 0.009726348542347682), (4240, 0.009719651635285664), (2128, 0.009712392182719163), (3793, 0.009709709785504346), (3708, 0.009708011688747745), (4095, 0.00969346135335902), (2973, 0.009687089341961864), (4029, 0.009679141838511547), (4224, 0.009659285420242624), (2504, 0.00964320121154211), (4086, 0.009634650209128777), (3836, 0.009632489176480548), (1507, 0.009628532819231357), (2824, 0.009622382706181282), (4610, 0.009586211204540382), (4335, 0.009577063064461275), (773, 0.009554548735573497), (405, 0.009545053268326279), (3774, 0.00953410918197056), (1368, 0.009529476234550976), (510, 0.009526200063530523), (4173, 0.009526135176791786), (3141, 0.009515570542943901), (1078, 0.009512142865020251), (585, 0.009501316652815757), (207, 0.00949706884415378), (2817, 0.009493942044308151), (3109, 0.00948248524769839), (2602, 0.009477496462038087), (772, 0.009475159799585086), (427, 0.009473604046236941), (1545, 0.00947116128687449), (1912, 0.009456098966355292), (609, 0.009455842526920314), (2147, 0.00945055517894364), (3595, 0.0094497480584509), (384, 0.009448147662310289), (1810, 0.009442697868168353), (4105, 0.009437892025752903), (149, 0.00943222738287225), (4512, 0.009421088122138635), (4707, 0.009417349190078585), (2330, 0.00941372796896974), (2304, 0.0093944554716477), (4441, 0.009382243543841744), (891, 0.009378752507568021), (1631, 0.009370609134220779), (2790, 0.009361381494325145), (649, 0.009360498619642917), (3208, 0.009359517474718387), (3317, 0.009355327722203897), (3189, 0.009354398344431763), (656, 0.009353968215857062), (2697, 0.009350826086993764), (4598, 0.00934970817949812), (2383, 0.009348899352731825), (1369, 0.009348663601613415), (3756, 0.009343071579480278), (1371, 0.009339935649444091), (185, 0.009337476153349653), (3021, 0.009321451641715318), (797, 0.009292146409791743), (3652, 0.009290466276274162), (4227, 0.009281871794644658), (1534, 0.00926616651058554), (3790, 0.009254104472311954), (517, 0.009252631288701225), (1932, 0.009245286353234223), (2511, 0.009228801693280116), (70, 0.009196391959360752), (2038, 0.009194298864817206), (3543, 0.009181342768090114), (46, 0.00917990905674981), (1806, 0.009179371687766825), (1989, 0.009174093770036943), (2925, 0.009170773061929167), (678, 0.009166224773366908), (3659, 0.009163851097039908), (2183, 0.009158873036008496), (4388, 0.009156092283528136), (3899, 0.009155721268850418), (316, 0.009153722977924375), (1562, 0.009148373768390767), (2978, 0.009142509754568652), (4329, 0.00914208308042469), (809, 0.009140692989606725), (35, 0.009113537469003426), (1435, 0.009102703812751148), (409, 0.009093147694967853), (1984, 0.009077805354790207), (4118, 0.009067088727264817), (4656, 0.00906666117771978), (4436, 0.009066571306368919), (528, 0.009065823031867953), (1587, 0.009063077305581783), (3812, 0.0090622644327735), (2252, 0.00905925152358214), (4322, 0.009043233673601717), (3768, 0.009034936756434055), (4727, 0.00903249923695953), (131, 0.009020565772968775), (37, 0.009016326272762543), (4094, 0.009010967530177862), (1930, 0.009000617170210086), (1282, 0.008988911799390814), (180, 0.008984903522911626), (2449, 0.008961235785721703), (10, 0.008960304041829176), (2636, 0.008947299939938591), (3983, 0.008928265510010268), (4510, 0.008924345639674825), (665, 0.008923448419290918), (3926, 0.008917880627622027), (1417, 0.008916046048220903), (1310, 0.00891426535517581), (4310, 0.008912594032757317), (785, 0.008908849749172571), (893, 0.008906114860054173), (4233, 0.008905490722261964), (4070, 0.008905212619429873), (3905, 0.008893919821698253), (418, 0.008893682958523481), (4128, 0.00887106063202979), (946, 0.008860186997227805), (259, 0.008852593324220068), (1104, 0.008849905014045029), (3334, 0.008846476356157736), (4708, 0.008835567519525807), (474, 0.008834794461002302), (1393, 0.008828574805631699), (1870, 0.00882763211339978), (3865, 0.008808182477561688), (4542, 0.008802769308324826), (1867, 0.00879309928639281), (1351, 0.008788899714803655), (1994, 0.008787924913485899), (3945, 0.008776546766682353), (1459, 0.00876398663911205), (1432, 0.00875829279194578), (224, 0.00873904962259477), (4390, 0.008737294056461472), (3685, 0.008734750013466096), (1005, 0.008730465452449581), (1130, 0.008724548379251202), (1589, 0.008721609637130638), (3507, 0.00871620691587838), (1283, 0.008685751713952004), (2239, 0.00868499472579563), (1847, 0.008681070646003887), (1846, 0.00867344990738753), (2322, 0.008672978435768496), (2519, 0.008672903508939286), (1735, 0.008670977110324926), (662, 0.008632605718800783), (49, 0.00863014211652213), (869, 0.00862076535644484), (3645, 0.008609346964410515), (556, 0.00860665931287314), (1585, 0.008604029804368724), (4093, 0.008600836475310483), (2245, 0.008599672810518549), (2444, 0.00857656358793189), (4252, 0.00856641684772539), (2100, 0.008561532206862834), (2788, 0.008559956491422332), (1561, 0.008558015681675954), (1118, 0.008554804972306497), (4438, 0.00853603761604795), (2294, 0.008532523541413787), (3985, 0.008511468938947204), (1207, 0.008505986286629033), (4581, 0.008486403237629307), (713, 0.008476693299896303), (1945, 0.008471913417281077), (1471, 0.008470195195803021), (2994, 0.008462598634172529), (45, 0.008450142145668789), (494, 0.008446684129028105), (4184, 0.00844239878702114), (1818, 0.008437240520983592), (1074, 0.008433914026786008), (2271, 0.008426126047691943), (1120, 0.008420585394781016), (1256, 0.008406610613877461), (2026, 0.00840140355361932), (1455, 0.008397870398243431), (1178, 0.008390259238881025), (684, 0.008381391367859767), (1783, 0.008377502734899286), (3133, 0.00836879149678838), (4569, 0.008357962487422056), (3570, 0.008355482422522502), (1919, 0.008329684151564687), (2280, 0.008329054964729653), (1504, 0.00832755895164131), (1226, 0.008323434440252565), (3121, 0.008315036926184743), (2825, 0.008306183302034411), (1535, 0.008305171934259229), (2327, 0.008301196778117576), (1899, 0.008300313242218419), (824, 0.008299029401112143), (2120, 0.008296641379977127), (3732, 0.008295112449915449), (1180, 0.00829325940096126), (1457, 0.008291680061072327), (1673, 0.008288854983427194), (613, 0.00828764269267409), (690, 0.008283942185030872), (1353, 0.008278536724735061), (530, 0.008276735943073632), (1480, 0.008275691174825852), (3508, 0.008274578480517212), (710, 0.00827143899153487), (1292, 0.008268292346667537), (1610, 0.008243436483621294), (9, 0.00823940668789712), (3321, 0.008238075061160907), (978, 0.00823537030882989), (539, 0.008227737741032292), (2584, 0.008209627729887111), (306, 0.008203366548804622), (500, 0.00819838352977646), (2445, 0.00819480558902259), (1979, 0.008192394585478189), (2274, 0.008192360400284215), (503, 0.008179097194984762), (920, 0.00817362571029538), (4274, 0.008164088755356125), (1270, 0.008162463566157971), (3244, 0.008156172099978544), (72, 0.008154421647465486), (2057, 0.00815408087828923), (2203, 0.00814713794523361), (3127, 0.008144432339935146), (2007, 0.008126914637564757), (108, 0.008126499041420363), (338, 0.008123175201241997), (4543, 0.008098689328047588), (319, 0.008092690835818586), (1125, 0.00807973766968614), (583, 0.00807157779020374), (1544, 0.008071289594031812), (1230, 0.008070387526239337), (1231, 0.008057067315909487), (367, 0.00805475288524058), (1657, 0.00804131581668451), (4481, 0.00803347661066971), (3085, 0.008032356034258819), (2897, 0.00803114383645255), (2028, 0.008022290456695442), (898, 0.008020694523528273), (4437, 0.008008884998262729), (2005, 0.008005993015470888), (440, 0.008001724236387299), (2962, 0.008001165510967008), (740, 0.007994814671701697), (3465, 0.007986337169662286), (1738, 0.007982019418184001), (2751, 0.007973361851474193), (789, 0.007970637858966173), (3794, 0.007963788679592106), (422, 0.007944265398826655), (1054, 0.007939468101524625), (1978, 0.007935595307199264), (3082, 0.007918870283758313), (1973, 0.007909611615796338), (2184, 0.007898273285243066), (2074, 0.007860201223748697), (3830, 0.007844158257098503), (3280, 0.007828055054786835), (277, 0.007826399657104702), (545, 0.007821469933182917), (202, 0.007820003632119526), (417, 0.007810023687499931), (2742, 0.007806524879820742), (4325, 0.007798784169899434), (916, 0.007790909767106028), (520, 0.0077794951302937185), (2324, 0.007777592244806036), (745, 0.007773939344475343), (4468, 0.007773872452739486), (1467, 0.007769961771820787), (1789, 0.007764141934713939), (4035, 0.007747103255057904), (122, 0.007745364656738748), (3525, 0.007740552476150004), (4353, 0.007732112597681437), (2539, 0.007729142756812539), (4114, 0.007727299639570285), (892, 0.007713346586595548), (2791, 0.007711096856479793), (1492, 0.007705067744319814), (2842, 0.007697909043357508), (1259, 0.0076850058712995125), (291, 0.007664039417846824), (3842, 0.007652878304245506), (1236, 0.007646563836370174), (421, 0.007638558080204704), (148, 0.007630038372919336), (3860, 0.007623377153782296), (2424, 0.007621113844263467), (1745, 0.007620766041456678), (1309, 0.00762014372163424), (2352, 0.007609235811086218), (1173, 0.0076090164817781535), (394, 0.0076090133826483735), (632, 0.007599137673918708), (3693, 0.007596684815690853), (3574, 0.007585590332973521), (972, 0.00756523204019301), (288, 0.007561263515547693), (1639, 0.007537445833249034), (664, 0.007536931893299862), (2833, 0.007494636989417432), (4414, 0.007485364204760731), (497, 0.007482267520905774), (75, 0.00747822741566917), (2871, 0.007476192248169638), (58, 0.007465536469967707), (314, 0.007463621918771636), (47, 0.007463085307893198), (786, 0.007457223079925198), (64, 0.007457099670528508), (4450, 0.007453384493427887), (332, 0.0073953793454316205), (469, 0.0073580338931675746), (4553, 0.007352025966484995), (3205, 0.0073467177674804585), (2025, 0.007344684482246327), (2971, 0.007315958438099088), (4096, 0.0072842961648709), (692, 0.007267067084565822), (76, 0.007264834982157475), (506, 0.00721527084019804), (3731, 0.0071704507251534955), (1646, 0.007163887890554652), (1781, 0.007154140852501028), (3674, 0.007097482892423286), (2013, 0.007093885498815306), (294, 0.007089221565186408), (2734, 0.007076594651705033), (3713, 0.007010220360609094), (1092, 0.007008168412431698), (926, 0.006944377039136793), (3045, 0.00694346410839884), (3391, 0.006719569948886893), (668, 0.006651961079903195), (3144, 0.006629404015323163), (1320, 0.006600362586529946), (2614, 0.006545371738281527), (2671, 0.006539523415921798), (844, 0.0064973666724521045), (369, 0.006434918248668689), (1276, 0.006271422994568552), (4261, 0.00623813353555361), (2440, 0.006121894034816935), (4719, 0.0058375071847780536), (1019, 0.005720236328576262), (3137, 0.005594857882136199), (3932, 0.005559867884806003), (3226, 0.005544194918011849), (2118, 0.005537433373191627), (4151, 0.005178517186690809), (3534, 0.0049775311327859275), (2678, 0.004908673399270625), (3552, 0.004902010638102831), (611, 0.004842473958137925), (2299, 0.0048197592756398155), (4571, 0.004789362299453204), (3178, 0.004765342019833402), (3512, 0.004621752398476034), (3276, 0.00454979897102082), (4555, 0.004542580196921162), (2998, 0.004524844359237293), (3925, 0.004486303201496093), (4607, 0.004376709570196301), (2379, 0.004349812003214425), (2490, 0.004344163771041246), (2937, 0.004328022122451344), (3523, 0.004320682303090928), (4705, 0.004309281366379496), (3051, 0.004299322368026829), (2764, 0.004294060412251424), (3672, 0.004282871709687664), (2858, 0.00427209770315489), (2137, 0.0042718592258955985), (3139, 0.004267298813605739), (4082, 0.0042578462484782744), (2722, 0.004231181979186812), (2189, 0.004230900369973398), (4202, 0.004214474527786553), (3040, 0.004209148373550875), (2989, 0.004199788702030096), (2251, 0.0041936295431547555), (3166, 0.00418081663453346), (2349, 0.004173193855554769), (2407, 0.004166320294208051), (3990, 0.004160229098374081), (2537, 0.0041346608397882), (4704, 0.004117534284718411), (735, 0.0041156626737180605), (3055, 0.004101326922707089), (2775, 0.004091731530847768), (4017, 0.0040900764921809486), (2870, 0.004085883001126248), (3042, 0.004083820898925989), (3030, 0.00408310382573828), (2883, 0.0040787069906546135), (3635, 0.004074992983033079), (2923, 0.0040610043831332725), (2731, 0.004045759562835978), (4749, 0.004044935486973531), (4222, 0.004042246309756306), (2484, 0.004029963929931152), (4221, 0.004029755608544893), (3479, 0.0040251622094742345), (4611, 0.0040174453053193155), (2694, 0.00401485475650218), (3939, 0.004014342128092012), (2673, 0.004009479349919922), (2861, 0.003995032790701914), (2655, 0.003994263805211446), (4172, 0.00398459613263073), (2559, 0.003962145918353322), (2832, 0.003955463149335943), (4696, 0.003948626653867476), (4444, 0.003948213264621577), (2628, 0.00394561911450191), (2448, 0.003936237315176301), (2392, 0.0039353597762149355), (3292, 0.003934569349249965), (3762, 0.003926655080567221), (2199, 0.003923420884485542), (3892, 0.0039181332602517835), (4019, 0.003907161444249209), (2425, 0.003906292242347847), (2643, 0.003898056326082497), (4546, 0.0038959473035957894), (2257, 0.0038805106421504133), (3322, 0.0038790943454964553), (889, 0.003878957623540545), (2901, 0.0038697419259792836), (4230, 0.0038618961563331206), (4142, 0.003853448147954719), (2838, 0.003851861446704102), (2286, 0.0038518051184140718), (1208, 0.0038426164415144193), (4400, 0.003842210524909562), (2530, 0.0038308073545948356), (4102, 0.003826898343239868), (3848, 0.0038238669937110128), (3015, 0.0038193548222896076), (4606, 0.0038157541712953162), (2306, 0.0038133305246331357), (3239, 0.0037999930541434256), (3128, 0.003799364650465118), (2423, 0.003798423648973843), (3354, 0.0037947016000146596), (3140, 0.00379314587073194), (526, 0.0037900926666124394), (1711, 0.003779661681822539), (3249, 0.0037696852841531026), (3687, 0.003764553780335224), (4692, 0.0037623296568443905), (4521, 0.003762068599896007), (4544, 0.003759951884861428), (3363, 0.0037589756869842138), (3616, 0.003748067255151399), (2834, 0.0037392981381984118), (3537, 0.0037384447569757655), (2557, 0.003738084337123434), (2438, 0.003733320992590837), (3159, 0.003730314845389939), (4306, 0.003726310339741183), (3577, 0.0037248422311858278), (4107, 0.00372169057329919), (3922, 0.0037207409768680697), (3613, 0.003717606010180552), (4660, 0.003716666164055058), (3521, 0.0037131421240136704), (3004, 0.0037123605413108512), (4572, 0.0036990978614071498), (3074, 0.0036978884134771686), (4209, 0.003693334602215811), (4443, 0.0036922531484979), (2797, 0.0036891398813343407), (3874, 0.003685667281978834), (4723, 0.003685156060606068), (3031, 0.0036817978279295796), (3832, 0.0036795000784288195), (402, 0.003674284535947821), (3302, 0.0036723174070216105), (3620, 0.0036701620335212338), (3544, 0.0036688466739592364), (2966, 0.0036640071313084922), (3358, 0.0036591464401763596), (3020, 0.0036590027312219304), (3228, 0.0036577472138305442), (2415, 0.0036573139967169092), (4062, 0.003650612870953935), (3779, 0.0036395417656470913), (2454, 0.0036395292439659437), (2993, 0.0036353973902520666), (3257, 0.0036317561895988083), (2619, 0.003629643981343463), (777, 0.0036225271698895898), (2895, 0.0036077051210770127), (2434, 0.003603217058788335), (4458, 0.0035946986474176186), (1049, 0.0035739473175584674), (2772, 0.003570346442848053), (3308, 0.003568262664998724), (2986, 0.003565128095778086), (4717, 0.0035589161567282173), (2769, 0.0035575430831343855), (2738, 0.0035568728152614894), (431, 0.003554519495556461), (4632, 0.003553371935318019), (3763, 0.0035521202223313597), (2613, 0.003550779226491156), (4594, 0.00355012746574154), (4416, 0.0035478081496776916), (2378, 0.003547058129400398), (3621, 0.0035466334641178834), (3745, 0.0035455299116908365), (1792, 0.003542009502962443), (4694, 0.003541397939619521), (1187, 0.003541197145667734), (4145, 0.00354050485122292), (2707, 0.0035374403239490575), (518, 0.0035334362778212214), (1885, 0.0035315363505920684), (4412, 0.0035306842944300646), (2417, 0.0035289819854594094), (1748, 0.0035288090876573574), (4030, 0.003527814620012343), (1169, 0.0035275039978645796), (2846, 0.0035267269772970254), (3094, 0.0035266633615845984), (4032, 0.0035169480410600046), (4075, 0.0035168822920332676), (3951, 0.0035168526592264347), (3359, 0.0035076381887168676), (4126, 0.0035072491850493444), (3884, 0.003506769322844343), (2320, 0.0035038781677557917), (2696, 0.003503692355139996), (3307, 0.00350109387367247), (2427, 0.0035010063076601635), (4002, 0.003500307540013853), (1947, 0.0034988868679613205), (2924, 0.003495494641448202), (3754, 0.003495403604613366), (4163, 0.0034944153010082126), (3425, 0.0034923408567981307), (1398, 0.003489092371180897), (4713, 0.003489085197605894), (3408, 0.0034854979897849967), (4398, 0.0034827806923663804), (2987, 0.0034795800827025812), (448, 0.003478934336289233), (3419, 0.0034782862002726875), (3337, 0.0034777242208992886), (3396, 0.0034765278953138423), (3866, 0.0034742475852442413), (2403, 0.003473837726739096), (4650, 0.0034734833464245755), (2872, 0.003469434237621183), (4369, 0.003467578291022282), (3355, 0.003467541134484487), (925, 0.0034656291896763137), (4507, 0.003461951481297422), (3165, 0.0034618438914576872), (4267, 0.0034609214722697737), (2478, 0.0034600172554407854), (614, 0.0034581594637875706), (3952, 0.0034564419905938892), (847, 0.0034562860979981957), (4516, 0.003456188272726311), (1656, 0.003455556931295657), (721, 0.0034534384385578316), (3903, 0.0034523223339143557), (3639, 0.003449467917638441), (2796, 0.0034492749541893105), (3423, 0.0034487262930437074), (985, 0.0034478268306583296), (2702, 0.00344482228590178), (4117, 0.0034405802105009855), (1497, 0.0034398196934193165), (3661, 0.003437487699474455), (4243, 0.003431236952623249), (3296, 0.0034280579292653574), (3867, 0.0034239521811213576), (2302, 0.0034234080957685886), (2437, 0.0034210701554090403), (1909, 0.0034210331338198185), (2893, 0.003417973182731877), (3960, 0.003416973336788118), (998, 0.0034168011447194683), (1887, 0.0034156121328975343), (999, 0.003414004731120408), (2411, 0.0034128986799307616), (4731, 0.0034125169940604095), (2623, 0.0034121052653969877), (2936, 0.0034119057452185533), (478, 0.003411111552926706), (2914, 0.0034086673414214256), (3680, 0.003408279074044857), (235, 0.0034019544899101238), (3013, 0.0034000682504260866), (1349, 0.0033960413583334634), (3274, 0.0033959786048359695), (3587, 0.003395214684695138), (419, 0.0033945909754980316), (2740, 0.003393603175601243), (4368, 0.0033921385827924157), (3962, 0.003385063993125865), (3822, 0.0033842253720771853), (2974, 0.0033839441691278743), (922, 0.00338154723767833), (4718, 0.003380331342979397), (4160, 0.003379296601363374), (2579, 0.00337842435782025), (596, 0.0033770735711724726), (2916, 0.003376048363330908), (1862, 0.0033755904670852207), (1594, 0.0033745785952379553), (1499, 0.0033739816740053254), (3414, 0.0033738865695528935), (3032, 0.0033736806587955854), (4535, 0.0033735125163049046), (4396, 0.0033721203613589676), (308, 0.0033703850964223667), (2356, 0.003369349371892439), (2436, 0.003368681018261391), (3737, 0.0033655364118488126), (3593, 0.00336456416284716), (4051, 0.003362597886161353), (3804, 0.0033621824848464694), (2840, 0.0033615985228780607), (3248, 0.003361419463985848), (2209, 0.003355499747470687), (3157, 0.0033547751202536447), (2830, 0.0033544312417023974), (4397, 0.0033543947933084056), (41, 0.003353773253775069), (4706, 0.003348555804701703), (3003, 0.003348202857673839), (4605, 0.0033479313127566385), (4259, 0.003347891937909399), (3857, 0.0033476686233799976), (2505, 0.003347288321806426), (2108, 0.0033453437381502148), (1890, 0.003344398902496466), (1109, 0.0033421177645755846), (3062, 0.003341537847325764), (2535, 0.00334059381686675), (2592, 0.0033367251168658074), (3967, 0.0033318866716127494), (3026, 0.003330009970489252), (857, 0.003328337334114322), (967, 0.003327657485686437), (62, 0.0033276551483189735), (2428, 0.0033262400265149654), (1580, 0.003325867379638402), (2890, 0.003325844851406897), (2159, 0.003323565311782419), (2049, 0.003322802574997455), (371, 0.003316607688635824), (476, 0.0033085205255464485), (3677, 0.003308447399106505), (4308, 0.003305310809895338), (1733, 0.003304761249939942), (2390, 0.003304135434264999), (3183, 0.0033005045870989), (4601, 0.0032989898702343807), (253, 0.0032953041295996446), (3234, 0.003294503641538472), (3714, 0.0032944344397596724), (318, 0.0032938298960921066), (1043, 0.0032937120618987065), (1866, 0.0032910884769823687), (1243, 0.0032874744603167767), (4133, 0.0032864643901261504), (1905, 0.003285987964128486), (3044, 0.0032854282517088365), (2293, 0.003285356229240688), (4522, 0.0032846140810149685), (499, 0.0032800699694023497), (3064, 0.003279626675865069), (2915, 0.0032776715260904557), (2748, 0.0032775046939907413), (3258, 0.0032774362572700632), (887, 0.003277255726838088), (2882, 0.003275231958909614), (2507, 0.003274137254598648), (8, 0.0032732847940421424), (4528, 0.0032732387019633793), (2888, 0.0032649030649736844), (3771, 0.0032645710282200075), (2705, 0.0032635332429486684), (192, 0.0032598823627226813), (4734, 0.0032572366785427725), (3271, 0.003256656584875842), (3893, 0.003256054335932923), (4024, 0.003254845711591778), (3757, 0.00325127363181021), (728, 0.0032508290079942556), (4579, 0.003248747864257391), (2776, 0.0032461796637649467), (3692, 0.003245223199487765), (1848, 0.0032445746413993313), (1907, 0.0032443016105046653), (4132, 0.0032442656587358537), (430, 0.0032440831672861077), (4161, 0.0032425001806724936), (2475, 0.0032413225867455988), (1995, 0.003240932758828523), (1359, 0.003238729315290499), (4540, 0.0032385736841552357), (4245, 0.0032383075834073374), (3184, 0.003237281175210974), (1798, 0.003235669853334914), (991, 0.0032353397251288257), (3496, 0.0032352728908380327), (395, 0.0032337482848550252), (1637, 0.0032330333888951897), (4269, 0.003232951436425053), (4371, 0.0032321049231464113), (3781, 0.0032293949074778607), (4495, 0.003228363270336436), (872, 0.003226692371520683), (4111, 0.003226577209586682), (1683, 0.0032252857822809436), (2260, 0.003224237371853728), (3904, 0.003223822861714676), (3728, 0.0032230160645473995), (3873, 0.0032228485158339575), (4680, 0.0032225842914066867), (4038, 0.003222251376487947), (2940, 0.003221516109120571), (4005, 0.0032205824290317186), (2949, 0.0032204226000455433), (3007, 0.003219918207687072), (2104, 0.0032188892398403324), (12, 0.0032186259033837477), (1324, 0.0032150819142475412), (2609, 0.0032148297123014255), (826, 0.003214436503105624), (3601, 0.003214414845966758), (2664, 0.0032132621073660893), (3235, 0.003213069786864965), (2970, 0.0032126298817346877), (1619, 0.003212010368160171), (4355, 0.0032109572763492746), (3987, 0.0032101543484983307), (2105, 0.0032094963601140324), (4175, 0.0032093830802835534), (3434, 0.0032065257763087465), (74, 0.003205530627114161), (246, 0.003205343263536754), (3590, 0.003201653073082703), (623, 0.0032011388279580724), (208, 0.003199883925861656), (2821, 0.003199717649098376), (1951, 0.0031978144882713134), (1896, 0.0031974487904319663), (2565, 0.003197304159718299), (2361, 0.003196982394333842), (3084, 0.003196711319761284), (3314, 0.003196603964459361), (4471, 0.0031961781287913778), (4505, 0.003190342106529518), (2953, 0.003190282897255905), (4575, 0.0031890527195029884), (2288, 0.003188055774163648), (2755, 0.0031870732480497807), (4052, 0.0031854685363969415), (4318, 0.0031848898042906477), (1822, 0.0031816740341744265), (3037, 0.003181476846916352), (1893, 0.0031789803823653877), (470, 0.0031788491983260783), (4566, 0.0031772860856193732), (2878, 0.0031771882303815754), (1916, 0.00317616963292449), (2394, 0.003175892896543603), (3511, 0.003172678321350841), (1670, 0.0031722965758419147), (3882, 0.003172141283075563), (3187, 0.0031717515837841963), (3654, 0.003169850188398497), (830, 0.0031683294018768865), (2419, 0.003166546536471012), (262, 0.003166330518993562), (3372, 0.0031654450147128423), (2633, 0.0031642390810954785), (1188, 0.0031635315214787367), (255, 0.003156189351692767), (1439, 0.0031558087812295337), (4430, 0.0031556653349654245), (3150, 0.0031534888337833907), (4354, 0.003152996716568895), (20, 0.0031525700529863063), (2926, 0.0031521173636369733), (3919, 0.003150750840914394), (1660, 0.0031491534956177517), (4448, 0.003147658286656853), (3599, 0.0031470182667924984), (3514, 0.0031465449876938367), (3351, 0.0031456887899090997), (2561, 0.0031444684770466674), (3241, 0.0031444123248713786), (4629, 0.0031442078278946534), (3845, 0.003143780058723002), (2601, 0.0031433246968412434), (4419, 0.0031421297242373333), (23, 0.003140876222462176), (2545, 0.0031401519342216), (4136, 0.003139816763187214), (3224, 0.003137976729764268), (1851, 0.0031378602002708335), (2911, 0.003136846348694307), (3902, 0.0031360218359691413), (4361, 0.0031357853742751216), (2904, 0.003134919849716862), (1048, 0.00313207249272319), (3778, 0.003130733179883132), (551, 0.003130200671985913), (3349, 0.003126998741949257), (1124, 0.003124787229429724), (4079, 0.0031244758803371762), (2148, 0.0031240239385431864), (2072, 0.003123166864508564), (3920, 0.0031219421950816778), (3517, 0.0031207496927000947), (1703, 0.0031184905952136343), (3689, 0.0031175519396350916), (1765, 0.0031173015644968844), (4340, 0.003117275734048096), (3527, 0.0031155820835061803), (4422, 0.0031146910030004295), (3198, 0.0031136108401511333), (4249, 0.0031098501101414233), (3636, 0.0031060805816269356), (377, 0.003105481748510691), (1494, 0.0031050259141744974), (1717, 0.0031041184017630953), (2048, 0.003102205680679355), (3290, 0.0031017605549491377), (3233, 0.003100710963778922), (4643, 0.0031003266238470474), (1946, 0.0030971871587155537), (176, 0.0030970405609646637), (871, 0.0030968596635644894), (2466, 0.0030953645049394173), (2230, 0.0030953644638005077), (2894, 0.0030929955952818445), (509, 0.0030909472545867407), (4563, 0.003090669088163662), (3701, 0.0030899418693617654), (3809, 0.003088082382830336), (71, 0.003087772969300819), (3445, 0.003086753182392817), (1355, 0.0030865204999479734), (2977, 0.0030860832972049866), (3000, 0.0030859701103178854), (4533, 0.0030846945200826057), (3526, 0.0030845291258442217), (4273, 0.0030843000868299355), (3542, 0.003083802234807988), (3571, 0.0030820221097996206), (2386, 0.003081491564322652), (1174, 0.00308124399263619), (1077, 0.0030791726102445977), (933, 0.0030781579834749466), (406, 0.0030751131460769643), (593, 0.0030742145476301817), (3113, 0.0030741557773464666), (3653, 0.0030724009124777755), (4283, 0.0030723335323584572), (3283, 0.0030700124516751227), (850, 0.003068390808413607), (2155, 0.0030667176083672316), (1087, 0.003064219774073236), (3643, 0.0030619435914708793), (2313, 0.0030600573121359487), (4049, 0.0030589146740974548), (1413, 0.003058876871808171), (1204, 0.0030580312225013825), (2430, 0.0030579664975309644), (2091, 0.003055980852960617), (4255, 0.003055388684225351), (579, 0.003055322648328384), (2887, 0.0030539993703049295), (2061, 0.003052760532474467), (4014, 0.003049594217910655), (1872, 0.0030484513178795003), (2652, 0.0030470777849936734), (4391, 0.0030459721667898164), (4501, 0.00304510711236164), (1722, 0.0030436377406379525), (2122, 0.0030427391277391825), (2745, 0.003042243181784795), (3551, 0.0030420102066569775), (2193, 0.003041447439145006), (2554, 0.003040576952042503), (2144, 0.0030402233004101316), (848, 0.0030396558011348456), (628, 0.0030388125827505983), (2109, 0.00303822583291386), (897, 0.0030369521087544194), (343, 0.0030368866655525314), (993, 0.0030361968917388426), (2606, 0.003034845859176831), (2169, 0.003033512723200924), (2783, 0.0030332332221856763), (2492, 0.0030328937521544564), (4686, 0.0030324051902053226), (4517, 0.0030322612333602643), (504, 0.003032244844306098), (2067, 0.00303215107751134), (4604, 0.0030303101599207243), (2826, 0.003030123885214161), (3125, 0.0030289173692101727), (378, 0.003026938377113391), (3491, 0.003025862613605962), (1131, 0.003024088532843042), (4715, 0.0030218056657906433), (4640, 0.0030196040053676585), (1170, 0.003017416285890925), (761, 0.00301447751373508), (3478, 0.003014036906914066), (2495, 0.0030137634378865964), (226, 0.00301361668938909), (3492, 0.0030103211616342913), (1163, 0.003008717655181635), (2387, 0.0030074755688710678), (3665, 0.0030068571008345295), (2195, 0.0030060826506416007), (3174, 0.0030059832222487422), (79, 0.0030046316557248505), (2900, 0.0030044452816599646), (2943, 0.003003197394654297), (1112, 0.0030019784708230166), (3673, 0.003001823232658177), (4511, 0.0029977877316012583), (1298, 0.002997331857249467), (2999, 0.002996938938832974), (4409, 0.0029961998644349955), (3299, 0.0029949830841542536), (346, 0.002994936160787091), (2289, 0.0029931583759644923), (1102, 0.0029913644919262994), (400, 0.0029863567258290383), (3624, 0.0029861005421977227), (490, 0.002984584966272105), (4520, 0.0029836957480299884), (1059, 0.002983512484750892), (3565, 0.002982902239423152), (1831, 0.002980122375820716), (1500, 0.002978015979171714), (4228, 0.0029776997322471625), (3067, 0.0029775347453183006), (1598, 0.0029752837494330564), (374, 0.0029737210156994295), (1550, 0.0029720336020879015), (1313, 0.0029700454083137805), (3173, 0.00296826085227301), (2173, 0.0029679568470517156), (2946, 0.002966193098632486), (3195, 0.002966091688111844), (2687, 0.0029653289497176016), (1100, 0.0029641476406101065), (4349, 0.002963730016664732), (1110, 0.002962598089172487), (3499, 0.002960945501697637), (4685, 0.0029591037623437557), (119, 0.002957036531539276), (1807, 0.002956394711420981), (3046, 0.0029561513955636692), (2980, 0.0029559955264736233), (3557, 0.0029556377369511955), (3827, 0.002955185963174254), (1286, 0.002954803139030674), (1882, 0.0029531055141172984), (98, 0.002951315092359895), (4362, 0.0029511994496558623), (2945, 0.0029503525775386), (26, 0.002949069666662148), (2087, 0.0029479333653728485), (4530, 0.002947700287841731), (2802, 0.0029471871434128237), (4687, 0.0029471094966253813), (2102, 0.0029465460219290983), (3447, 0.002945187801973963), (4036, 0.002944978524859617), (4641, 0.0029443449053658654), (3719, 0.0029418619950600552), (4309, 0.0029417824887577864), (2909, 0.0029395314093448883), (1653, 0.0029391892093830908), (3402, 0.002937109375973998), (1350, 0.0029359281745093093), (2103, 0.0029348419645792026), (127, 0.0029347359720509427), (1422, 0.0029346225837788395), (693, 0.0029335330261136797), (1096, 0.0029322375474531174), (4395, 0.0029321823619713203), (755, 0.0029291183474117275), (4693, 0.002927742862186658), (3075, 0.0029272399093513875), (2422, 0.0029257241909169734), (522, 0.002925718846563181), (292, 0.0029242583544177463), (349, 0.0029232278152814587), (4550, 0.0029219202623530192), (4573, 0.002921848829059356), (2912, 0.002918462428150967), (1030, 0.0029175537565652113), (4129, 0.0029173696514311906), (817, 0.0029167291096839428), (3890, 0.0029159518230031265), (4382, 0.0029144605955486974), (3028, 0.0029126000562084103), (3298, 0.0029114792157962214), (4069, 0.0029112299814232634), (3641, 0.0029108868802715754), (1969, 0.0029086927838282), (2653, 0.002908498294382684), (1060, 0.0029080279970310203), (2467, 0.002907941187385378), (3010, 0.0029064295866336096), (4461, 0.0029015711925351596), (3917, 0.002899345368751403), (3352, 0.0028984620367971015), (646, 0.002898449415123361), (3487, 0.002897890553731366), (4729, 0.002895135080141554), (782, 0.00289220805165815), (2117, 0.0028910976827773295), (3503, 0.0028901579147336594), (1446, 0.002888341269940935), (4670, 0.0028871475757541723), (487, 0.002885265744938763), (852, 0.0028831474658852505), (4567, 0.002880630053366968), (2309, 0.0028791655615168937), (3214, 0.0028774661339968787), (2779, 0.00287724270632167), (3268, 0.0028766891575532534), (798, 0.0028762903330783363), (2540, 0.002872603569821064), (1002, 0.0028717545815637835), (2473, 0.0028704677463802777), (3035, 0.0028693327302105956), (3784, 0.002868854563817486), (1273, 0.0028685068125234936), (164, 0.0028679706884804793), (3170, 0.002867365723166744), (4213, 0.002866015438867613), (221, 0.002865692467655927), (3036, 0.0028655650629529597), (2765, 0.0028649551532115925), (2242, 0.00286482637917398), (2068, 0.0028640335804568443), (505, 0.0028632701411795847), (644, 0.0028631994028500475), (4345, 0.0028589412423876124), (2859, 0.0028575156520976), (3799, 0.0028570600111044336), (2995, 0.002856548215439413), (2572, 0.0028551081156327294), (2679, 0.002852079761713223), (203, 0.0028518613881772146), (698, 0.002851649318613404), (2651, 0.0028516283179374977), (2133, 0.0028508349014671813), (1404, 0.0028490606244770305), (2997, 0.0028488153637687883), (1759, 0.0028478345612237416), (3014, 0.0028453284254701164), (3194, 0.002844853126637592), (3954, 0.002844579735693299), (3734, 0.002842754820863943), (2303, 0.00284263500968137), (387, 0.0028425854358754784), (3811, 0.002841365059018465), (2972, 0.002841018431464264), (2812, 0.0028404853320078433), (4257, 0.0028393024356085914), (2348, 0.002838969717217735), (3615, 0.002838282058464392), (2525, 0.002838142389611966), (3433, 0.002837988662968187), (31, 0.002834608037449271), (694, 0.0028343097586289753), (2899, 0.0028333099059338887), (2004, 0.002832800807738881), (507, 0.002830089729533107), (4254, 0.002830033409257967), (1203, 0.0028299197994459445), (1693, 0.0028299174117916315), (903, 0.002825255266672607), (941, 0.0028229385439655567), (734, 0.0028227270730550465), (975, 0.00282159403413077), (212, 0.0028206688386337273), (2496, 0.0028186451668660334), (1206, 0.002817557611644281), (963, 0.002817383200053228), (3399, 0.0028158989794620035), (4634, 0.0028124226982737944), (4603, 0.002811485093492306), (3452, 0.0028105213258137734), (229, 0.0028099599605157263), (2862, 0.002808916928327901), (372, 0.0028083053610452437), (598, 0.002808239287258107), (4591, 0.0028032114204495956), (1558, 0.0028017784067347344), (2446, 0.0027994175884451114), (2528, 0.002798988583397102), (2907, 0.002795320268357757), (2556, 0.002794787031876141), (589, 0.0027933159039985936), (399, 0.0027928142696767733), (1642, 0.0027895265719200197), (1514, 0.002789387523458205), (766, 0.002788805869944424), (3627, 0.0027887448586714635), (1448, 0.002784985058115045), (2735, 0.002782851603920428), (2399, 0.0027821849066654728), (2593, 0.002780803328105777), (15, 0.0027800393640018957), (1477, 0.0027800178002303643), (2482, 0.002778188657641815), (1114, 0.0027761112399212117), (2674, 0.002774490292876105), (4282, 0.002774437836479301), (4348, 0.002771770491829228), (907, 0.0027717355086370283), (4176, 0.002771440987685639), (2347, 0.0027707036139972764), (4649, 0.0027679657009350477), (1875, 0.0027677799414249915), (3455, 0.002767467201780982), (457, 0.0027663070906306054), (183, 0.0027642125329114366), (4326, 0.00276332639908522), (2362, 0.0027628566594667748), (416, 0.002761975938413639), (3050, 0.0027614170335425237), (3284, 0.0027604470479955056), (2920, 0.0027577241865323946), (2301, 0.0027570719007629333), (624, 0.0027568542197302934), (1782, 0.002756665418202775), (1065, 0.0027548096312707666), (3742, 0.0027530820109971836), (957, 0.0027521668806085274), (2954, 0.0027520651556125174), (1434, 0.0027518019848299384), (4359, 0.0027517191980306337), (465, 0.002751668295031295), (4638, 0.002749402671598229), (1730, 0.002747855310601468), (934, 0.002746924193301661), (1675, 0.0027457722306275145), (759, 0.002744184901045877), (3953, 0.0027423421305038183), (2011, 0.0027406638171934956), (1528, 0.002737589367059693), (2265, 0.0027361977313951364), (1538, 0.0027358050902209453), (2236, 0.0027350194593076843), (608, 0.0027321335223217556), (968, 0.0027302640497840983), (3614, 0.0027281156985144825), (3311, 0.0027264414600521544), (1826, 0.0027254730643524283), (1605, 0.002722951936370751), (428, 0.002721170371757864), (1161, 0.002720739824097006), (1719, 0.0027201463224683876), (2031, 0.0027198054392288773), (1366, 0.0027187872448865454), (4712, 0.00271515411093939), (2741, 0.002713798348568677), (1080, 0.002713327970883353), (4074, 0.0027124152533664373), (804, 0.0027108846995021144), (1625, 0.0027102531063700353), (2248, 0.002709676887530077), (3863, 0.002708402714727715), (4304, 0.002705116045386751), (885, 0.0027034438948293294), (1980, 0.0027033709394050556), (1808, 0.0027030781501331635), (3841, 0.0027029340056294363), (4080, 0.0027024631551639377), (1004, 0.002701530157990498), (2976, 0.0026999837483146125), (917, 0.002697835716705329), (3111, 0.002697613286978803), (594, 0.0026939914919218186), (4205, 0.0026921313341526968), (1934, 0.0026912273430087204), (856, 0.0026903698694751813), (268, 0.0026882184598137253), (672, 0.0026876136176947657), (1539, 0.0026875744478539764), (2724, 0.002678259790375986), (3380, 0.002675546246056665), (4104, 0.002671602362298035), (1394, 0.0026703657568412143), (1251, 0.0026671007314051794), (495, 0.0026657953418797236), (3755, 0.0026637806701081687), (1199, 0.002658811118493922), (92, 0.00265246356484527), (605, 0.0026520991666360923), (3, 0.0026496589741944894), (4066, 0.0026468945394088985), (3910, 0.002646125242761496), (97, 0.002645016777944889), (2237, 0.00264476354243799), (647, 0.0026445129548286223), (3894, 0.0026433694020592193), (1136, 0.00264235411645735), (4156, 0.002642032534546944), (1301, 0.0026332046554762294), (3880, 0.0026295658993581296), (4296, 0.002625348285411042), (3096, 0.0026200056463973574), (2721, 0.0026189350457927678), (4429, 0.0026169589622309043), (1217, 0.0026166684660671627), (1465, 0.0026131030022250776), (2520, 0.0026128079803051157), (2747, 0.002611628894086481), (103, 0.002610582385313128), (1397, 0.002606426903840757), (165, 0.002605512520016025), (2270, 0.0026041756510170352), (4386, 0.0025994706756362796), (1370, 0.002598836835601807), (278, 0.002595873800440331), (3238, 0.002593822034910285), (364, 0.002592985605973223), (3393, 0.0025922290685629497), (3629, 0.0025884899708586455), (286, 0.002586396091626457), (2611, 0.002585767089298695), (3569, 0.0025841510251671004), (4411, 0.0025821243207615353), (2382, 0.002581886222000201), (4476, 0.0025791107214482136), (60, 0.0025782831607673146), (4344, 0.0025764379437479474), (1627, 0.0025764164946367007), (1565, 0.0025762794123526814), (2146, 0.0025757724197257572), (3376, 0.002573764448386559), (1691, 0.002571746350376768), (432, 0.002564087430022317), (1352, 0.002560231327325004), (3065, 0.002560102084141087), (3344, 0.002559702550322241), (1340, 0.0025596448888991585), (1202, 0.0025565682779033856), (403, 0.0025546634164329146), (3669, 0.002554250264268597), (267, 0.0025542167766922233), (175, 0.002545060012181944), (951, 0.002544407877873946), (3657, 0.0025434946206554137), (4636, 0.002541729143751121), (707, 0.002535105171966523), (3091, 0.002522786472729175), (3928, 0.0025176587670578915), (2876, 0.00251727003839812), (1367, 0.002516990245204048), (4733, 0.002514868499089172), (16, 0.0025121563985841546), (616, 0.002511723622681112), (3252, 0.0025114563140414825), (44, 0.0025089634152404314), (2969, 0.0024998019722517416), (442, 0.0024991520657779444), (2563, 0.0024927441600268558), (4200, 0.002491966533816003), (1305, 0.0024917340071077478), (441, 0.0024906880380974345), (843, 0.0024786451553817685), (1241, 0.0024777661679340605), (2509, 0.0024768597708008343), (1427, 0.002470717217477104), (1415, 0.002469420022019948), (1464, 0.002468919697465305), (2526, 0.002466055098644092), (412, 0.002462384047413547), (1098, 0.002457764374471214), (1037, 0.002451803419122523), (3875, 0.0024498176481931467), (4311, 0.0024487365958665353), (2441, 0.002440686580314456), (4626, 0.002436818396819159), (3575, 0.002434968866754585), (3410, 0.0024254152678210733), (3431, 0.002420355285854813), (407, 0.0024183566577159524), (3538, 0.0024032873911342643), (1144, 0.002402986088708934), (63, 0.0023987659481825734), (3471, 0.00239646630099732), (1886, 0.002395616223547626), (2010, 0.002380222954327139), (3301, 0.002360237411923125), (2469, 0.0023598018015987383), (159, 0.002358930886727415), (1040, 0.0023540867422497383), (3152, 0.002351999943405702), (1747, 0.002345597235693553), (571, 0.002323863919894407), (607, 0.00232250307558655), (3316, 0.0023184836249847446), (1403, 0.002315722211704024), (2474, 0.0023124149262145717), (453, 0.0023047299046061987), (4652, 0.002303782653372598), (82, 0.00228720663860734), (4182, 0.0022866941761656196), (3285, 0.0022658717152838448), (1277, 0.0022539067955526966), (2550, 0.002253829977475415), (1648, 0.0022508422323509096), (3546, 0.002248697370088798), (4301, 0.0022361742865577034), (2902, 0.0022167374110891903), (641, 0.0021583411912289344), (831, 0.0021277769161468073), (129, 0.0021046961118041997), (858, 0.002035065992028769), (3328, 0.0019810802951944185), (3608, 0.0019631872633261017), (2538, 0.0018033865019348814), (1, 0.0), (17, 0.0), (22, 0.0), (27, 0.0), (28, 0.0), (36, 0.0), (39, 0.0), (56, 0.0), (67, 0.0), (69, 0.0), (73, 0.0), (77, 0.0), (78, 0.0), (80, 0.0), (90, 0.0), (91, 0.0), (93, 0.0), (94, 0.0), (95, 0.0), (100, 0.0), (101, 0.0), (102, 0.0), (110, 0.0), (117, 0.0), (118, 0.0), (128, 0.0), (133, 0.0), (134, 0.0), (135, 0.0), (141, 0.0), (150, 0.0), (151, 0.0), (152, 0.0), (153, 0.0), (171, 0.0), (177, 0.0), (179, 0.0), (188, 0.0), (189, 0.0), (219, 0.0), (220, 0.0), (223, 0.0), (225, 0.0), (234, 0.0), (239, 0.0), (241, 0.0), (257, 0.0), (258, 0.0), (260, 0.0), (261, 0.0), (263, 0.0), (264, 0.0), (265, 0.0), (275, 0.0), (284, 0.0), (289, 0.0), (290, 0.0), (295, 0.0), (297, 0.0), (298, 0.0), (299, 0.0), (300, 0.0), (303, 0.0), (310, 0.0), (312, 0.0), (313, 0.0), (328, 0.0), (331, 0.0), (335, 0.0), (337, 0.0), (339, 0.0), (340, 0.0), (362, 0.0), (363, 0.0), (365, 0.0), (379, 0.0), (382, 0.0), (383, 0.0), (390, 0.0), (397, 0.0), (411, 0.0), (413, 0.0), (414, 0.0), (423, 0.0), (424, 0.0), (426, 0.0), (459, 0.0), (460, 0.0), (462, 0.0), (467, 0.0), (491, 0.0), (498, 0.0), (512, 0.0), (514, 0.0), (521, 0.0), (525, 0.0), (529, 0.0), (531, 0.0), (536, 0.0), (540, 0.0), (546, 0.0), (549, 0.0), (554, 0.0), (555, 0.0), (559, 0.0), (565, 0.0), (567, 0.0), (568, 0.0), (572, 0.0), (574, 0.0), (575, 0.0), (586, 0.0), (591, 0.0), (599, 0.0), (600, 0.0), (601, 0.0), (602, 0.0), (603, 0.0), (615, 0.0), (619, 0.0), (630, 0.0), (635, 0.0), (650, 0.0), (663, 0.0), (671, 0.0), (674, 0.0), (677, 0.0), (681, 0.0), (686, 0.0), (687, 0.0), (699, 0.0), (700, 0.0), (704, 0.0), (708, 0.0), (720, 0.0), (724, 0.0), (725, 0.0), (741, 0.0), (746, 0.0), (754, 0.0), (756, 0.0), (758, 0.0), (768, 0.0), (770, 0.0), (771, 0.0), (776, 0.0), (778, 0.0), (779, 0.0), (784, 0.0), (819, 0.0), (821, 0.0), (836, 0.0), (839, 0.0), (840, 0.0), (841, 0.0), (849, 0.0), (855, 0.0), (882, 0.0), (909, 0.0), (914, 0.0), (943, 0.0), (945, 0.0), (950, 0.0), (954, 0.0), (958, 0.0), (960, 0.0), (961, 0.0), (964, 0.0), (965, 0.0), (970, 0.0), (974, 0.0), (977, 0.0), (982, 0.0), (992, 0.0), (995, 0.0), (996, 0.0), (997, 0.0), (1010, 0.0), (1012, 0.0), (1014, 0.0), (1022, 0.0), (1028, 0.0), (1031, 0.0), (1039, 0.0), (1056, 0.0), (1057, 0.0), (1066, 0.0), (1069, 0.0), (1070, 0.0), (1073, 0.0), (1091, 0.0), (1093, 0.0), (1095, 0.0), (1099, 0.0), (1101, 0.0), (1108, 0.0), (1111, 0.0), (1113, 0.0), (1126, 0.0), (1127, 0.0), (1142, 0.0), (1143, 0.0), (1146, 0.0), (1147, 0.0), (1149, 0.0), (1151, 0.0), (1152, 0.0), (1153, 0.0), (1154, 0.0), (1156, 0.0), (1158, 0.0), (1165, 0.0), (1166, 0.0), (1171, 0.0), (1181, 0.0), (1189, 0.0), (1190, 0.0), (1193, 0.0), (1198, 0.0), (1200, 0.0), (1201, 0.0), (1205, 0.0), (1210, 0.0), (1212, 0.0), (1222, 0.0), (1240, 0.0), (1242, 0.0), (1244, 0.0), (1253, 0.0), (1258, 0.0), (1262, 0.0), (1265, 0.0), (1268, 0.0), (1272, 0.0), (1274, 0.0), (1280, 0.0), (1285, 0.0), (1287, 0.0), (1289, 0.0), (1291, 0.0), (1297, 0.0), (1311, 0.0), (1315, 0.0), (1316, 0.0), (1321, 0.0), (1322, 0.0), (1323, 0.0), (1327, 0.0), (1328, 0.0), (1332, 0.0), (1336, 0.0), (1345, 0.0), (1346, 0.0), (1347, 0.0), (1358, 0.0), (1361, 0.0), (1363, 0.0), (1374, 0.0), (1380, 0.0), (1386, 0.0), (1389, 0.0), (1390, 0.0), (1395, 0.0), (1396, 0.0), (1399, 0.0), (1401, 0.0), (1407, 0.0), (1418, 0.0), (1424, 0.0), (1437, 0.0), (1441, 0.0), (1444, 0.0), (1447, 0.0), (1451, 0.0), (1452, 0.0), (1453, 0.0), (1466, 0.0), (1468, 0.0), (1470, 0.0), (1473, 0.0), (1485, 0.0), (1486, 0.0), (1487, 0.0), (1491, 0.0), (1502, 0.0), (1508, 0.0), (1512, 0.0), (1517, 0.0), (1521, 0.0), (1522, 0.0), (1526, 0.0), (1529, 0.0), (1530, 0.0), (1548, 0.0), (1549, 0.0), (1551, 0.0), (1552, 0.0), (1556, 0.0), (1559, 0.0), (1563, 0.0), (1564, 0.0), (1566, 0.0), (1568, 0.0), (1569, 0.0), (1573, 0.0), (1578, 0.0), (1579, 0.0), (1583, 0.0), (1584, 0.0), (1586, 0.0), (1588, 0.0), (1590, 0.0), (1596, 0.0), (1599, 0.0), (1601, 0.0), (1606, 0.0), (1607, 0.0), (1611, 0.0), (1613, 0.0), (1615, 0.0), (1618, 0.0), (1632, 0.0), (1636, 0.0), (1640, 0.0), (1644, 0.0), (1647, 0.0), (1651, 0.0), (1652, 0.0), (1662, 0.0), (1664, 0.0), (1668, 0.0), (1669, 0.0), (1676, 0.0), (1684, 0.0), (1686, 0.0), (1692, 0.0), (1696, 0.0), (1697, 0.0), (1699, 0.0), (1700, 0.0), (1701, 0.0), (1702, 0.0), (1704, 0.0), (1709, 0.0), (1713, 0.0), (1718, 0.0), (1720, 0.0), (1723, 0.0), (1726, 0.0), (1728, 0.0), (1734, 0.0), (1746, 0.0), (1749, 0.0), (1752, 0.0), (1753, 0.0), (1755, 0.0), (1766, 0.0), (1769, 0.0), (1770, 0.0), (1771, 0.0), (1785, 0.0), (1788, 0.0), (1790, 0.0), (1794, 0.0), (1800, 0.0), (1803, 0.0), (1804, 0.0), (1809, 0.0), (1820, 0.0), (1823, 0.0), (1834, 0.0), (1836, 0.0), (1837, 0.0), (1838, 0.0), (1839, 0.0), (1841, 0.0), (1842, 0.0), (1844, 0.0), (1849, 0.0), (1856, 0.0), (1863, 0.0), (1868, 0.0), (1880, 0.0), (1881, 0.0), (1883, 0.0), (1888, 0.0), (1889, 0.0), (1894, 0.0), (1904, 0.0), (1911, 0.0), (1914, 0.0), (1917, 0.0), (1928, 0.0), (1933, 0.0), (1938, 0.0), (1939, 0.0), (1944, 0.0), (1953, 0.0), (1955, 0.0), (1957, 0.0), (1962, 0.0), (1965, 0.0), (1966, 0.0), (1972, 0.0), (1982, 0.0), (1988, 0.0), (1999, 0.0), (2003, 0.0), (2012, 0.0), (2015, 0.0), (2018, 0.0), (2020, 0.0), (2021, 0.0), (2030, 0.0), (2032, 0.0), (2041, 0.0), (2042, 0.0), (2046, 0.0), (2050, 0.0), (2052, 0.0), (2056, 0.0), (2059, 0.0), (2062, 0.0), (2071, 0.0), (2084, 0.0), (2085, 0.0), (2090, 0.0), (2094, 0.0), (2098, 0.0), (2106, 0.0), (2124, 0.0), (2125, 0.0), (2136, 0.0), (2138, 0.0), (2139, 0.0), (2145, 0.0), (2153, 0.0), (2160, 0.0), (2164, 0.0), (2168, 0.0), (2170, 0.0), (2171, 0.0), (2172, 0.0), (2179, 0.0), (2185, 0.0), (2186, 0.0), (2198, 0.0), (2200, 0.0), (2204, 0.0), (2215, 0.0), (2217, 0.0), (2220, 0.0), (2227, 0.0), (2232, 0.0), (2233, 0.0), (2238, 0.0), (2241, 0.0), (2243, 0.0), (2244, 0.0), (2247, 0.0), (2253, 0.0), (2256, 0.0), (2259, 0.0), (2267, 0.0), (2272, 0.0), (2283, 0.0), (2290, 0.0), (2297, 0.0), (2298, 0.0), (2300, 0.0), (2305, 0.0), (2307, 0.0), (2311, 0.0), (2312, 0.0), (2328, 0.0), (2329, 0.0), (2332, 0.0), (2333, 0.0), (2335, 0.0), (2337, 0.0), (2339, 0.0), (2341, 0.0), (2342, 0.0), (2343, 0.0), (2345, 0.0), (2351, 0.0), (2357, 0.0), (2358, 0.0), (2360, 0.0), (2364, 0.0), (2365, 0.0), (2366, 0.0), (2371, 0.0), (2372, 0.0), (2373, 0.0), (2376, 0.0), (2380, 0.0), (2381, 0.0), (2384, 0.0), (2389, 0.0), (2395, 0.0), (2398, 0.0), (2409, 0.0), (2420, 0.0), (2421, 0.0), (2426, 0.0), (2431, 0.0), (2432, 0.0), (2433, 0.0), (2450, 0.0), (2451, 0.0), (2455, 0.0), (2458, 0.0), (2470, 0.0), (2471, 0.0), (2476, 0.0), (2479, 0.0), (2480, 0.0), (2483, 0.0), (2485, 0.0), (2497, 0.0), (2498, 0.0), (2500, 0.0), (2501, 0.0), (2503, 0.0), (2506, 0.0), (2508, 0.0), (2510, 0.0), (2514, 0.0), (2515, 0.0), (2516, 0.0), (2521, 0.0), (2523, 0.0), (2532, 0.0), (2536, 0.0), (2543, 0.0), (2544, 0.0), (2548, 0.0), (2551, 0.0), (2564, 0.0), (2566, 0.0), (2567, 0.0), (2573, 0.0), (2575, 0.0), (2576, 0.0), (2577, 0.0), (2578, 0.0), (2582, 0.0), (2583, 0.0), (2586, 0.0), (2588, 0.0), (2589, 0.0), (2590, 0.0), (2594, 0.0), (2597, 0.0), (2599, 0.0), (2605, 0.0), (2615, 0.0), (2618, 0.0), (2620, 0.0), (2627, 0.0), (2630, 0.0), (2631, 0.0), (2637, 0.0), (2639, 0.0), (2641, 0.0), (2646, 0.0), (2648, 0.0), (2656, 0.0), (2657, 0.0), (2658, 0.0), (2659, 0.0), (2662, 0.0), (2663, 0.0), (2665, 0.0), (2667, 0.0), (2672, 0.0), (2676, 0.0), (2677, 0.0), (2684, 0.0), (2685, 0.0), (2688, 0.0), (2689, 0.0), (2691, 0.0), (2700, 0.0), (2701, 0.0), (2703, 0.0), (2704, 0.0), (2708, 0.0), (2709, 0.0), (2710, 0.0), (2713, 0.0), (2715, 0.0), (2717, 0.0), (2718, 0.0), (2719, 0.0), (2726, 0.0), (2732, 0.0), (2737, 0.0), (2750, 0.0), (2754, 0.0), (2759, 0.0), (2763, 0.0), (2770, 0.0), (2773, 0.0), (2787, 0.0), (2793, 0.0), (2801, 0.0), (2805, 0.0), (2806, 0.0), (2810, 0.0), (2811, 0.0), (2813, 0.0), (2818, 0.0), (2819, 0.0), (2820, 0.0), (2823, 0.0), (2829, 0.0), (2835, 0.0), (2837, 0.0), (2850, 0.0), (2852, 0.0), (2855, 0.0), (2856, 0.0), (2864, 0.0), (2866, 0.0), (2867, 0.0), (2869, 0.0), (2875, 0.0), (2880, 0.0), (2885, 0.0), (2891, 0.0), (2896, 0.0), (2898, 0.0), (2905, 0.0), (2922, 0.0), (2927, 0.0), (2928, 0.0), (2935, 0.0), (2938, 0.0), (2947, 0.0), (2950, 0.0), (2951, 0.0), (2955, 0.0), (2956, 0.0), (2958, 0.0), (2960, 0.0), (2967, 0.0), (2983, 0.0), (2990, 0.0), (2991, 0.0), (3005, 0.0), (3006, 0.0), (3008, 0.0), (3009, 0.0), (3017, 0.0), (3022, 0.0), (3025, 0.0), (3029, 0.0), (3033, 0.0), (3034, 0.0), (3038, 0.0), (3039, 0.0), (3041, 0.0), (3047, 0.0), (3049, 0.0), (3053, 0.0), (3054, 0.0), (3058, 0.0), (3059, 0.0), (3061, 0.0), (3066, 0.0), (3068, 0.0), (3078, 0.0), (3080, 0.0), (3083, 0.0), (3087, 0.0), (3088, 0.0), (3089, 0.0), (3092, 0.0), (3098, 0.0), (3100, 0.0), (3102, 0.0), (3103, 0.0), (3105, 0.0), (3106, 0.0), (3107, 0.0), (3115, 0.0), (3126, 0.0), (3130, 0.0), (3132, 0.0), (3134, 0.0), (3135, 0.0), (3136, 0.0), (3138, 0.0), (3145, 0.0), (3160, 0.0), (3162, 0.0), (3163, 0.0), (3164, 0.0), (3168, 0.0), (3169, 0.0), (3176, 0.0), (3177, 0.0), (3179, 0.0), (3181, 0.0), (3185, 0.0), (3190, 0.0), (3191, 0.0), (3197, 0.0), (3201, 0.0), (3202, 0.0), (3203, 0.0), (3204, 0.0), (3207, 0.0), (3217, 0.0), (3222, 0.0), (3223, 0.0), (3229, 0.0), (3231, 0.0), (3236, 0.0), (3250, 0.0), (3251, 0.0), (3253, 0.0), (3255, 0.0), (3261, 0.0), (3263, 0.0), (3265, 0.0), (3266, 0.0), (3270, 0.0), (3277, 0.0), (3286, 0.0), (3287, 0.0), (3295, 0.0), (3305, 0.0), (3309, 0.0), (3310, 0.0), (3319, 0.0), (3320, 0.0), (3323, 0.0), (3324, 0.0), (3339, 0.0), (3345, 0.0), (3350, 0.0), (3361, 0.0), (3366, 0.0), (3368, 0.0), (3371, 0.0), (3378, 0.0), (3383, 0.0), (3394, 0.0), (3395, 0.0), (3398, 0.0), (3400, 0.0), (3404, 0.0), (3405, 0.0), (3411, 0.0), (3420, 0.0), (3422, 0.0), (3424, 0.0), (3428, 0.0), (3438, 0.0), (3439, 0.0), (3446, 0.0), (3448, 0.0), (3454, 0.0), (3459, 0.0), (3467, 0.0), (3469, 0.0), (3470, 0.0), (3473, 0.0), (3475, 0.0), (3476, 0.0), (3480, 0.0), (3481, 0.0), (3482, 0.0), (3485, 0.0), (3486, 0.0), (3489, 0.0), (3490, 0.0), (3494, 0.0), (3495, 0.0), (3502, 0.0), (3505, 0.0), (3510, 0.0), (3513, 0.0), (3520, 0.0), (3522, 0.0), (3528, 0.0), (3529, 0.0), (3532, 0.0), (3539, 0.0), (3545, 0.0), (3547, 0.0), (3549, 0.0), (3554, 0.0), (3559, 0.0), (3562, 0.0), (3566, 0.0), (3567, 0.0), (3568, 0.0), (3572, 0.0), (3573, 0.0), (3576, 0.0), (3578, 0.0), (3580, 0.0), (3581, 0.0), (3583, 0.0), (3584, 0.0), (3585, 0.0), (3588, 0.0), (3589, 0.0), (3591, 0.0), (3592, 0.0), (3603, 0.0), (3605, 0.0), (3607, 0.0), (3609, 0.0), (3622, 0.0), (3625, 0.0), (3628, 0.0), (3630, 0.0), (3632, 0.0), (3633, 0.0), (3649, 0.0), (3663, 0.0), (3664, 0.0), (3671, 0.0), (3676, 0.0), (3679, 0.0), (3681, 0.0), (3682, 0.0), (3686, 0.0), (3688, 0.0), (3703, 0.0), (3709, 0.0), (3715, 0.0), (3716, 0.0), (3717, 0.0), (3720, 0.0), (3721, 0.0), (3722, 0.0), (3723, 0.0), (3724, 0.0), (3726, 0.0), (3730, 0.0), (3735, 0.0), (3736, 0.0), (3738, 0.0), (3740, 0.0), (3743, 0.0), (3744, 0.0), (3746, 0.0), (3748, 0.0), (3752, 0.0), (3753, 0.0), (3759, 0.0), (3760, 0.0), (3761, 0.0), (3764, 0.0), (3776, 0.0), (3782, 0.0), (3783, 0.0), (3785, 0.0), (3786, 0.0), (3789, 0.0), (3791, 0.0), (3798, 0.0), (3800, 0.0), (3803, 0.0), (3805, 0.0), (3806, 0.0), (3814, 0.0), (3815, 0.0), (3818, 0.0), (3823, 0.0), (3825, 0.0), (3831, 0.0), (3833, 0.0), (3834, 0.0), (3837, 0.0), (3838, 0.0), (3843, 0.0), (3844, 0.0), (3846, 0.0), (3847, 0.0), (3851, 0.0), (3858, 0.0), (3859, 0.0), (3861, 0.0), (3869, 0.0), (3872, 0.0), (3879, 0.0), (3881, 0.0), (3886, 0.0), (3887, 0.0), (3891, 0.0), (3896, 0.0), (3897, 0.0), (3907, 0.0), (3908, 0.0), (3914, 0.0), (3918, 0.0), (3921, 0.0), (3923, 0.0), (3929, 0.0), (3930, 0.0), (3931, 0.0), (3933, 0.0), (3936, 0.0), (3937, 0.0), (3943, 0.0), (3948, 0.0), (3955, 0.0), (3958, 0.0), (3963, 0.0), (3964, 0.0), (3965, 0.0), (3968, 0.0), (3969, 0.0), (3970, 0.0), (3971, 0.0), (3972, 0.0), (3976, 0.0), (3977, 0.0), (3981, 0.0), (3982, 0.0), (3988, 0.0), (3989, 0.0), (3994, 0.0), (3995, 0.0), (3996, 0.0), (3998, 0.0), (4001, 0.0), (4003, 0.0), (4006, 0.0), (4008, 0.0), (4009, 0.0), (4010, 0.0), (4012, 0.0), (4018, 0.0), (4021, 0.0), (4026, 0.0), (4027, 0.0), (4028, 0.0), (4031, 0.0), (4034, 0.0), (4037, 0.0), (4039, 0.0), (4041, 0.0), (4044, 0.0), (4047, 0.0), (4050, 0.0), (4058, 0.0), (4061, 0.0), (4065, 0.0), (4072, 0.0), (4076, 0.0), (4077, 0.0), (4084, 0.0), (4090, 0.0), (4091, 0.0), (4100, 0.0), (4103, 0.0), (4106, 0.0), (4108, 0.0), (4120, 0.0), (4127, 0.0), (4131, 0.0), (4134, 0.0), (4146, 0.0), (4149, 0.0), (4150, 0.0), (4157, 0.0), (4158, 0.0), (4162, 0.0), (4166, 0.0), (4167, 0.0), (4170, 0.0), (4177, 0.0), (4179, 0.0), (4181, 0.0), (4185, 0.0), (4188, 0.0), (4190, 0.0), (4191, 0.0), (4193, 0.0), (4194, 0.0), (4196, 0.0), (4198, 0.0), (4201, 0.0), (4208, 0.0), (4211, 0.0), (4212, 0.0), (4215, 0.0), (4217, 0.0), (4223, 0.0), (4226, 0.0), (4229, 0.0), (4234, 0.0), (4236, 0.0), (4237, 0.0), (4238, 0.0), (4239, 0.0), (4250, 0.0), (4251, 0.0), (4253, 0.0), (4258, 0.0), (4260, 0.0), (4272, 0.0), (4276, 0.0), (4279, 0.0), (4281, 0.0), (4285, 0.0), (4290, 0.0), (4291, 0.0), (4297, 0.0), (4300, 0.0), (4302, 0.0), (4303, 0.0), (4305, 0.0), (4307, 0.0), (4312, 0.0), (4313, 0.0), (4315, 0.0), (4316, 0.0), (4317, 0.0), (4319, 0.0), (4323, 0.0), (4327, 0.0), (4331, 0.0), (4338, 0.0), (4339, 0.0), (4341, 0.0), (4342, 0.0), (4346, 0.0), (4347, 0.0), (4351, 0.0), (4352, 0.0), (4360, 0.0), (4367, 0.0), (4370, 0.0), (4372, 0.0), (4378, 0.0), (4383, 0.0), (4384, 0.0), (4385, 0.0), (4389, 0.0), (4392, 0.0), (4393, 0.0), (4404, 0.0), (4405, 0.0), (4406, 0.0), (4408, 0.0), (4410, 0.0), (4413, 0.0), (4415, 0.0), (4417, 0.0), (4424, 0.0), (4425, 0.0), (4426, 0.0), (4433, 0.0), (4434, 0.0), (4439, 0.0), (4447, 0.0), (4449, 0.0), (4451, 0.0), (4452, 0.0), (4453, 0.0), (4455, 0.0), (4456, 0.0), (4457, 0.0), (4462, 0.0), (4467, 0.0), (4478, 0.0), (4480, 0.0), (4482, 0.0), (4483, 0.0), (4485, 0.0), (4488, 0.0), (4491, 0.0), (4493, 0.0), (4499, 0.0), (4500, 0.0), (4506, 0.0), (4509, 0.0), (4513, 0.0), (4514, 0.0), (4518, 0.0), (4519, 0.0), (4524, 0.0), (4525, 0.0), (4526, 0.0), (4527, 0.0), (4532, 0.0), (4534, 0.0), (4537, 0.0), (4538, 0.0), (4539, 0.0), (4541, 0.0), (4547, 0.0), (4552, 0.0), (4556, 0.0), (4558, 0.0), (4559, 0.0), (4560, 0.0), (4561, 0.0), (4562, 0.0), (4568, 0.0), (4570, 0.0), (4578, 0.0), (4580, 0.0), (4586, 0.0), (4588, 0.0), (4595, 0.0), (4596, 0.0), (4609, 0.0), (4613, 0.0), (4618, 0.0), (4622, 0.0), (4630, 0.0), (4631, 0.0), (4635, 0.0), (4644, 0.0), (4645, 0.0), (4646, 0.0), (4647, 0.0), (4648, 0.0), (4651, 0.0), (4653, 0.0), (4654, 0.0), (4655, 0.0), (4665, 0.0), (4666, 0.0), (4671, 0.0), (4672, 0.0), (4676, 0.0), (4678, 0.0), (4681, 0.0), (4682, 0.0), (4688, 0.0), (4689, 0.0), (4690, 0.0), (4695, 0.0), (4698, 0.0), (4700, 0.0), (4702, 0.0), (4711, 0.0), (4714, 0.0), (4716, 0.0), (4726, 0.0), (4728, 0.0), (4730, 0.0), (4736, 0.0), (4740, 0.0), (4741, 0.0), (4742, 0.0), (4745, 0.0), (4746, 0.0), (4750, 0.0), (4751, 0.0), (4755, 0.0), (4758, 0.0), (4759, 0.0)]\n"
          ]
        }
      ]
    },
    {
      "cell_type": "code",
      "source": [
        "#print the name of similar moveis based on the index\n",
        "print('Top 30 Movies suggested for you : \\n')\n",
        "i = 1\n",
        "for movie in Sorted_Similar_Movies:\n",
        "  index = movie[0]\n",
        "  title_from_index = df[df.index == index]['Movie_Title'].values[0]\n",
        "  if (i<31):\n",
        "    print(i, '.',title_from_index)\n",
        "    i+=1"
      ],
      "metadata": {
        "colab": {
          "base_uri": "https://localhost:8080/"
        },
        "id": "d245WLZp85X_",
        "outputId": "7e128179-1207-46b8-f824-f3328401cfe0"
      },
      "execution_count": 39,
      "outputs": [
        {
          "output_type": "stream",
          "name": "stdout",
          "text": [
            "Top 30 Movies suggested for you : \n",
            "\n",
            "1 . Changeling\n",
            "2 . J. Edgar\n",
            "3 . Absolute Power\n",
            "4 . High Plains Drifter\n",
            "5 . Midnight in the Garden of Good and Evil\n",
            "6 . World's Greatest Dad\n",
            "7 . A Mighty Heart\n",
            "8 . Gran Torino\n",
            "9 . By the Sea\n",
            "10 . Blood Work\n",
            "11 . Space Cowboys\n",
            "12 . Pale Rider\n",
            "13 . Hackers\n",
            "14 . Escape from Alcatraz\n",
            "15 . Once Upon a Time in the West\n",
            "16 . The Net\n",
            "17 . Firefox\n",
            "18 . Being John Malkovich\n",
            "19 . The Bridges of Madison County\n",
            "20 . Beowulf\n",
            "21 . Unforgiven\n",
            "22 . Oscar and Lucinda\n",
            "23 . Trouble with the Curve\n",
            "24 . Cold Mountain\n",
            "25 . Four Christmases\n",
            "26 . Million Dollar Baby\n",
            "27 . Carrie\n",
            "28 . Life or Something Like It\n",
            "29 . Philomena\n",
            "30 . The Boy Next Door\n"
          ]
        }
      ]
    },
    {
      "cell_type": "code",
      "source": [
        "Movie_name = input('Enter your favourite movie name :')\n",
        "list_of_all_titles = df['Movie_Title'].tolist()\n",
        "Find_Close_Match = difflib.get_close_matches(Movie_name, list_of_all_titles)\n",
        "Close_Match = Find_Close_Match[0]\n",
        "Index_of_Movie = df[df.Movie_Title == Close_Match]['Movie_ID'].values[0]\n",
        "Recommendation_Score = list(enumerate(Similarity_score[Index_of_Movie]))\n",
        "Sorted_Similar_Movies = sorted(Recommendation_Score, key = lambda x:x[1], reverse = True)\n",
        "print('Top 10 Movies suggested for you : \\n')\n",
        "i = 1\n",
        "for movie in Sorted_Similar_Movies:\n",
        "  index = movie[0]\n",
        "  title_from_index = df[df.Movie_ID==index]['Movie_Title'].values\n",
        "  if (i<11):\n",
        "    print(i, '.',title_from_index)\n",
        "    i+=1"
      ],
      "metadata": {
        "colab": {
          "base_uri": "https://localhost:8080/"
        },
        "id": "22FNE-K99glb",
        "outputId": "0708da8c-5244-49bb-86ae-621f87b39079"
      },
      "execution_count": 40,
      "outputs": [
        {
          "output_type": "stream",
          "name": "stdout",
          "text": [
            "Enter your favourite movie name :Shutter Island\n",
            "Top 10 Movies suggested for you : \n",
            "\n",
            "1 . ['Shutter Island']\n",
            "2 . ['Driving Lessons']\n",
            "3 . ['Stargate: The Ark of Truth']\n",
            "4 . ['[REC]²']\n",
            "5 . ['The Skulls']\n",
            "6 . ['Mary Reilly']\n",
            "7 . ['Red Lights']\n",
            "8 . ['Little Women']\n",
            "9 . ['Indiana Jones and the Kingdom of the Crystal Skull']\n",
            "10 . ['Batman Begins']\n"
          ]
        }
      ]
    },
    {
      "cell_type": "markdown",
      "source": [
        "# THANKYOU!\n"
      ],
      "metadata": {
        "id": "wCe5sua--P4t"
      }
    }
  ]
}